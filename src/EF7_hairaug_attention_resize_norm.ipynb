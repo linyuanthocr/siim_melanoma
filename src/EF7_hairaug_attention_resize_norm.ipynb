{
  "nbformat": 4,
  "nbformat_minor": 0,
  "metadata": {
    "kernelspec": {
      "display_name": "Python 3",
      "language": "python",
      "name": "python3"
    },
    "language_info": {
      "codemirror_mode": {
        "name": "ipython",
        "version": 3
      },
      "file_extension": ".py",
      "mimetype": "text/x-python",
      "name": "python",
      "nbconvert_exporter": "python",
      "pygments_lexer": "ipython3",
      "version": "3.7.6"
    },
    "colab": {
      "name": "EF7-hairaug-attention-resize-norm.ipynb",
      "provenance": [],
      "collapsed_sections": []
    },
    "accelerator": "TPU"
  },
  "cells": [
    {
      "cell_type": "markdown",
      "metadata": {
        "id": "04EqFKTVcyV4",
        "colab_type": "text"
      },
      "source": [
        "# Triple Stratified KFold CV with TFRecords\n",
        "This is a simple starter notebook for Kaggle's Melanoma Comp showing triple stratifed KFold with TFRecords. Triple stratified KFold is explained [here][2]. There are many configuration variables below to allow you to experiment. Use either GPU or TPU. You can control which size images are loaded, which efficientNets are used, and whether external data is used. You can experiment with different data augmentation, model architecture, loss, optimizers, and learning schedules. The TFRecords contain meta data, so you can input that into your CNN too. \n",
        "\n",
        "**NOTE:** this notebook lets you run a different experiment in each fold if you want to run lots of experiments. (Then it is like running multiple holdout validaiton experiments but in that case note that the overall CV score is meaningless because LB will be much higher when the multiple experiments are ensembled to predict test). **If you want a proper CV with a reliable overall CV score you need to choose the same configuration for each fold.**\n",
        "\n",
        "This notebook follows the 5 step process presented in my \"How to compete with GPUs Workshop\" [here][1]. Some code sections have been reused from AgentAuers' great notebook [here][3]\n",
        "\n",
        "[1]: https://www.kaggle.com/cdeotte/how-to-compete-with-gpus-workshop\n",
        "[2]: https://www.kaggle.com/c/siim-isic-melanoma-classification/discussion/165526\n",
        "[3]: https://www.kaggle.com/agentauers/incredible-tpus-finetune-effnetb0-b6-at-once"
      ]
    },
    {
      "cell_type": "markdown",
      "metadata": {
        "id": "ddNMzdATcyV5",
        "colab_type": "text"
      },
      "source": [
        "# Kaggle's SIIM-ISIC Melanoma Classification\n",
        "In this competition, we need to identify melanoma in images of skin lesions. Full description [here][1]. This is a very challenging image classification task as seen by looking at the sample images below. Can you recognize the differences between images? Below are example of skin images with and without melanoma.\n",
        "\n",
        "[1]: https://www.kaggle.com/c/siim-isic-melanoma-classification"
      ]
    },
    {
      "cell_type": "code",
      "metadata": {
        "id": "D9Y2qZ-XgLwe",
        "colab_type": "code",
        "colab": {}
      },
      "source": [
        "Kaggle = False\n",
        "Colab = !Kaggle"
      ],
      "execution_count": 1,
      "outputs": []
    },
    {
      "cell_type": "code",
      "metadata": {
        "id": "a6NJSycSgRs-",
        "colab_type": "code",
        "colab": {
          "base_uri": "https://localhost:8080/",
          "height": 34
        },
        "outputId": "27ff85c5-4b1d-4e0d-97a4-8479fe8537e8"
      },
      "source": [
        "import os, sys\n",
        "from pathlib import Path\n",
        "\n",
        "if Colab:\n",
        "    from google.colab import drive\n",
        "    drive.mount('/content/drive')\n",
        "\n",
        "    path = \"/content/drive/My Drive\"\n",
        "    os.chdir(path)\n",
        "    os.listdir(path)\n",
        "else:\n",
        "    from kaggle_datasets import KaggleDatasets"
      ],
      "execution_count": 2,
      "outputs": [
        {
          "output_type": "stream",
          "text": [
            "Drive already mounted at /content/drive; to attempt to forcibly remount, call drive.mount(\"/content/drive\", force_remount=True).\n"
          ],
          "name": "stdout"
        }
      ]
    },
    {
      "cell_type": "code",
      "metadata": {
        "id": "Rzt-spb4gqcF",
        "colab_type": "code",
        "colab": {}
      },
      "source": [
        "if Kaggle:\n",
        "    BASEPATH = \"../input/siim-isic-melanoma-classification\"\n",
        "    outdir = '.'\n",
        "else:\n",
        "    PATH = 'siim/'\n",
        "    BASEPATH = PATH + 'siim-isic-melanoma-classification'\n",
        "    outdir = Path(PATH+'res')\n",
        "    if not os.path.exists(outdir):\n",
        "        os.mkdir(outdir)\n",
        "    outdir = Path(PATH+'res/efficientnet-res')\n",
        "    if not os.path.exists(outdir):\n",
        "        os.mkdir(outdir)\n",
        "    MODELNAME = \"EF7-512\"\n",
        "    VERSION = '{}'.format(MODELNAME)\n",
        "    outdir = os.path.join(outdir, VERSION)\n",
        "    if not os.path.exists(outdir):\n",
        "        os.mkdir(outdir)\n",
        "    # from datetime import datetime, timedelta\n",
        "    # dateTimeObj = datetime.now()\n",
        "    # timestampStr = dateTimeObj.strftime(\"%d-%b-%Y-%H\")\n",
        "    timestampStr = 'all-kfold-hairaug-norm'\n",
        "    outdir = os.path.join(outdir, timestampStr)\n",
        "    if not os.path.exists(outdir):\n",
        "        os.mkdir(outdir)   "
      ],
      "execution_count": 3,
      "outputs": []
    },
    {
      "cell_type": "code",
      "metadata": {
        "_kg_hide-input": true,
        "id": "GfUY9MhhcyV5",
        "colab_type": "code",
        "colab": {}
      },
      "source": [
        "import cv2, pandas as pd, matplotlib.pyplot as plt\n",
        "if Kaggle:\n",
        "    train = pd.read_csv('../input/siim-isic-melanoma-classification/train.csv')\n",
        "    print('Examples WITH Melanoma')\n",
        "    imgs = train.loc[train.target==1].sample(10).image_name.values\n",
        "    plt.figure(figsize=(20,8))\n",
        "    for i,k in enumerate(imgs):\n",
        "        img = cv2.imread('../input/jpeg-melanoma-128x128/train/%s.jpg'%k)\n",
        "        img = cv2.cvtColor(img, cv2.COLOR_RGB2BGR)\n",
        "        plt.subplot(2,5,i+1); plt.axis('off')\n",
        "        plt.imshow(img)\n",
        "    plt.show()\n",
        "    print('Examples WITHOUT Melanoma')\n",
        "    imgs = train.loc[train.target==0].sample(10).image_name.values\n",
        "    plt.figure(figsize=(20,8))\n",
        "    for i,k in enumerate(imgs):\n",
        "        img = cv2.imread('../input/jpeg-melanoma-128x128/train/%s.jpg'%k)\n",
        "        img = cv2.cvtColor(img, cv2.COLOR_RGB2BGR)\n",
        "        plt.subplot(2,5,i+1); plt.axis('off')\n",
        "        plt.imshow(img)\n",
        "    plt.show()"
      ],
      "execution_count": 4,
      "outputs": []
    },
    {
      "cell_type": "markdown",
      "metadata": {
        "id": "dytwWT6ScyV9",
        "colab_type": "text"
      },
      "source": [
        "# Initialize Environment"
      ]
    },
    {
      "cell_type": "code",
      "metadata": {
        "_cell_guid": "b1076dfc-b9ad-4769-8c92-a6c4dae69d19",
        "_uuid": "8f2839f25d086af736a60e9eeb907d3b93b6e0e5",
        "id": "MW5DqtzDcyV-",
        "colab_type": "code",
        "colab": {}
      },
      "source": [
        "!pip install -q efficientnet >> /dev/null"
      ],
      "execution_count": 5,
      "outputs": []
    },
    {
      "cell_type": "code",
      "metadata": {
        "id": "ZTMTR7XvcyWA",
        "colab_type": "code",
        "colab": {}
      },
      "source": [
        "import pandas as pd, numpy as np\n",
        "# from kaggle_datasets import KaggleDatasets\n",
        "import tensorflow as tf, re, math\n",
        "import tensorflow.keras.backend as K\n",
        "import efficientnet.tfkeras as efn\n",
        "from sklearn.model_selection import KFold\n",
        "from sklearn.metrics import roc_auc_score\n",
        "import matplotlib.pyplot as plt"
      ],
      "execution_count": 6,
      "outputs": []
    },
    {
      "cell_type": "code",
      "metadata": {
        "id": "ec0AbCaLgHbt",
        "colab_type": "code",
        "colab": {}
      },
      "source": [
        "SEED = 42\n",
        "\n",
        "def seed_everything(seed):\n",
        "    random.seed(seed)\n",
        "    np.random.seed(seed)\n",
        "    os.environ['PYTHONHASHSEED'] = str(seed)\n",
        "    tf.random.set_seed(seed)"
      ],
      "execution_count": 7,
      "outputs": []
    },
    {
      "cell_type": "markdown",
      "metadata": {
        "id": "PNvq_zzdcyWC",
        "colab_type": "text"
      },
      "source": [
        "## Configuration\n",
        "In order to be a proper cross validation with a meaningful overall CV score (aligned with LB score), **you need to choose the same** `IMG_SIZES`, `INC2019`, `INC2018`, and `EFF_NETS` **for each fold**. If your goal is to just run lots of experiments, then you can choose to have a different experiment in each fold. Then each fold is like a holdout validation experiment. When you find a configuration you like, you can use that configuration for all folds. \n",
        "* DEVICE - is GPU or TPU\n",
        "* SEED - a different seed produces a different triple stratified kfold split.\n",
        "* FOLDS - number of folds. Best set to 3, 5, or 15 but can be any number between 2 and 15\n",
        "* IMG_SIZES - is a Python list of length FOLDS. These are the image sizes to use each fold\n",
        "* INC2019 - This includes the new half of the 2019 competition data. The second half of the 2019 data is the comp data from 2018 plus 2017\n",
        "* INC2018 - This includes the second half of the 2019 competition data which is the comp data from 2018 plus 2017\n",
        "* BATCH_SIZES - is a list of length FOLDS. These are batch sizes for each fold. For maximum speed, it is best to use the largest batch size your GPU or TPU allows.\n",
        "* EPOCHS - is a list of length FOLDS. These are maximum epochs. Note that each fold, the best epoch model is saved and used. So if epochs is too large, it won't matter.\n",
        "* EFF_NETS - is a list of length FOLDS. These are the EfficientNets to use each fold. The number refers to the B. So a number of `0` refers to EfficientNetB0, and `1` refers to EfficientNetB1, etc.\n",
        "* WGTS - this should be `1/FOLDS` for each fold. This is the weight when ensembling the folds to predict the test set. If you want a weird ensemble, you can use different weights.\n",
        "* TTA - test time augmentation. Each test image is randomly augmented and predicted TTA times and the average prediction is used. TTA is also applied to OOF during validation."
      ]
    },
    {
      "cell_type": "code",
      "metadata": {
        "_cell_guid": "79c7e3d0-c299-4dcb-8224-4455121ee9b0",
        "_uuid": "d629ff2d2480ee46fbb7e2d37f6b5fab8052498a",
        "id": "Za0oW5GbcyWC",
        "colab_type": "code",
        "colab": {}
      },
      "source": [
        "DEVICE = \"TPU\" #or \"GPU\"\n",
        "\n",
        "# USE DIFFERENT SEED FOR DIFFERENT STRATIFIED KFOLD\n",
        "# SEED = 42\n",
        "\n",
        "# NUMBER OF FOLDS. USE 3, 5, OR 15 \n",
        "FOLDS = 5\n",
        "\n",
        "# WHICH IMAGE SIZES TO LOAD EACH FOLD\n",
        "# CHOOSE 128, 192, 256, 384, 512, 768 \n",
        "# IMG_SIZES = [384,384,384,384,384]\n",
        "IMG_SIZES = [600,600,600,600,600]\n",
        "img_read_size = 768\n",
        "IMG_READ_SIZES = [img_read_size,img_read_size,img_read_size,img_read_size,img_read_size]\n",
        "img_crop_size = 584\n",
        "\n",
        "# INCLUDE OLD COMP DATA? YES=1 NO=0\n",
        "INC2019 = [0,0,0,0,0]\n",
        "INC2018 = [1,1,1,1,1]\n",
        "\n",
        "# BATCH SIZE AND EPOCHS\n",
        "BATCH_SIZES = [8]*FOLDS\n",
        "EPOCHS = [22]*FOLDS\n",
        "\n",
        "# WHICH EFFICIENTNET B? TO USE\n",
        "EFF_NETS = [7,7,7,7,7]\n",
        "\n",
        "# WEIGHTS FOR FOLD MODELS WHEN PREDICTING TEST\n",
        "WGTS = [1/FOLDS]*FOLDS\n",
        "\n",
        "# TEST TIME AUGMENTATION STEPS\n",
        "TTA = 25\n",
        "\n",
        "n_max = 10"
      ],
      "execution_count": 8,
      "outputs": []
    },
    {
      "cell_type": "code",
      "metadata": {
        "id": "ReUSAMU-cyWE",
        "colab_type": "code",
        "colab": {
          "base_uri": "https://localhost:8080/",
          "height": 782
        },
        "outputId": "2981ca93-06fc-476b-ce8a-c9fa359fe07e"
      },
      "source": [
        "if DEVICE == \"TPU\":\n",
        "    print(\"connecting to TPU...\")\n",
        "    try:\n",
        "        tpu = tf.distribute.cluster_resolver.TPUClusterResolver()\n",
        "        print('Running on TPU ', tpu.master())\n",
        "    except ValueError:\n",
        "        print(\"Could not connect to TPU\")\n",
        "        tpu = None\n",
        "\n",
        "    if tpu:\n",
        "        try:\n",
        "            print(\"initializing  TPU ...\")\n",
        "            tf.config.experimental_connect_to_cluster(tpu)\n",
        "            tf.tpu.experimental.initialize_tpu_system(tpu)\n",
        "            strategy = tf.distribute.experimental.TPUStrategy(tpu)\n",
        "            print(\"TPU initialized\")\n",
        "        except _:\n",
        "            print(\"failed to initialize TPU\")\n",
        "    else:\n",
        "        DEVICE = \"GPU\"\n",
        "\n",
        "if DEVICE != \"TPU\":\n",
        "    print(\"Using default strategy for CPU and single GPU\")\n",
        "    strategy = tf.distribute.get_strategy()\n",
        "\n",
        "if DEVICE == \"GPU\":\n",
        "    print(\"Num GPUs Available: \", len(tf.config.experimental.list_physical_devices('GPU')))\n",
        "    \n",
        "\n",
        "AUTO     = tf.data.experimental.AUTOTUNE\n",
        "REPLICAS = strategy.num_replicas_in_sync\n",
        "print(f'REPLICAS: {REPLICAS}')"
      ],
      "execution_count": 9,
      "outputs": [
        {
          "output_type": "stream",
          "text": [
            "connecting to TPU...\n",
            "Running on TPU  grpc://10.48.8.42:8470\n",
            "initializing  TPU ...\n",
            "INFO:tensorflow:Initializing the TPU system: grpc://10.48.8.42:8470\n"
          ],
          "name": "stdout"
        },
        {
          "output_type": "stream",
          "text": [
            "INFO:tensorflow:Initializing the TPU system: grpc://10.48.8.42:8470\n"
          ],
          "name": "stderr"
        },
        {
          "output_type": "stream",
          "text": [
            "INFO:tensorflow:Clearing out eager caches\n"
          ],
          "name": "stdout"
        },
        {
          "output_type": "stream",
          "text": [
            "INFO:tensorflow:Clearing out eager caches\n"
          ],
          "name": "stderr"
        },
        {
          "output_type": "stream",
          "text": [
            "INFO:tensorflow:Finished initializing TPU system.\n"
          ],
          "name": "stdout"
        },
        {
          "output_type": "stream",
          "text": [
            "INFO:tensorflow:Finished initializing TPU system.\n"
          ],
          "name": "stderr"
        },
        {
          "output_type": "stream",
          "text": [
            "INFO:tensorflow:Found TPU system:\n"
          ],
          "name": "stdout"
        },
        {
          "output_type": "stream",
          "text": [
            "INFO:tensorflow:Found TPU system:\n"
          ],
          "name": "stderr"
        },
        {
          "output_type": "stream",
          "text": [
            "INFO:tensorflow:*** Num TPU Cores: 8\n"
          ],
          "name": "stdout"
        },
        {
          "output_type": "stream",
          "text": [
            "INFO:tensorflow:*** Num TPU Cores: 8\n"
          ],
          "name": "stderr"
        },
        {
          "output_type": "stream",
          "text": [
            "INFO:tensorflow:*** Num TPU Workers: 1\n"
          ],
          "name": "stdout"
        },
        {
          "output_type": "stream",
          "text": [
            "INFO:tensorflow:*** Num TPU Workers: 1\n"
          ],
          "name": "stderr"
        },
        {
          "output_type": "stream",
          "text": [
            "INFO:tensorflow:*** Num TPU Cores Per Worker: 8\n"
          ],
          "name": "stdout"
        },
        {
          "output_type": "stream",
          "text": [
            "INFO:tensorflow:*** Num TPU Cores Per Worker: 8\n"
          ],
          "name": "stderr"
        },
        {
          "output_type": "stream",
          "text": [
            "INFO:tensorflow:*** Available Device: _DeviceAttributes(/job:localhost/replica:0/task:0/device:CPU:0, CPU, 0, 0)\n"
          ],
          "name": "stdout"
        },
        {
          "output_type": "stream",
          "text": [
            "INFO:tensorflow:*** Available Device: _DeviceAttributes(/job:localhost/replica:0/task:0/device:CPU:0, CPU, 0, 0)\n"
          ],
          "name": "stderr"
        },
        {
          "output_type": "stream",
          "text": [
            "INFO:tensorflow:*** Available Device: _DeviceAttributes(/job:localhost/replica:0/task:0/device:XLA_CPU:0, XLA_CPU, 0, 0)\n"
          ],
          "name": "stdout"
        },
        {
          "output_type": "stream",
          "text": [
            "INFO:tensorflow:*** Available Device: _DeviceAttributes(/job:localhost/replica:0/task:0/device:XLA_CPU:0, XLA_CPU, 0, 0)\n"
          ],
          "name": "stderr"
        },
        {
          "output_type": "stream",
          "text": [
            "INFO:tensorflow:*** Available Device: _DeviceAttributes(/job:worker/replica:0/task:0/device:CPU:0, CPU, 0, 0)\n"
          ],
          "name": "stdout"
        },
        {
          "output_type": "stream",
          "text": [
            "INFO:tensorflow:*** Available Device: _DeviceAttributes(/job:worker/replica:0/task:0/device:CPU:0, CPU, 0, 0)\n"
          ],
          "name": "stderr"
        },
        {
          "output_type": "stream",
          "text": [
            "INFO:tensorflow:*** Available Device: _DeviceAttributes(/job:worker/replica:0/task:0/device:TPU:0, TPU, 0, 0)\n"
          ],
          "name": "stdout"
        },
        {
          "output_type": "stream",
          "text": [
            "INFO:tensorflow:*** Available Device: _DeviceAttributes(/job:worker/replica:0/task:0/device:TPU:0, TPU, 0, 0)\n"
          ],
          "name": "stderr"
        },
        {
          "output_type": "stream",
          "text": [
            "INFO:tensorflow:*** Available Device: _DeviceAttributes(/job:worker/replica:0/task:0/device:TPU:1, TPU, 0, 0)\n"
          ],
          "name": "stdout"
        },
        {
          "output_type": "stream",
          "text": [
            "INFO:tensorflow:*** Available Device: _DeviceAttributes(/job:worker/replica:0/task:0/device:TPU:1, TPU, 0, 0)\n"
          ],
          "name": "stderr"
        },
        {
          "output_type": "stream",
          "text": [
            "INFO:tensorflow:*** Available Device: _DeviceAttributes(/job:worker/replica:0/task:0/device:TPU:2, TPU, 0, 0)\n"
          ],
          "name": "stdout"
        },
        {
          "output_type": "stream",
          "text": [
            "INFO:tensorflow:*** Available Device: _DeviceAttributes(/job:worker/replica:0/task:0/device:TPU:2, TPU, 0, 0)\n"
          ],
          "name": "stderr"
        },
        {
          "output_type": "stream",
          "text": [
            "INFO:tensorflow:*** Available Device: _DeviceAttributes(/job:worker/replica:0/task:0/device:TPU:3, TPU, 0, 0)\n"
          ],
          "name": "stdout"
        },
        {
          "output_type": "stream",
          "text": [
            "INFO:tensorflow:*** Available Device: _DeviceAttributes(/job:worker/replica:0/task:0/device:TPU:3, TPU, 0, 0)\n"
          ],
          "name": "stderr"
        },
        {
          "output_type": "stream",
          "text": [
            "INFO:tensorflow:*** Available Device: _DeviceAttributes(/job:worker/replica:0/task:0/device:TPU:4, TPU, 0, 0)\n"
          ],
          "name": "stdout"
        },
        {
          "output_type": "stream",
          "text": [
            "INFO:tensorflow:*** Available Device: _DeviceAttributes(/job:worker/replica:0/task:0/device:TPU:4, TPU, 0, 0)\n"
          ],
          "name": "stderr"
        },
        {
          "output_type": "stream",
          "text": [
            "INFO:tensorflow:*** Available Device: _DeviceAttributes(/job:worker/replica:0/task:0/device:TPU:5, TPU, 0, 0)\n"
          ],
          "name": "stdout"
        },
        {
          "output_type": "stream",
          "text": [
            "INFO:tensorflow:*** Available Device: _DeviceAttributes(/job:worker/replica:0/task:0/device:TPU:5, TPU, 0, 0)\n"
          ],
          "name": "stderr"
        },
        {
          "output_type": "stream",
          "text": [
            "INFO:tensorflow:*** Available Device: _DeviceAttributes(/job:worker/replica:0/task:0/device:TPU:6, TPU, 0, 0)\n"
          ],
          "name": "stdout"
        },
        {
          "output_type": "stream",
          "text": [
            "INFO:tensorflow:*** Available Device: _DeviceAttributes(/job:worker/replica:0/task:0/device:TPU:6, TPU, 0, 0)\n"
          ],
          "name": "stderr"
        },
        {
          "output_type": "stream",
          "text": [
            "INFO:tensorflow:*** Available Device: _DeviceAttributes(/job:worker/replica:0/task:0/device:TPU:7, TPU, 0, 0)\n"
          ],
          "name": "stdout"
        },
        {
          "output_type": "stream",
          "text": [
            "INFO:tensorflow:*** Available Device: _DeviceAttributes(/job:worker/replica:0/task:0/device:TPU:7, TPU, 0, 0)\n"
          ],
          "name": "stderr"
        },
        {
          "output_type": "stream",
          "text": [
            "INFO:tensorflow:*** Available Device: _DeviceAttributes(/job:worker/replica:0/task:0/device:TPU_SYSTEM:0, TPU_SYSTEM, 0, 0)\n"
          ],
          "name": "stdout"
        },
        {
          "output_type": "stream",
          "text": [
            "INFO:tensorflow:*** Available Device: _DeviceAttributes(/job:worker/replica:0/task:0/device:TPU_SYSTEM:0, TPU_SYSTEM, 0, 0)\n"
          ],
          "name": "stderr"
        },
        {
          "output_type": "stream",
          "text": [
            "INFO:tensorflow:*** Available Device: _DeviceAttributes(/job:worker/replica:0/task:0/device:XLA_CPU:0, XLA_CPU, 0, 0)\n"
          ],
          "name": "stdout"
        },
        {
          "output_type": "stream",
          "text": [
            "INFO:tensorflow:*** Available Device: _DeviceAttributes(/job:worker/replica:0/task:0/device:XLA_CPU:0, XLA_CPU, 0, 0)\n"
          ],
          "name": "stderr"
        },
        {
          "output_type": "stream",
          "text": [
            "TPU initialized\n",
            "REPLICAS: 8\n"
          ],
          "name": "stdout"
        }
      ]
    },
    {
      "cell_type": "markdown",
      "metadata": {
        "id": "SDqbHpQ2cyWH",
        "colab_type": "text"
      },
      "source": [
        "# Step 1: Preprocess\n",
        "Preprocess has already been done and saved to TFRecords. Here we choose which size to load. We can use either 128x128, 192x192, 256x256, 384x384, 512x512, 768x768 by changing the `IMG_SIZES` variable in the preceeding code section. These TFRecords are discussed [here][1]. The advantage of using different input sizes is discussed [here][2]\n",
        "\n",
        "[1]: https://www.kaggle.com/c/siim-isic-melanoma-classification/discussion/155579\n",
        "[2]: https://www.kaggle.com/c/siim-isic-melanoma-classification/discussion/160147"
      ]
    },
    {
      "cell_type": "code",
      "metadata": {
        "id": "D6NyQ2JYhmJ8",
        "colab_type": "code",
        "colab": {}
      },
      "source": [
        "## melanoma dataset\n",
        "gcs_path = []\n",
        "gcs_path.append('gs://kds-2b28e4519749435c2fb543681ca66aaee6159d9fcc906d5b26f8916e') #192\n",
        "gcs_path.append('gs://kds-dffc4fc041639d63f5cb739622149422dbd485d2bd7f66a514c67fae') #256\n",
        "gcs_path.append('gs://kds-30a0c9f78d3675d10f6b6546877a20d24100810cef730172979b36af') #384\n",
        "gcs_path.append('gs://kds-df537acf009e02b1d4427274d18970a1b0101b1ca26824bae39b5b4b') #512\n",
        "gcs_path.append('gs://kds-79662e42fc05f15bf1149504a028b04213a0218d96b9180368ce47a5') #768\n",
        "\n",
        "## isic dataset\n",
        "gcs_path2 = []\n",
        "gcs_path2.append('gs://kds-c9c10ac29c6818441da475638226dfcf3d12806980a23f179a21d826') #192-2018\n",
        "gcs_path2.append('gs://kds-c85f3ec67d1d7853bb9f2b928a1d69ac62ae7d52146c54a65b69f5bb') #256-2018\n",
        "gcs_path2.append('gs://kds-9fc526a7f92f5454bc790655a916878883ad270d1e13c91e7d527659') #384-2018\n",
        "gcs_path2.append('gs://kds-25423645f76650f9220fbd3613366c3c5a524b3a7d7663b6e3137c57') #512-2018\n",
        "gcs_path2.append('gs://kds-d647c34c4541dfa651df0eeb57cb8f7702660f0881153486056f8448') #768-2019 \n",
        "\n",
        "gcs_path_dict = {192:0,256:1,384:2,512:3,768:4}\n",
        "\n",
        "gcs_path_hairs = 'gs://kds-0f1845648605e1d5c6a531816acb4e993458e02c32d8f4d5bc6bf4cf'"
      ],
      "execution_count": 10,
      "outputs": []
    },
    {
      "cell_type": "code",
      "metadata": {
        "id": "1fTzdLUoeCkd",
        "colab_type": "code",
        "colab": {}
      },
      "source": [
        "# Roman's images of hairs\n",
        "hair_images=tf.io.gfile.glob(gcs_path_hairs + '/*.png')"
      ],
      "execution_count": 11,
      "outputs": []
    },
    {
      "cell_type": "code",
      "metadata": {
        "id": "VnZ3oWjgi3Pq",
        "colab_type": "code",
        "colab": {
          "base_uri": "https://localhost:8080/",
          "height": 51
        },
        "outputId": "7e107748-bea8-4d22-a502-110dad0c7dd2"
      },
      "source": [
        "print(gcs_path[gcs_path_dict[512]])\n",
        "print(gcs_path2[gcs_path_dict[512]])"
      ],
      "execution_count": 12,
      "outputs": [
        {
          "output_type": "stream",
          "text": [
            "gs://kds-df537acf009e02b1d4427274d18970a1b0101b1ca26824bae39b5b4b\n",
            "gs://kds-25423645f76650f9220fbd3613366c3c5a524b3a7d7663b6e3137c57\n"
          ],
          "name": "stdout"
        }
      ]
    },
    {
      "cell_type": "code",
      "metadata": {
        "id": "pEkJsv8TcyWH",
        "colab_type": "code",
        "colab": {}
      },
      "source": [
        "GCS_PATH = [None]*FOLDS; GCS_PATH2 = [None]*FOLDS\n",
        "if Kaggle:\n",
        "    for i,k in enumerate(IMG_READ_SIZES):\n",
        "        GCS_PATH[i] = KaggleDatasets().get_gcs_path('melanoma-%ix%i'%(k,k))\n",
        "        GCS_PATH2[i] = KaggleDatasets().get_gcs_path('isic2019-%ix%i'%(k,k))\n",
        "else:\n",
        "    for i,k in enumerate(IMG_READ_SIZES):\n",
        "        GCS_PATH[i] = gcs_path[gcs_path_dict[k]]\n",
        "        GCS_PATH2[i] = gcs_path2[gcs_path_dict[k]]\n",
        "files_train = np.sort(np.array(tf.io.gfile.glob(GCS_PATH[0] + '/train*.tfrec')))\n",
        "files_test  = np.sort(np.array(tf.io.gfile.glob(GCS_PATH[0] + '/test*.tfrec')))"
      ],
      "execution_count": 13,
      "outputs": []
    },
    {
      "cell_type": "markdown",
      "metadata": {
        "id": "ppruI7h9cyWK",
        "colab_type": "text"
      },
      "source": [
        "# Step 2: Data Augmentation\n",
        "This notebook uses rotation, sheer, zoom, shift augmentation first shown in this notebook [here][1] and successfully used in Melanoma comp by AgentAuers [here][2]. This notebook also uses horizontal flip, hue, saturation, contrast, brightness augmentation similar to last years winner and also similar to AgentAuers' notebook.\n",
        "\n",
        "Additionally we can decide to use external data by changing the variables `INC2019` and `INC2018` in the preceeding code section. These variables respectively indicate whether to load last year 2019 data and/or year 2018 + 2017 data. These datasets are discussed [here][3]\n",
        "\n",
        "Consider experimenting with different augmenation and/or external data. The code to load TFRecords is taken from AgentAuers' notebook [here][2]. Thank you AgentAuers, this is great work.\n",
        "\n",
        "[1]: https://www.kaggle.com/cdeotte/rotation-augmentation-gpu-tpu-0-96\n",
        "[2]: https://www.kaggle.com/agentauers/incredible-tpus-finetune-effnetb0-b6-at-once\n",
        "[3]: https://www.kaggle.com/c/siim-isic-melanoma-classification/discussion/164910"
      ]
    },
    {
      "cell_type": "code",
      "metadata": {
        "id": "TIJIwohycyWK",
        "colab_type": "code",
        "colab": {}
      },
      "source": [
        "ROT_ = 180.0\n",
        "SHR_ = 2.0\n",
        "HZOOM_ = 8.0\n",
        "WZOOM_ = 8.0\n",
        "HSHIFT_ = 8.0\n",
        "WSHIFT_ = 8.0"
      ],
      "execution_count": 14,
      "outputs": []
    },
    {
      "cell_type": "code",
      "metadata": {
        "id": "l09A-4e4cyWM",
        "colab_type": "code",
        "colab": {}
      },
      "source": [
        "def get_mat(rotation, shear, height_zoom, width_zoom, height_shift, width_shift):\n",
        "    # returns 3x3 transformmatrix which transforms indicies\n",
        "        \n",
        "    # CONVERT DEGREES TO RADIANS\n",
        "    rotation = math.pi * rotation / 180.\n",
        "    shear    = math.pi * shear    / 180.\n",
        "\n",
        "    def get_3x3_mat(lst):\n",
        "        return tf.reshape(tf.concat([lst],axis=0), [3,3])\n",
        "    \n",
        "    # ROTATION MATRIX\n",
        "    c1   = tf.math.cos(rotation)\n",
        "    s1   = tf.math.sin(rotation)\n",
        "    one  = tf.constant([1],dtype='float32')\n",
        "    zero = tf.constant([0],dtype='float32')\n",
        "    \n",
        "    rotation_matrix = get_3x3_mat([c1,   s1,   zero, \n",
        "                                   -s1,  c1,   zero, \n",
        "                                   zero, zero, one])    \n",
        "    # SHEAR MATRIX\n",
        "    c2 = tf.math.cos(shear)\n",
        "    s2 = tf.math.sin(shear)    \n",
        "    \n",
        "    shear_matrix = get_3x3_mat([one,  s2,   zero, \n",
        "                                zero, c2,   zero, \n",
        "                                zero, zero, one])        \n",
        "    # ZOOM MATRIX\n",
        "    zoom_matrix = get_3x3_mat([one/height_zoom, zero,           zero, \n",
        "                               zero,            one/width_zoom, zero, \n",
        "                               zero,            zero,           one])    \n",
        "    # SHIFT MATRIX\n",
        "    shift_matrix = get_3x3_mat([one,  zero, height_shift, \n",
        "                                zero, one,  width_shift, \n",
        "                                zero, zero, one])\n",
        "    \n",
        "    return K.dot(K.dot(rotation_matrix, shear_matrix), \n",
        "                 K.dot(zoom_matrix,     shift_matrix))\n",
        "\n",
        "\n",
        "def transform(image, DIM=256):    \n",
        "    # input image - is one image of size [dim,dim,3] not a batch of [b,dim,dim,3]\n",
        "    # output - image randomly rotated, sheared, zoomed, and shifted\n",
        "    XDIM = DIM%2 #fix for size 331\n",
        "    \n",
        "    rot = ROT_ * tf.random.normal([1], dtype='float32')\n",
        "    shr = SHR_ * tf.random.normal([1], dtype='float32') \n",
        "    h_zoom = 1.0 + tf.random.normal([1], dtype='float32') / HZOOM_\n",
        "    w_zoom = 1.0 + tf.random.normal([1], dtype='float32') / WZOOM_\n",
        "    h_shift = HSHIFT_ * tf.random.normal([1], dtype='float32') \n",
        "    w_shift = WSHIFT_ * tf.random.normal([1], dtype='float32') \n",
        "\n",
        "    # GET TRANSFORMATION MATRIX\n",
        "    m = get_mat(rot,shr,h_zoom,w_zoom,h_shift,w_shift) \n",
        "\n",
        "    # LIST DESTINATION PIXEL INDICES\n",
        "    x   = tf.repeat(tf.range(DIM//2, -DIM//2,-1), DIM)\n",
        "    y   = tf.tile(tf.range(-DIM//2, DIM//2), [DIM])\n",
        "    z   = tf.ones([DIM*DIM], dtype='int32')\n",
        "    idx = tf.stack( [x,y,z] )\n",
        "    \n",
        "    # ROTATE DESTINATION PIXELS ONTO ORIGIN PIXELS\n",
        "    idx2 = K.dot(m, tf.cast(idx, dtype='float32'))\n",
        "    idx2 = K.cast(idx2, dtype='int32')\n",
        "    idx2 = K.clip(idx2, -DIM//2+XDIM+1, DIM//2)\n",
        "    \n",
        "    # FIND ORIGIN PIXEL VALUES           \n",
        "    idx3 = tf.stack([DIM//2-idx2[0,], DIM//2-1+idx2[1,]])\n",
        "    d    = tf.gather_nd(image, tf.transpose(idx3))\n",
        "        \n",
        "    return tf.reshape(d,[DIM, DIM,3])"
      ],
      "execution_count": 15,
      "outputs": []
    },
    {
      "cell_type": "code",
      "metadata": {
        "id": "ZtTqOZ8sdDsQ",
        "colab_type": "code",
        "colab": {}
      },
      "source": [
        "hair_images_tf=tf.convert_to_tensor(hair_images)\n",
        "scale=tf.cast(IMG_SIZES[0]/256, dtype=tf.int32)"
      ],
      "execution_count": 16,
      "outputs": []
    },
    {
      "cell_type": "code",
      "metadata": {
        "id": "8RVYoGnzcr0J",
        "colab_type": "code",
        "colab": {}
      },
      "source": [
        "def hair_aug(image):\n",
        "    # Copy the input image, so it won't be changed\n",
        "    img=tf.identity(image) \n",
        "    # Randomly choose the number of hairs to augment (up to n_max)\n",
        "    n_hairs = tf.random.uniform(shape=[], maxval=tf.constant(n_max)+1, \n",
        "                                dtype=tf.int32)\n",
        "    \n",
        "    im_height=tf.shape(img)[1]\n",
        "    im_width=tf.shape(img)[0]\n",
        "    \n",
        "    if n_hairs == 0:\n",
        "        return image\n",
        "\n",
        "    for _ in tf.range(n_hairs):\n",
        "\n",
        "        # Read a random hair image\n",
        "        i=tf.random.uniform(shape=[], maxval=tf.shape(hair_images_tf)[0], \n",
        "                            dtype=tf.int32)\n",
        "        fname=hair_images_tf[i]\n",
        "\n",
        "        bits = tf.io.read_file(fname)\n",
        "        hair = tf.image.decode_jpeg(bits)\n",
        "        \n",
        "        # Rescale the hair image to the right size (256 -- original size)\n",
        "        new_width=scale*tf.shape(hair)[1]\n",
        "        new_height=scale*tf.shape(hair)[0]\n",
        "        hair = tf.image.resize(hair, [new_height, new_width])\n",
        "\n",
        "        \n",
        "        # Random flips of the hair image\n",
        "        hair = tf.image.random_flip_left_right(hair)\n",
        "        hair = tf.image.random_flip_up_down(hair)\n",
        "        # Random number of 90 degree rotations\n",
        "        n_rot=tf.random.uniform(shape=[], maxval=4,\n",
        "                                dtype=tf.int32)\n",
        "        hair = tf.image.rot90(hair, k=n_rot)\n",
        "        \n",
        "        h_height=tf.shape(hair)[0]\n",
        "        h_width=tf.shape(hair)[1]\n",
        "        \n",
        "        roi_h0 = tf.random.uniform(shape=[], maxval=im_height - h_height + 1, \n",
        "                                    dtype=tf.int32)\n",
        "        roi_w0 = tf.random.uniform(shape=[], maxval=im_width - h_width + 1, \n",
        "                                    dtype=tf.int32)\n",
        "\n",
        "\n",
        "        roi = img[roi_h0:(roi_h0 + h_height), roi_w0:(roi_w0 + h_width)]  \n",
        "\n",
        "        # Convert the hair image to grayscale \n",
        "        # (slice to remove the trainsparency channel)\n",
        "        hair2gray = tf.image.rgb_to_grayscale(hair[:, :, :3])\n",
        "\n",
        "        mask=hair2gray>10\n",
        "\n",
        "        img_bg = tf.multiply(roi, tf.cast(tf.image.grayscale_to_rgb(~mask),\n",
        "                                          dtype=tf.float32))\n",
        "        hair_fg = tf.multiply(tf.cast(hair[:, :, :3], dtype=tf.int32),\n",
        "                              tf.cast(tf.image.grayscale_to_rgb(mask), \n",
        "                                      dtype=tf.int32\n",
        "                                      )\n",
        "                             )\n",
        "\n",
        "        dst = tf.add(img_bg, tf.cast(hair_fg, dtype=tf.float32)/255)\n",
        "\n",
        "        paddings = tf.stack([\n",
        "            [roi_h0, im_height-(roi_h0 + h_height)], \n",
        "            [roi_w0, im_width-(roi_w0 + h_width)],\n",
        "            [0, 0]\n",
        "        ])\n",
        "\n",
        "        # Pad dst with zeros to make it the same shape as image.\n",
        "        dst_padded=tf.pad(dst, paddings, \"CONSTANT\")\n",
        "        # Create a boolean mask with zeros at the pixels of\n",
        "        # the augmentation segment and ones everywhere else\n",
        "        mask_img=tf.pad(tf.ones_like(dst), paddings, \"CONSTANT\")\n",
        "        mask_img=~tf.cast(mask_img, dtype=tf.bool)\n",
        "        # Make a hole in the original image at the location\n",
        "        # of the augmentation segment\n",
        "        img_hole=tf.multiply(img, tf.cast(mask_img, dtype=tf.float32))\n",
        "        # Inserting the augmentation segment in place of the hole\n",
        "        img=tf.add(img_hole, dst_padded)\n",
        "        \n",
        "    return img"
      ],
      "execution_count": 17,
      "outputs": []
    },
    {
      "cell_type": "code",
      "metadata": {
        "id": "pItWn1kVcyWR",
        "colab_type": "code",
        "colab": {}
      },
      "source": [
        "def read_labeled_tfrecord(example):\n",
        "    tfrec_format = {\n",
        "        'image'                        : tf.io.FixedLenFeature([], tf.string),\n",
        "        'image_name'                   : tf.io.FixedLenFeature([], tf.string),\n",
        "        'patient_id'                   : tf.io.FixedLenFeature([], tf.int64),\n",
        "        'sex'                          : tf.io.FixedLenFeature([], tf.int64),\n",
        "        'age_approx'                   : tf.io.FixedLenFeature([], tf.int64),\n",
        "        'anatom_site_general_challenge': tf.io.FixedLenFeature([], tf.int64),\n",
        "        'diagnosis'                    : tf.io.FixedLenFeature([], tf.int64),\n",
        "        'target'                       : tf.io.FixedLenFeature([], tf.int64)\n",
        "    }           \n",
        "    example = tf.io.parse_single_example(example, tfrec_format)\n",
        "    return example['image'], example['target']\n",
        "\n",
        "\n",
        "def read_unlabeled_tfrecord(example, return_image_name):\n",
        "    tfrec_format = {\n",
        "        'image'                        : tf.io.FixedLenFeature([], tf.string),\n",
        "        'image_name'                   : tf.io.FixedLenFeature([], tf.string),\n",
        "    }\n",
        "    example = tf.io.parse_single_example(example, tfrec_format)\n",
        "    return example['image'], example['image_name'] if return_image_name else 0\n",
        "\n",
        "def norm_image(img):\n",
        "    mean = [0.485, 0.456, 0.406]\n",
        "    std = [0.229, 0.224, 0.225]\n",
        "    img -= mean\n",
        "    img /= std\n",
        "    # mean_tensor = K.constant(-np.array(mean), tf.float32)\n",
        "    # std_tensor = K.constant(np.array(std), tf.float32)\n",
        "    # img = K.bias_add(img, mean_tensor, \"channels_last\")\n",
        "    # img /= std_tensor\n",
        "    return img\n",
        "\n",
        "def prepare_image(img, augment=True, dim=256):    \n",
        "    img = tf.image.decode_jpeg(img, channels=3)\n",
        "    img = tf.image.resize(img, [dim, dim])\n",
        "    img = tf.cast(img, tf.float32) / 255.0\n",
        "    if augment:\n",
        "        img = hair_aug(img)\n",
        "        img = transform(img,DIM=dim)\n",
        "        img = tf.image.random_crop(img, [img_crop_size, img_crop_size, 3])\n",
        "        img = tf.image.random_flip_left_right(img)\n",
        "        img = tf.image.random_hue(img, 0.01)\n",
        "        img = tf.image.random_saturation(img, 0.7, 1.3)\n",
        "        img = tf.image.random_contrast(img, 0.8, 1.2)\n",
        "        img = tf.image.random_brightness(img, 0.1)\n",
        "    else:\n",
        "        img = tf.image.central_crop(img, img_crop_size / img_read_size)  \n",
        "    img = norm_image(img)               \n",
        "    img = tf.image.resize(img, [dim, dim])\n",
        "    img = tf.reshape(img, [dim, dim, 3])\n",
        "    return img\n",
        "\n",
        "def count_data_items(filenames):\n",
        "    n = [int(re.compile(r\"-([0-9]*)\\.\").search(filename).group(1)) \n",
        "         for filename in filenames]\n",
        "    return np.sum(n)"
      ],
      "execution_count": 18,
      "outputs": []
    },
    {
      "cell_type": "code",
      "metadata": {
        "id": "8bz-PQgIcyWT",
        "colab_type": "code",
        "colab": {}
      },
      "source": [
        "def get_dataset(files, augment = False, shuffle = False, repeat = False, \n",
        "                labeled=True, return_image_names=True, batch_size=16, dim=256):\n",
        "    \n",
        "    ds = tf.data.TFRecordDataset(files, num_parallel_reads=AUTO)\n",
        "    ds = ds.cache()\n",
        "    \n",
        "    if repeat:\n",
        "        ds = ds.repeat()\n",
        "    \n",
        "    if shuffle: \n",
        "        ds = ds.shuffle(1024*8)\n",
        "        opt = tf.data.Options()\n",
        "        opt.experimental_deterministic = False\n",
        "        ds = ds.with_options(opt)\n",
        "        \n",
        "    if labeled: \n",
        "        ds = ds.map(read_labeled_tfrecord, num_parallel_calls=AUTO)\n",
        "    else:\n",
        "        ds = ds.map(lambda example: read_unlabeled_tfrecord(example, return_image_names), \n",
        "                    num_parallel_calls=AUTO)      \n",
        "    \n",
        "    ds = ds.map(lambda img, imgname_or_label: (prepare_image(img, augment=augment, dim=dim), \n",
        "                                               imgname_or_label), \n",
        "                num_parallel_calls=AUTO)\n",
        "    \n",
        "    ds = ds.batch(batch_size * REPLICAS)\n",
        "    ds = ds.prefetch(AUTO)\n",
        "    return ds"
      ],
      "execution_count": 19,
      "outputs": []
    },
    {
      "cell_type": "markdown",
      "metadata": {
        "id": "FFgy_7kFcyWV",
        "colab_type": "text"
      },
      "source": [
        "# Step 3: Build Model\n",
        "This is a common model architecute. Consider experimenting with different backbones, custom heads, losses, and optimizers. Also consider inputing meta features into your CNN."
      ]
    },
    {
      "cell_type": "code",
      "metadata": {
        "id": "Glbpo35fuBiE",
        "colab_type": "code",
        "colab": {}
      },
      "source": [
        "_DECAY = 0.0001\n",
        "\n",
        "\n",
        "class AttentionModel(tf.keras.Model):\n",
        "  \"\"\"Instantiates attention model.\n",
        "  Uses two [kernel_size x kernel_size] convolutions and softplus as activation\n",
        "  to compute an attention map with the same resolution as the featuremap.\n",
        "  Features l2-normalized and aggregated using attention probabilites as weights.\n",
        "  \"\"\"\n",
        "\n",
        "  def __init__(self, kernel_size=1, decay=_DECAY, name='attention'):\n",
        "    \"\"\"Initialization of attention model.\n",
        "    Args:\n",
        "      kernel_size: int, kernel size of convolutions.\n",
        "      decay: float, decay for l2 regularization of kernel weights.\n",
        "      name: str, name to identify model.\n",
        "    \"\"\"\n",
        "    super(AttentionModel, self).__init__(name=name)\n",
        "\n",
        "    # First convolutional layer (called with relu activation).\n",
        "    self.conv1 = tf.keras.layers.Conv2D(\n",
        "        512,\n",
        "        kernel_size,\n",
        "        kernel_regularizer=tf.keras.regularizers.l2(decay),\n",
        "        padding='same',\n",
        "        name='attn_conv1')\n",
        "    self.bn_conv1 = tf.keras.layers.BatchNormalization(axis=3, name='bn_conv1')\n",
        "\n",
        "    # Second convolutional layer, with softplus activation.\n",
        "    self.conv2 = tf.keras.layers.Conv2D(\n",
        "        1,\n",
        "        kernel_size,\n",
        "        kernel_regularizer=tf.keras.regularizers.l2(decay),\n",
        "        padding='same',\n",
        "        name='attn_conv2')\n",
        "    self.activation_layer = tf.keras.layers.Activation('softplus')\n",
        "\n",
        "  def call(self, inputs, training=True):\n",
        "    x = self.conv1(inputs)\n",
        "    x = self.bn_conv1(x, training=training)\n",
        "    x = tf.nn.relu(x)\n",
        "\n",
        "    score = self.conv2(x)\n",
        "    prob = self.activation_layer(score)\n",
        "\n",
        "    # L2-normalize the featuremap before pooling.\n",
        "    inputs = tf.nn.l2_normalize(inputs, axis=-1)\n",
        "    feat = tf.multiply(inputs, prob)\n",
        "    # feat = tf.reduce_mean(tf.multiply(inputs, prob), [1, 2], keepdims=False)\n",
        "\n",
        "    return feat, prob, score"
      ],
      "execution_count": 20,
      "outputs": []
    },
    {
      "cell_type": "code",
      "metadata": {
        "id": "0Cw2N5q6cyWW",
        "colab_type": "code",
        "colab": {}
      },
      "source": [
        "EFNS = [efn.EfficientNetB0, efn.EfficientNetB1, efn.EfficientNetB2, efn.EfficientNetB3, \n",
        "        efn.EfficientNetB4, efn.EfficientNetB5, efn.EfficientNetB6, efn.EfficientNetB7]\n",
        "\n",
        "def build_model(dim=128, ef=0):\n",
        "    inp = tf.keras.layers.Input(shape=(dim,dim,3))\n",
        "    base = EFNS[ef](input_shape=(dim,dim,3),weights='imagenet',include_top=False)\n",
        "    x = base(inp)\n",
        "    attention_model = AttentionModel(name='attention')\n",
        "    x, _, _ = attention_model(x)\n",
        "    x = tf.keras.layers.GlobalAveragePooling2D()(x)\n",
        "    x = tf.keras.layers.Dense(1,activation='sigmoid')(x)\n",
        "    model = tf.keras.Model(inputs=inp,outputs=x)\n",
        "    opt = tf.keras.optimizers.Adam(learning_rate=0.001)\n",
        "    loss = tf.keras.losses.BinaryCrossentropy(label_smoothing=0.05) \n",
        "    model.compile(optimizer=opt,loss=loss,metrics=['AUC'])\n",
        "    return model"
      ],
      "execution_count": 21,
      "outputs": []
    },
    {
      "cell_type": "markdown",
      "metadata": {
        "id": "uoshHz2UcyWY",
        "colab_type": "text"
      },
      "source": [
        "# Step 4: Train Schedule\n",
        "This is a common train schedule for transfer learning. The learning rate starts near zero, then increases to a maximum, then decays over time. Consider changing the schedule and/or learning rates. Note how the learning rate max is larger with larger batches sizes. This is a good practice to follow."
      ]
    },
    {
      "cell_type": "code",
      "metadata": {
        "id": "AxdFOD4YcyWY",
        "colab_type": "code",
        "colab": {}
      },
      "source": [
        "def get_lr_callback(batch_size=8):\n",
        "    lr_start   = 0.000005\n",
        "    lr_max     = 0.00000125 * REPLICAS * batch_size\n",
        "    lr_min     = 0.000001\n",
        "    lr_ramp_ep = 5\n",
        "    lr_sus_ep  = 0\n",
        "    lr_decay   = 0.8\n",
        "   \n",
        "    def lrfn(epoch):\n",
        "        if epoch < lr_ramp_ep:\n",
        "            lr = (lr_max - lr_start) / lr_ramp_ep * epoch + lr_start\n",
        "            \n",
        "        elif epoch < lr_ramp_ep + lr_sus_ep:\n",
        "            lr = lr_max\n",
        "            \n",
        "        else:\n",
        "            lr = (lr_max - lr_min) * lr_decay**(epoch - lr_ramp_ep - lr_sus_ep) + lr_min\n",
        "            \n",
        "        return lr\n",
        "\n",
        "    lr_callback = tf.keras.callbacks.LearningRateScheduler(lrfn, verbose=False)\n",
        "    return lr_callback"
      ],
      "execution_count": 22,
      "outputs": []
    },
    {
      "cell_type": "markdown",
      "metadata": {
        "id": "wf9IVyn1cyWa",
        "colab_type": "text"
      },
      "source": [
        "## Train Model\n",
        "Our model will be trained for the number of FOLDS and EPOCHS you chose in the configuration above. Each fold the model with lowest validation loss will be saved and used to predict OOF and test. Adjust the variables `VERBOSE` and `DISPLOY_PLOT` below to determine what output you want displayed. The variable `VERBOSE=1 or 2` will display the training and validation loss and auc for each epoch as text. The variable `DISPLAY_PLOT` shows this information as a plot. "
      ]
    },
    {
      "cell_type": "code",
      "metadata": {
        "id": "x3f0lQ4n2kFB",
        "colab_type": "code",
        "colab": {}
      },
      "source": [
        "import gc\n",
        "TRAIN = False"
      ],
      "execution_count": 23,
      "outputs": []
    },
    {
      "cell_type": "code",
      "metadata": {
        "id": "KSCL5beIcyWa",
        "colab_type": "code",
        "colab": {
          "base_uri": "https://localhost:8080/",
          "height": 663
        },
        "outputId": "8f550964-ac9f-48dd-d140-b8186f991004"
      },
      "source": [
        "# USE VERBOSE=0 for silent, VERBOSE=1 for interactive, VERBOSE=2 for commit\n",
        "VERBOSE = 1\n",
        "DISPLAY_PLOT = TRAIN\n",
        "\n",
        "# skf = KFold(n_splits=FOLDS,shuffle=True,random_state=SEED)\n",
        "# oof_pred = []; oof_tar = []; oof_val = []; oof_names = []; oof_folds = [] \n",
        "# preds = np.zeros((count_data_items(files_test),1))\n",
        "\n",
        "for fold,(idxT,idxV) in enumerate(skf.split(np.arange(15))):\n",
        "    if fold < 3:\n",
        "        continue\n",
        "    # DISPLAY FOLD INFO\n",
        "    if DEVICE=='TPU':\n",
        "        if tpu: tf.tpu.experimental.initialize_tpu_system(tpu)\n",
        "    print('#'*25); print('#### FOLD',fold+1)\n",
        "    print('#### Image Size %i with EfficientNet B%i and batch_size %i'%\n",
        "          (IMG_SIZES[fold],EFF_NETS[fold],BATCH_SIZES[fold]*REPLICAS))\n",
        "    \n",
        "    # CREATE TRAIN AND VALIDATION SUBSETS\n",
        "    files_train = tf.io.gfile.glob([GCS_PATH[fold] + '/train%.2i*.tfrec'%x for x in idxT])\n",
        "    if INC2019[fold]:\n",
        "        files_train += tf.io.gfile.glob([GCS_PATH2[fold] + '/train%.2i*.tfrec'%x for x in idxT*2+1])\n",
        "        print('#### Using 2019 external data')\n",
        "    if INC2018[fold]:\n",
        "        files_train += tf.io.gfile.glob([GCS_PATH2[fold] + '/train%.2i*.tfrec'%x for x in idxT*2])\n",
        "        print('#### Using 2018+2017 external data')\n",
        "    np.random.shuffle(files_train); print('#'*25)\n",
        "    files_valid = tf.io.gfile.glob([GCS_PATH[fold] + '/train%.2i*.tfrec'%x for x in idxV])\n",
        "    files_test = np.sort(np.array(tf.io.gfile.glob(GCS_PATH[fold] + '/test*.tfrec')))\n",
        "    \n",
        "    # BUILD MODEL\n",
        "    K.clear_session()\n",
        "    with strategy.scope():\n",
        "        model = build_model(dim=IMG_SIZES[fold],ef=EFF_NETS[fold])\n",
        "        \n",
        "    # SAVE BEST MODEL EACH FOLD\n",
        "    sv = tf.keras.callbacks.ModelCheckpoint(\n",
        "        os.path.join(outdir,'fold-%i.h5'%fold), monitor='val_loss', verbose=0, save_best_only=True,\n",
        "        save_weights_only=True, mode='min', save_freq='epoch')\n",
        "    \n",
        "    svauc = tf.keras.callbacks.ModelCheckpoint(\n",
        "        os.path.join(outdir,'fold-%i-bestvalauc.h5'%fold), monitor='val_auc', verbose=0, save_best_only=True,\n",
        "        save_weights_only=True, mode='max', save_freq='epoch')\n",
        "    \n",
        "    early_stopping_cb = tf.keras.callbacks.EarlyStopping(patience=5,\n",
        "                                                  restore_best_weights=True)\n",
        "   \n",
        "    if TRAIN:\n",
        "        # TRAIN\n",
        "        print('Training...')\n",
        "        history = model.fit(\n",
        "            get_dataset(files_train, augment=True, shuffle=True, repeat=True,\n",
        "                    dim=IMG_SIZES[fold], batch_size = BATCH_SIZES[fold]), \n",
        "            epochs=EPOCHS[fold], callbacks = [sv,svauc,early_stopping_cb,get_lr_callback(BATCH_SIZES[fold])], \n",
        "            steps_per_epoch=count_data_items(files_train)/BATCH_SIZES[fold]//REPLICAS,\n",
        "            validation_data=get_dataset(files_valid,augment=False,shuffle=False,\n",
        "                    repeat=False,dim=IMG_SIZES[fold]), #class_weight = {0:1,1:2},\n",
        "            verbose=VERBOSE\n",
        "        )\n",
        "    \n",
        "    print('Loading best model...')\n",
        "    model.load_weights(os.path.join(outdir,'fold-%i.h5'%fold))\n",
        "    \n",
        "    # PREDICT OOF USING TTA\n",
        "    print('Predicting OOF with TTA...')\n",
        "    ds_valid = get_dataset(files_valid,labeled=False,return_image_names=False,augment=True,\n",
        "            repeat=True,shuffle=False,dim=IMG_SIZES[fold],batch_size=BATCH_SIZES[fold]*4)\n",
        "    ct_valid = count_data_items(files_valid); STEPS = TTA * ct_valid/BATCH_SIZES[fold]/4/REPLICAS\n",
        "    pred = model.predict(ds_valid,steps=STEPS,verbose=VERBOSE)[:TTA*ct_valid,] \n",
        "    oof_pred.append( np.mean(pred.reshape((ct_valid,TTA),order='F'),axis=1) )                 \n",
        "    #oof_pred.append(model.predict(get_dataset(files_valid,dim=IMG_SIZES[fold]),verbose=1))\n",
        "    \n",
        "    # GET OOF TARGETS AND NAMES\n",
        "    ds_valid = get_dataset(files_valid, augment=False, repeat=False, dim=IMG_SIZES[fold],\n",
        "            labeled=True, return_image_names=True)\n",
        "    oof_tar.append( np.array([target.numpy() for img, target in iter(ds_valid.unbatch())]) )\n",
        "    oof_folds.append( np.ones_like(oof_tar[-1],dtype='int8')*fold )\n",
        "    ds = get_dataset(files_valid, augment=False, repeat=False, dim=IMG_SIZES[fold],\n",
        "                labeled=False, return_image_names=True)\n",
        "    oof_names.append( np.array([img_name.numpy().decode(\"utf-8\") for img, img_name in iter(ds.unbatch())]))\n",
        "    \n",
        "    # PREDICT TEST USING TTA\n",
        "    print('Predicting Test with TTA...')\n",
        "    ds_test = get_dataset(files_test,labeled=False,return_image_names=False,augment=True,\n",
        "            repeat=True,shuffle=False,dim=IMG_SIZES[fold],batch_size=BATCH_SIZES[fold]*4)\n",
        "    ct_test = count_data_items(files_test); STEPS = TTA * ct_test/BATCH_SIZES[fold]/4/REPLICAS\n",
        "    pred = model.predict(ds_test,steps=STEPS,verbose=VERBOSE)[:TTA*ct_test,] \n",
        "    preds[:,0] += np.mean(pred.reshape((ct_test,TTA),order='F'),axis=1) * WGTS[fold]\n",
        "\n",
        "    del ds_valid, ds, ds_test\n",
        "    gc.collect()\n",
        "    # REPORT RESULTS\n",
        "    auc = roc_auc_score(oof_tar[-1],oof_pred[-1])\n",
        "    if TRAIN:\n",
        "        oof_val.append(np.max( history.history['val_auc'] ))\n",
        "        print('#### FOLD %i OOF AUC without TTA = %.3f, with TTA = %.3f'%(fold+1,oof_val[-1],auc))\n",
        "    else:\n",
        "        print('#### FOLD %i OOF AUC with TTA = %.3f'%(fold+1, auc))\n",
        "    \n",
        "    # PLOT TRAINING\n",
        "    if DISPLAY_PLOT:\n",
        "        epoch = len(history.history['auc'])\n",
        "        plt.figure(figsize=(15,5))\n",
        "        plt.plot(np.arange(epoch),history.history['auc'],'-o',label='Train AUC',color='#ff7f0e')\n",
        "        plt.plot(np.arange(epoch),history.history['val_auc'],'-o',label='Val AUC',color='#1f77b4')\n",
        "        x = np.argmax( history.history['val_auc'] ); y = np.max( history.history['val_auc'] )\n",
        "        xdist = plt.xlim()[1] - plt.xlim()[0]; ydist = plt.ylim()[1] - plt.ylim()[0]\n",
        "        plt.scatter(x,y,s=200,color='#1f77b4'); plt.text(x-0.03*xdist,y-0.13*ydist,'max auc\\n%.2f'%y,size=14)\n",
        "        plt.ylabel('AUC',size=14); plt.xlabel('Epoch',size=14)\n",
        "        plt.legend(loc=2)\n",
        "        plt2 = plt.gca().twinx()\n",
        "        plt2.plot(np.arange(epoch),history.history['loss'],'-o',label='Train Loss',color='#2ca02c')\n",
        "        plt2.plot(np.arange(epoch),history.history['val_loss'],'-o',label='Val Loss',color='#d62728')\n",
        "        x = np.argmin( history.history['val_loss'] ); y = np.min( history.history['val_loss'] )\n",
        "        ydist = plt.ylim()[1] - plt.ylim()[0]\n",
        "        plt.scatter(x,y,s=200,color='#d62728'); plt.text(x-0.03*xdist,y+0.05*ydist,'min loss',size=14)\n",
        "        plt.ylabel('Loss',size=14)\n",
        "        plt.title('FOLD %i - Image Size %i, EfficientNet B%i, inc2019=%i, inc2018=%i'%\n",
        "                (fold+1,IMG_SIZES[fold],EFF_NETS[fold],INC2019[fold],INC2018[fold]),size=18)\n",
        "        plt.legend(loc=3)\n",
        "        plt.show()  "
      ],
      "execution_count": 29,
      "outputs": [
        {
          "output_type": "stream",
          "text": [
            "WARNING:tensorflow:TPU system grpc://10.48.8.42:8470 has already been initialized. Reinitializing the TPU can cause previously created variables on TPU to be lost.\n"
          ],
          "name": "stdout"
        },
        {
          "output_type": "stream",
          "text": [
            "WARNING:tensorflow:TPU system grpc://10.48.8.42:8470 has already been initialized. Reinitializing the TPU can cause previously created variables on TPU to be lost.\n"
          ],
          "name": "stderr"
        },
        {
          "output_type": "stream",
          "text": [
            "INFO:tensorflow:Initializing the TPU system: grpc://10.48.8.42:8470\n"
          ],
          "name": "stdout"
        },
        {
          "output_type": "stream",
          "text": [
            "INFO:tensorflow:Initializing the TPU system: grpc://10.48.8.42:8470\n"
          ],
          "name": "stderr"
        },
        {
          "output_type": "stream",
          "text": [
            "INFO:tensorflow:Clearing out eager caches\n"
          ],
          "name": "stdout"
        },
        {
          "output_type": "stream",
          "text": [
            "INFO:tensorflow:Clearing out eager caches\n"
          ],
          "name": "stderr"
        },
        {
          "output_type": "stream",
          "text": [
            "INFO:tensorflow:Finished initializing TPU system.\n"
          ],
          "name": "stdout"
        },
        {
          "output_type": "stream",
          "text": [
            "INFO:tensorflow:Finished initializing TPU system.\n"
          ],
          "name": "stderr"
        },
        {
          "output_type": "stream",
          "text": [
            "#########################\n",
            "#### FOLD 4\n",
            "#### Image Size 600 with EfficientNet B7 and batch_size 64\n",
            "#### Using 2018+2017 external data\n",
            "#########################\n",
            "Loading best model...\n",
            "Predicting OOF with TTA...\n",
            "637/636 [==============================] - 1099s 2s/step\n",
            "Predicting Test with TTA...\n",
            "1073/1072 [==============================] - 1858s 2s/step\n",
            "#### FOLD 4 OOF AUC with TTA = 0.925\n",
            "WARNING:tensorflow:TPU system grpc://10.48.8.42:8470 has already been initialized. Reinitializing the TPU can cause previously created variables on TPU to be lost.\n"
          ],
          "name": "stdout"
        },
        {
          "output_type": "stream",
          "text": [
            "WARNING:tensorflow:TPU system grpc://10.48.8.42:8470 has already been initialized. Reinitializing the TPU can cause previously created variables on TPU to be lost.\n"
          ],
          "name": "stderr"
        },
        {
          "output_type": "stream",
          "text": [
            "INFO:tensorflow:Initializing the TPU system: grpc://10.48.8.42:8470\n"
          ],
          "name": "stdout"
        },
        {
          "output_type": "stream",
          "text": [
            "INFO:tensorflow:Initializing the TPU system: grpc://10.48.8.42:8470\n"
          ],
          "name": "stderr"
        },
        {
          "output_type": "stream",
          "text": [
            "INFO:tensorflow:Clearing out eager caches\n"
          ],
          "name": "stdout"
        },
        {
          "output_type": "stream",
          "text": [
            "INFO:tensorflow:Clearing out eager caches\n"
          ],
          "name": "stderr"
        },
        {
          "output_type": "stream",
          "text": [
            "INFO:tensorflow:Finished initializing TPU system.\n"
          ],
          "name": "stdout"
        },
        {
          "output_type": "stream",
          "text": [
            "INFO:tensorflow:Finished initializing TPU system.\n"
          ],
          "name": "stderr"
        },
        {
          "output_type": "stream",
          "text": [
            "#########################\n",
            "#### FOLD 5\n",
            "#### Image Size 600 with EfficientNet B7 and batch_size 64\n",
            "#### Using 2018+2017 external data\n",
            "#########################\n",
            "Loading best model...\n",
            "Predicting OOF with TTA...\n",
            "641/640 [==============================] - 1104s 2s/step\n",
            "Predicting Test with TTA...\n",
            "1073/1072 [==============================] - 1868s 2s/step\n",
            "#### FOLD 5 OOF AUC with TTA = 0.923\n"
          ],
          "name": "stdout"
        }
      ]
    },
    {
      "cell_type": "code",
      "metadata": {
        "id": "5nPzmY_SF-4q",
        "colab_type": "code",
        "colab": {
          "base_uri": "https://localhost:8080/",
          "height": 51
        },
        "outputId": "910aa435-bff5-42f5-edac-c6d62aee3caa"
      },
      "source": [
        "ls siim/res/efficientnet-res/EF7-512/all-kfold-hairaug-norm/"
      ],
      "execution_count": 30,
      "outputs": [
        {
          "output_type": "stream",
          "text": [
            "fold-0-bestvalauc.h5  fold-1-bestvalauc.h5  fold-2-bestvalauc.h5  fold-3.h5\n",
            "fold-0.h5             fold-1.h5             fold-2.h5             fold-4.h5\n"
          ],
          "name": "stdout"
        }
      ]
    },
    {
      "cell_type": "markdown",
      "metadata": {
        "id": "RBaEcguocyWc",
        "colab_type": "text"
      },
      "source": [
        "## Calculate OOF AUC\n",
        "The OOF (out of fold) predictions are saved to disk. If you wish to ensemble multiple models, use the OOF to determine what are the best weights to blend your models with. Choose weights that maximize OOF CV score when used to blend OOF. Then use those same weights to blend your test predictions."
      ]
    },
    {
      "cell_type": "code",
      "metadata": {
        "id": "pTMglZCEcyWc",
        "colab_type": "code",
        "colab": {
          "base_uri": "https://localhost:8080/",
          "height": 221
        },
        "outputId": "e5d128a4-da33-43ae-9c2d-d2ca928eb431"
      },
      "source": [
        "# COMPUTE OVERALL OOF AUC\n",
        "oof = np.concatenate(oof_pred); true = np.concatenate(oof_tar);\n",
        "names = np.concatenate(oof_names); folds = np.concatenate(oof_folds)\n",
        "auc = roc_auc_score(true,oof)\n",
        "print('Overall OOF AUC with TTA = %.3f'%auc)\n",
        "\n",
        "# SAVE OOF TO DISK\n",
        "df_oof = pd.DataFrame(dict(\n",
        "    image_name = names, target=true, pred = oof, fold=folds))\n",
        "df_oof.to_csv(os.path.join(outdir,'oof.csv'),index=False)\n",
        "df_oof.head()"
      ],
      "execution_count": 31,
      "outputs": [
        {
          "output_type": "stream",
          "text": [
            "Overall OOF AUC with TTA = 0.923\n"
          ],
          "name": "stdout"
        },
        {
          "output_type": "execute_result",
          "data": {
            "text/html": [
              "<div>\n",
              "<style scoped>\n",
              "    .dataframe tbody tr th:only-of-type {\n",
              "        vertical-align: middle;\n",
              "    }\n",
              "\n",
              "    .dataframe tbody tr th {\n",
              "        vertical-align: top;\n",
              "    }\n",
              "\n",
              "    .dataframe thead th {\n",
              "        text-align: right;\n",
              "    }\n",
              "</style>\n",
              "<table border=\"1\" class=\"dataframe\">\n",
              "  <thead>\n",
              "    <tr style=\"text-align: right;\">\n",
              "      <th></th>\n",
              "      <th>image_name</th>\n",
              "      <th>target</th>\n",
              "      <th>pred</th>\n",
              "      <th>fold</th>\n",
              "    </tr>\n",
              "  </thead>\n",
              "  <tbody>\n",
              "    <tr>\n",
              "      <th>0</th>\n",
              "      <td>ISIC_2637011</td>\n",
              "      <td>0</td>\n",
              "      <td>0.028464</td>\n",
              "      <td>0</td>\n",
              "    </tr>\n",
              "    <tr>\n",
              "      <th>1</th>\n",
              "      <td>ISIC_0076262</td>\n",
              "      <td>0</td>\n",
              "      <td>0.027360</td>\n",
              "      <td>0</td>\n",
              "    </tr>\n",
              "    <tr>\n",
              "      <th>2</th>\n",
              "      <td>ISIC_0074268</td>\n",
              "      <td>0</td>\n",
              "      <td>0.025986</td>\n",
              "      <td>0</td>\n",
              "    </tr>\n",
              "    <tr>\n",
              "      <th>3</th>\n",
              "      <td>ISIC_0015719</td>\n",
              "      <td>0</td>\n",
              "      <td>0.027409</td>\n",
              "      <td>0</td>\n",
              "    </tr>\n",
              "    <tr>\n",
              "      <th>4</th>\n",
              "      <td>ISIC_0082543</td>\n",
              "      <td>0</td>\n",
              "      <td>0.027564</td>\n",
              "      <td>0</td>\n",
              "    </tr>\n",
              "  </tbody>\n",
              "</table>\n",
              "</div>"
            ],
            "text/plain": [
              "     image_name  target      pred  fold\n",
              "0  ISIC_2637011       0  0.028464     0\n",
              "1  ISIC_0076262       0  0.027360     0\n",
              "2  ISIC_0074268       0  0.025986     0\n",
              "3  ISIC_0015719       0  0.027409     0\n",
              "4  ISIC_0082543       0  0.027564     0"
            ]
          },
          "metadata": {
            "tags": []
          },
          "execution_count": 31
        }
      ]
    },
    {
      "cell_type": "markdown",
      "metadata": {
        "id": "cdgvaFj8cyWe",
        "colab_type": "text"
      },
      "source": [
        "# Step 5: Post process\n",
        "There are ways to modify predictions based on patient information to increase CV LB. You can experiment with that here on your OOF."
      ]
    },
    {
      "cell_type": "markdown",
      "metadata": {
        "id": "P-AWlrzFcyWf",
        "colab_type": "text"
      },
      "source": [
        "# Submit To Kaggle"
      ]
    },
    {
      "cell_type": "code",
      "metadata": {
        "id": "Iuy2CTPTcyWf",
        "colab_type": "code",
        "colab": {}
      },
      "source": [
        "ds = get_dataset(files_test, augment=False, repeat=False, dim=IMG_SIZES[fold],\n",
        "                 labeled=False, return_image_names=True)\n",
        "\n",
        "image_names = np.array([img_name.numpy().decode(\"utf-8\") \n",
        "                        for img, img_name in iter(ds.unbatch())])"
      ],
      "execution_count": 32,
      "outputs": []
    },
    {
      "cell_type": "code",
      "metadata": {
        "id": "iOhOTpZBcyWh",
        "colab_type": "code",
        "colab": {
          "base_uri": "https://localhost:8080/",
          "height": 204
        },
        "outputId": "f33272ca-347e-4e82-cfe7-661c12a981ce"
      },
      "source": [
        "submission = pd.DataFrame(dict(image_name=image_names, target=preds[:,0]))\n",
        "submission = submission.sort_values('image_name') \n",
        "submission.to_csv(os.path.join('submission.csv'), index=False)\n",
        "submission.head()"
      ],
      "execution_count": 33,
      "outputs": [
        {
          "output_type": "execute_result",
          "data": {
            "text/html": [
              "<div>\n",
              "<style scoped>\n",
              "    .dataframe tbody tr th:only-of-type {\n",
              "        vertical-align: middle;\n",
              "    }\n",
              "\n",
              "    .dataframe tbody tr th {\n",
              "        vertical-align: top;\n",
              "    }\n",
              "\n",
              "    .dataframe thead th {\n",
              "        text-align: right;\n",
              "    }\n",
              "</style>\n",
              "<table border=\"1\" class=\"dataframe\">\n",
              "  <thead>\n",
              "    <tr style=\"text-align: right;\">\n",
              "      <th></th>\n",
              "      <th>image_name</th>\n",
              "      <th>target</th>\n",
              "    </tr>\n",
              "  </thead>\n",
              "  <tbody>\n",
              "    <tr>\n",
              "      <th>9905</th>\n",
              "      <td>ISIC_0052060</td>\n",
              "      <td>0.026255</td>\n",
              "    </tr>\n",
              "    <tr>\n",
              "      <th>1443</th>\n",
              "      <td>ISIC_0052349</td>\n",
              "      <td>0.026749</td>\n",
              "    </tr>\n",
              "    <tr>\n",
              "      <th>3120</th>\n",
              "      <td>ISIC_0058510</td>\n",
              "      <td>0.025282</td>\n",
              "    </tr>\n",
              "    <tr>\n",
              "      <th>4870</th>\n",
              "      <td>ISIC_0073313</td>\n",
              "      <td>0.024700</td>\n",
              "    </tr>\n",
              "    <tr>\n",
              "      <th>5494</th>\n",
              "      <td>ISIC_0073502</td>\n",
              "      <td>0.032727</td>\n",
              "    </tr>\n",
              "  </tbody>\n",
              "</table>\n",
              "</div>"
            ],
            "text/plain": [
              "        image_name    target\n",
              "9905  ISIC_0052060  0.026255\n",
              "1443  ISIC_0052349  0.026749\n",
              "3120  ISIC_0058510  0.025282\n",
              "4870  ISIC_0073313  0.024700\n",
              "5494  ISIC_0073502  0.032727"
            ]
          },
          "metadata": {
            "tags": []
          },
          "execution_count": 33
        }
      ]
    },
    {
      "cell_type": "code",
      "metadata": {
        "id": "8swGdZ8gcyWi",
        "colab_type": "code",
        "colab": {
          "base_uri": "https://localhost:8080/",
          "height": 265
        },
        "outputId": "9a267132-1c16-4c18-82e0-2a47204047af"
      },
      "source": [
        "plt.hist(submission.target,bins=100)\n",
        "plt.show()"
      ],
      "execution_count": 34,
      "outputs": [
        {
          "output_type": "display_data",
          "data": {
            "image/png": "[encoded data removed]",
            "text/plain": [
              "<Figure size 432x288 with 1 Axes>"
            ]
          },
          "metadata": {
            "tags": [],
            "needs_background": "light"
          }
        }
      ]
    },
    {
      "cell_type": "code",
      "metadata": {
        "id": "tlRCz7VuqtIn",
        "colab_type": "code",
        "colab": {}
      },
      "source": [
        "submission.to_csv(os.path.join(outdir, 'submission.csv'), index=False)"
      ],
      "execution_count": 35,
      "outputs": []
    },
    {
      "cell_type": "code",
      "metadata": {
        "id": "E1L5d9wuph9j",
        "colab_type": "code",
        "colab": {
          "base_uri": "https://localhost:8080/",
          "height": 34
        },
        "outputId": "64ae38a3-a110-4dbe-d479-32555af38ecf"
      },
      "source": [
        "print(outdir)"
      ],
      "execution_count": 36,
      "outputs": [
        {
          "output_type": "stream",
          "text": [
            "siim/res/efficientnet-res/EF7-512/all-kfold-hairaug-norm\n"
          ],
          "name": "stdout"
        }
      ]
    }
  ]
}