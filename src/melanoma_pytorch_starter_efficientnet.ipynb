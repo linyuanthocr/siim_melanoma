{
  "nbformat": 4,
  "nbformat_minor": 0,
  "metadata": {
    "kernelspec": {
      "display_name": "Python 3",
      "language": "python",
      "name": "python3"
    },
    "language_info": {
      "codemirror_mode": {
        "name": "ipython",
        "version": 3
      },
      "file_extension": ".py",
      "mimetype": "text/x-python",
      "name": "python",
      "nbconvert_exporter": "python",
      "pygments_lexer": "ipython3",
      "version": "3.7.6"
    },
    "colab": {
      "name": "melanoma-pytorch-starter-efficientnet.ipynb",
      "provenance": [],
      "collapsed_sections": [],
      "machine_shape": "hm"
    },
    "accelerator": "GPU"
  },
  "cells": [
    {
      "cell_type": "markdown",
      "metadata": {
        "id": "fw66HPvxDRFJ",
        "colab_type": "text"
      },
      "source": [
        "#### Versions:\n",
        "* v9: ColorJitter transformation added **[0.896]**\n",
        "* v10: Changed the dataset to [this one](https://www.kaggle.com/shonenkov/melanoma-merged-external-data-512x512-jpeg) with external data. **[0.894]**\n",
        "* v11: Switched to [another dataset](https://www.kaggle.com/nroman/melanoma-external-malignant-256/) which I've created by myself. Also switched from StratifiedKFold to GroupKFold **[0.916]**\n",
        "* v12: Switched to efficientnet-b1 **[0.919]**\n",
        "* v13: Using meta featues: sex and age **[0.918]**\n",
        "* v14: anatom_site_general_challenge meta feature added as one-hot encoded matrix **[0.923]**\n",
        "* v16: Fixed OOF - now it contains only data from original training dataset, without extarnal data. Also switched back to StratifiedKFold. Added DrawHair augmentation. **[0.909]**\n",
        "* v18: Too many things were changed at the same time. All experiments should have only one small change each, so it would be easy to understand how changes affect the result. Said that I rolled back everything, keeping only OOF fix, to make sure it work.\n",
        "* v19: Added 'Hair' augmentation. OOF rework posponed untill the best time, since there is some bug in my code for it. **[0.925]**\n",
        "* v20: Advanced Hair Augmentation technique used. Read more about it here: https://www.kaggle.com/c/siim-isic-melanoma-classification/discussion/159176 **[0.923]**\n",
        "* v21: Microscope augmentation added instead of Cutout. Read more here: https://www.kaggle.com/c/siim-isic-melanoma-classification/discussion/159476"
      ]
    },
    {
      "cell_type": "code",
      "metadata": {
        "_kg_hide-output": true,
        "id": "Pk4sNb9KDRFK",
        "colab_type": "code",
        "colab": {
          "base_uri": "https://localhost:8080/",
          "height": 238
        },
        "outputId": "a56f2c03-122a-45ba-b345-8ba8db203d64"
      },
      "source": [
        "!pip install efficientnet_pytorch torchtoolbox"
      ],
      "execution_count": 1,
      "outputs": [
        {
          "output_type": "stream",
          "text": [
            "Requirement already satisfied: efficientnet_pytorch in /usr/local/lib/python3.6/dist-packages (0.6.3)\n",
            "Requirement already satisfied: torchtoolbox in /usr/local/lib/python3.6/dist-packages (0.1.4.1)\n",
            "Requirement already satisfied: torch in /usr/local/lib/python3.6/dist-packages (from efficientnet_pytorch) (1.5.1+cu101)\n",
            "Requirement already satisfied: scikit-learn in /usr/local/lib/python3.6/dist-packages (from torchtoolbox) (0.22.2.post1)\n",
            "Requirement already satisfied: scipy in /usr/local/lib/python3.6/dist-packages (from torchtoolbox) (1.4.1)\n",
            "Requirement already satisfied: opencv-python in /usr/local/lib/python3.6/dist-packages (from torchtoolbox) (4.1.2.30)\n",
            "Requirement already satisfied: tqdm in /usr/local/lib/python3.6/dist-packages (from torchtoolbox) (4.41.1)\n",
            "Requirement already satisfied: six in /usr/local/lib/python3.6/dist-packages (from torchtoolbox) (1.12.0)\n",
            "Requirement already satisfied: lmdb in /usr/local/lib/python3.6/dist-packages (from torchtoolbox) (0.98)\n",
            "Requirement already satisfied: pyarrow in /usr/local/lib/python3.6/dist-packages (from torchtoolbox) (0.14.1)\n",
            "Requirement already satisfied: numpy in /usr/local/lib/python3.6/dist-packages (from torchtoolbox) (1.18.5)\n",
            "Requirement already satisfied: future in /usr/local/lib/python3.6/dist-packages (from torch->efficientnet_pytorch) (0.16.0)\n",
            "Requirement already satisfied: joblib>=0.11 in /usr/local/lib/python3.6/dist-packages (from scikit-learn->torchtoolbox) (0.15.1)\n"
          ],
          "name": "stdout"
        }
      ]
    },
    {
      "cell_type": "code",
      "metadata": {
        "_cell_guid": "b1076dfc-b9ad-4769-8c92-a6c4dae69d19",
        "_uuid": "8f2839f25d086af736a60e9eeb907d3b93b6e0e5",
        "id": "8gZtx9yNDRFQ",
        "colab_type": "code",
        "colab": {
          "base_uri": "https://localhost:8080/",
          "height": 71
        },
        "outputId": "2bd903eb-177f-46cc-bba6-e3afc4149362"
      },
      "source": [
        "import torch\n",
        "import torchvision\n",
        "import torch.nn.functional as F\n",
        "import torch.nn as nn\n",
        "import torchtoolbox.transform as transforms\n",
        "from torch.utils.data import Dataset, DataLoader, Subset\n",
        "from torch.optim.lr_scheduler import ReduceLROnPlateau\n",
        "from sklearn.metrics import accuracy_score, roc_auc_score\n",
        "from sklearn.model_selection import StratifiedKFold, GroupKFold\n",
        "import pandas as pd\n",
        "import numpy as np\n",
        "import gc\n",
        "import os\n",
        "import cv2\n",
        "import time\n",
        "# import datetime\n",
        "import warnings\n",
        "import random\n",
        "import matplotlib.pyplot as plt\n",
        "import seaborn as sns\n",
        "from efficientnet_pytorch import EfficientNet\n",
        "%matplotlib inline"
      ],
      "execution_count": 2,
      "outputs": [
        {
          "output_type": "stream",
          "text": [
            "/usr/local/lib/python3.6/dist-packages/statsmodels/tools/_testing.py:19: FutureWarning: pandas.util.testing is deprecated. Use the functions in the public API at pandas.testing instead.\n",
            "  import pandas.util.testing as tm\n"
          ],
          "name": "stderr"
        }
      ]
    },
    {
      "cell_type": "code",
      "metadata": {
        "id": "upxCr7IkD32b",
        "colab_type": "code",
        "colab": {
          "base_uri": "https://localhost:8080/",
          "height": 357
        },
        "outputId": "6b6a9f08-0392-4b67-8c1c-11ae47aedb29"
      },
      "source": [
        "gpu_info = !nvidia-smi\n",
        "gpu_info = '\\n'.join(gpu_info)\n",
        "print(gpu_info)"
      ],
      "execution_count": 3,
      "outputs": [
        {
          "output_type": "stream",
          "text": [
            "Tue Jul  7 07:27:18 2020       \n",
            "+-----------------------------------------------------------------------------+\n",
            "| NVIDIA-SMI 450.36.06    Driver Version: 418.67       CUDA Version: 10.1     |\n",
            "|-------------------------------+----------------------+----------------------+\n",
            "| GPU  Name        Persistence-M| Bus-Id        Disp.A | Volatile Uncorr. ECC |\n",
            "| Fan  Temp  Perf  Pwr:Usage/Cap|         Memory-Usage | GPU-Util  Compute M. |\n",
            "|                               |                      |               MIG M. |\n",
            "|===============================+======================+======================|\n",
            "|   0  Tesla P100-PCIE...  Off  | 00000000:00:04.0 Off |                    0 |\n",
            "| N/A   47C    P0    30W / 250W |      0MiB / 16280MiB |      0%      Default |\n",
            "|                               |                      |                 ERR! |\n",
            "+-------------------------------+----------------------+----------------------+\n",
            "                                                                               \n",
            "+-----------------------------------------------------------------------------+\n",
            "| Processes:                                                                  |\n",
            "|  GPU   GI   CI        PID   Type   Process name                  GPU Memory |\n",
            "|        ID   ID                                                   Usage      |\n",
            "|=============================================================================|\n",
            "|  No running processes found                                                 |\n",
            "+-----------------------------------------------------------------------------+\n"
          ],
          "name": "stdout"
        }
      ]
    },
    {
      "cell_type": "code",
      "metadata": {
        "id": "eJgXgBx4D7cm",
        "colab_type": "code",
        "colab": {}
      },
      "source": [
        "Kaggle = False\n",
        "Colab = !Kaggle"
      ],
      "execution_count": 4,
      "outputs": []
    },
    {
      "cell_type": "code",
      "metadata": {
        "id": "RCXJcGuIEDr7",
        "colab_type": "code",
        "colab": {
          "base_uri": "https://localhost:8080/",
          "height": 34
        },
        "outputId": "9615f0cf-afe5-434b-e536-f9801afe078a"
      },
      "source": [
        "import os, sys\n",
        "from pathlib import Path\n",
        "\n",
        "# if Colab:\n",
        "#     from google.colab import drive\n",
        "#     drive.mount('/content/drive')\n",
        "\n",
        "#     path = \"/content/drive/My Drive\"\n",
        "\n",
        "#     os.chdir(path)\n",
        "#     os.listdir(path)\n",
        "\n",
        "if Colab:\n",
        "    from google.colab import drive\n",
        "    drive.mount('/content/drive')\n",
        "\n",
        "    path = \"/content/drive/My Drive\"\n",
        "    os.chdir(path)\n",
        "    os.listdir(path)"
      ],
      "execution_count": 5,
      "outputs": [
        {
          "output_type": "stream",
          "text": [
            "Drive already mounted at /content/drive; to attempt to forcibly remount, call drive.mount(\"/content/drive\", force_remount=True).\n"
          ],
          "name": "stdout"
        }
      ]
    },
    {
      "cell_type": "code",
      "metadata": {
        "id": "iMxSowbrDXrr",
        "colab_type": "code",
        "colab": {}
      },
      "source": [
        "if Kaggle:\n",
        "    PATH = '/kaggle/input/'\n",
        "    outdir = '.'\n",
        "else:\n",
        "    PATH = 'siim/'\n",
        "    outdir = Path(PATH+'res')\n",
        "    if not os.path.exists(outdir):\n",
        "        os.mkdir(outdir)\n",
        "    outdir = Path(PATH+'res/efficientnet-res')\n",
        "    if not os.path.exists(outdir):\n",
        "        os.mkdir(outdir)"
      ],
      "execution_count": 6,
      "outputs": []
    },
    {
      "cell_type": "code",
      "metadata": {
        "id": "XiYjt-j-GLM1",
        "colab_type": "code",
        "colab": {}
      },
      "source": [
        "MODELNAME = \"EF3\"\n",
        "VERSION = '{}'.format(MODELNAME)\n",
        "outdir = os.path.join(outdir, VERSION)\n",
        "if not os.path.exists(outdir):\n",
        "    os.mkdir(outdir)"
      ],
      "execution_count": 7,
      "outputs": []
    },
    {
      "cell_type": "code",
      "metadata": {
        "id": "ZnA004o_F8x-",
        "colab_type": "code",
        "colab": {}
      },
      "source": [
        "from datetime import datetime, timedelta\n",
        "dateTimeObj = datetime.now()\n",
        "# timestampStr = dateTimeObj.strftime(\"%d-%b-%Y-%H\")\n",
        "timestampStr = 'all-v2'\n",
        "outdir = os.path.join(outdir, timestampStr)\n",
        "if not os.path.exists(outdir):\n",
        "    os.mkdir(outdir)"
      ],
      "execution_count": 8,
      "outputs": []
    },
    {
      "cell_type": "code",
      "metadata": {
        "id": "xjiIgFQJep6C",
        "colab_type": "code",
        "colab": {}
      },
      "source": [
        "# print(str(timedelta(seconds=7)))"
      ],
      "execution_count": 9,
      "outputs": []
    },
    {
      "cell_type": "code",
      "metadata": {
        "id": "h7J5BLddDRFT",
        "colab_type": "code",
        "colab": {}
      },
      "source": [
        "# At least fixing some random seeds. \n",
        "# It is still impossible to make results 100% reproducible when using GPU\n",
        "warnings.simplefilter('ignore')\n",
        "torch.manual_seed(47)\n",
        "np.random.seed(47)"
      ],
      "execution_count": 10,
      "outputs": []
    },
    {
      "cell_type": "code",
      "metadata": {
        "id": "FTp5n0KaDRFW",
        "colab_type": "code",
        "colab": {
          "base_uri": "https://localhost:8080/",
          "height": 34
        },
        "outputId": "cd1cd6e8-d792-4f5c-f4ed-82e22aeb6d3f"
      },
      "source": [
        "device = torch.device(\"cuda\" if torch.cuda.is_available() else \"cpu\")\n",
        "print(\"device:\", device)"
      ],
      "execution_count": 11,
      "outputs": [
        {
          "output_type": "stream",
          "text": [
            "device: cuda\n"
          ],
          "name": "stdout"
        }
      ]
    },
    {
      "cell_type": "code",
      "metadata": {
        "id": "qmZq7M6zDRFZ",
        "colab_type": "code",
        "colab": {}
      },
      "source": [
        "class MelanomaDataset(Dataset):\n",
        "    def __init__(self, df: pd.DataFrame, imfolder: str, train: bool = True, transforms = None, meta_features = None):\n",
        "        \"\"\"\n",
        "        Class initialization\n",
        "        Args:\n",
        "            df (pd.DataFrame): DataFrame with data description\n",
        "            imfolder (str): folder with images\n",
        "            train (bool): flag of whether a training dataset is being initialized or testing one\n",
        "            transforms: image transformation method to be applied\n",
        "            meta_features (list): list of features with meta information, such as sex and age\n",
        "            \n",
        "        \"\"\"\n",
        "        self.df = df\n",
        "        self.imfolder = imfolder\n",
        "        self.transforms = transforms\n",
        "        self.train = train\n",
        "        self.meta_features = meta_features\n",
        "        \n",
        "    def __getitem__(self, index):\n",
        "        im_path = os.path.join(self.imfolder, self.df.iloc[index]['image_name'] + '.jpg')\n",
        "        # print(im_path)\n",
        "        x = cv2.imread(im_path)\n",
        "        # print(x.shape)\n",
        "        meta = np.array(self.df.iloc[index][self.meta_features].values, dtype=np.float32)\n",
        "        # print(meta.shape)\n",
        "        if self.transforms:\n",
        "            x = self.transforms(x)\n",
        "            \n",
        "        if self.train:\n",
        "            y = self.df.iloc[index]['target']\n",
        "            return (x, meta), y\n",
        "        else:\n",
        "            return (x, meta)\n",
        "    \n",
        "    def __len__(self):\n",
        "        return len(self.df)\n",
        "    \n",
        "import torch.nn.functional as F   \n",
        "class Net(nn.Module):\n",
        "    def __init__(self, arch, n_meta_features: int):\n",
        "        super(Net, self).__init__()\n",
        "        self.arch = arch\n",
        "        if 'ResNet' in str(arch.__class__):\n",
        "            self.arch.fc = nn.Linear(in_features=512, out_features=512, bias=True)\n",
        "        if 'EfficientNet' in str(arch.__class__):\n",
        "            self.arch._fc = nn.Linear(in_features=1536, out_features=512, bias=True)\n",
        "        self.meta = nn.Sequential(nn.Linear(n_meta_features, 256),\n",
        "                                  nn.BatchNorm1d(256),\n",
        "                                  nn.ReLU(),\n",
        "                                  nn.Dropout(p=0.4),\n",
        "                                  nn.Linear(256, 256),  # FC layer output will have 250 features\n",
        "                                  nn.BatchNorm1d(256),\n",
        "                                  nn.ReLU(),\n",
        "                                  nn.Dropout(p=0.4))\n",
        "        self.ouput = nn.Linear(1536 + 256, 1)\n",
        "                                \n",
        "        \n",
        "    def forward(self, inputs):\n",
        "        \"\"\"\n",
        "        No sigmoid in forward because we are going to use BCEWithLogitsLoss\n",
        "        Which applies sigmoid for us when calculating a loss\n",
        "        \"\"\"\n",
        "        x, meta = inputs\n",
        "        # cnn_features = self.arch(x)\n",
        "        cnn_features = self.arch.extract_features(x)\n",
        "        cnn_features = F.adaptive_avg_pool2d(cnn_features, 1).squeeze(-1).squeeze(-1)\n",
        "        meta_features = self.meta(meta)\n",
        "        features = torch.cat((cnn_features, meta_features), dim=1)\n",
        "        output = self.ouput(features)\n",
        "        return output"
      ],
      "execution_count": 12,
      "outputs": []
    },
    {
      "cell_type": "code",
      "metadata": {
        "id": "Jg59GR4zDRFb",
        "colab_type": "code",
        "colab": {}
      },
      "source": [
        "class AdvancedHairAugmentation:\n",
        "    \"\"\"\n",
        "    Impose an image of a hair to the target image\n",
        "\n",
        "    Args:\n",
        "        hairs (int): maximum number of hairs to impose\n",
        "        hairs_folder (str): path to the folder with hairs images\n",
        "    \"\"\"\n",
        "\n",
        "    def __init__(self, hairs: int = 5, hairs_folder: str = \"\"):\n",
        "        self.hairs = hairs\n",
        "        self.hairs_folder = hairs_folder\n",
        "\n",
        "    def __call__(self, img):\n",
        "        \"\"\"\n",
        "        Args:\n",
        "            img (PIL Image): Image to draw hairs on.\n",
        "\n",
        "        Returns:\n",
        "            PIL Image: Image with drawn hairs.\n",
        "        \"\"\"\n",
        "        n_hairs = random.randint(0, self.hairs)\n",
        "        \n",
        "        if not n_hairs:\n",
        "            return img\n",
        "        \n",
        "        height, width, _ = img.shape  # target image width and height\n",
        "        hair_images = [im for im in os.listdir(self.hairs_folder) if 'png' in im]\n",
        "        \n",
        "        for _ in range(n_hairs):\n",
        "            hair = cv2.imread(os.path.join(self.hairs_folder, random.choice(hair_images)))\n",
        "            hair = cv2.flip(hair, random.choice([-1, 0, 1]))\n",
        "            hair = cv2.rotate(hair, random.choice([0, 1, 2]))\n",
        "\n",
        "            h_height, h_width, _ = hair.shape  # hair image width and height\n",
        "            roi_ho = random.randint(0, img.shape[0] - hair.shape[0])\n",
        "            roi_wo = random.randint(0, img.shape[1] - hair.shape[1])\n",
        "            roi = img[roi_ho:roi_ho + h_height, roi_wo:roi_wo + h_width]\n",
        "\n",
        "            # Creating a mask and inverse mask\n",
        "            img2gray = cv2.cvtColor(hair, cv2.COLOR_BGR2GRAY)\n",
        "            ret, mask = cv2.threshold(img2gray, 10, 255, cv2.THRESH_BINARY)\n",
        "            mask_inv = cv2.bitwise_not(mask)\n",
        "\n",
        "            # Now black-out the area of hair in ROI\n",
        "            img_bg = cv2.bitwise_and(roi, roi, mask=mask_inv)\n",
        "\n",
        "            # Take only region of hair from hair image.\n",
        "            hair_fg = cv2.bitwise_and(hair, hair, mask=mask)\n",
        "\n",
        "            # Put hair in ROI and modify the target image\n",
        "            dst = cv2.add(img_bg, hair_fg)\n",
        "\n",
        "            img[roi_ho:roi_ho + h_height, roi_wo:roi_wo + h_width] = dst\n",
        "        # print(\"aug done\")\n",
        "        return img\n",
        "\n",
        "    def __repr__(self):\n",
        "        return f'{self.__class__.__name__}(hairs={self.hairs}, hairs_folder=\"{self.hairs_folder}\")'"
      ],
      "execution_count": 13,
      "outputs": []
    },
    {
      "cell_type": "code",
      "metadata": {
        "id": "O0ukNw5pDRFe",
        "colab_type": "code",
        "colab": {}
      },
      "source": [
        "class Microscope:\n",
        "    \"\"\"\n",
        "    Cutting out the edges around the center circle of the image\n",
        "    Imitating a picture, taken through the microscope\n",
        "\n",
        "    Args:\n",
        "        p (float): probability of applying an augmentation\n",
        "    \"\"\"\n",
        "\n",
        "    def __init__(self, p: float = 0.5):\n",
        "        self.p = p\n",
        "\n",
        "    def __call__(self, img):\n",
        "        \"\"\"\n",
        "        Args:\n",
        "            img (PIL Image): Image to apply transformation to.\n",
        "\n",
        "        Returns:\n",
        "            PIL Image: Image with transformation.\n",
        "        \"\"\"\n",
        "        if random.random() < self.p:\n",
        "            circle = cv2.circle((np.ones(img.shape) * 255).astype(np.uint8), # image placeholder\n",
        "                        (img.shape[0]//2, img.shape[1]//2), # center point of circle\n",
        "                        random.randint(img.shape[0]//2 - 3, img.shape[0]//2 + 15), # radius\n",
        "                        (0, 0, 0), # color\n",
        "                        -1)\n",
        "\n",
        "            mask = circle - 255\n",
        "            img = np.multiply(img, mask)\n",
        "        \n",
        "        return img\n",
        "\n",
        "    def __repr__(self):\n",
        "        return f'{self.__class__.__name__}(p={self.p})'"
      ],
      "execution_count": 14,
      "outputs": []
    },
    {
      "cell_type": "code",
      "metadata": {
        "id": "TivkeO_kDRFg",
        "colab_type": "code",
        "colab": {}
      },
      "source": [
        "train_transform = transforms.Compose([\n",
        "    AdvancedHairAugmentation(hairs_folder=os.path.join(PATH, 'melanoma-hairs/')),\n",
        "    transforms.RandomResizedCrop(size=256, scale=(0.7, 1.0)),\n",
        "    transforms.RandomHorizontalFlip(),\n",
        "    transforms.RandomVerticalFlip(),\n",
        "    transforms.ColorJitter(brightness=32. / 255.,saturation=0.5),\n",
        "    Microscope(p=0.4),\n",
        "    transforms.Cutout(scale=(0.05, 0.007), value=(0, 0)),\n",
        "    transforms.ToTensor(),\n",
        "    transforms.Normalize(mean=[0.485, 0.456, 0.406],std=[0.229, 0.224, 0.225])\n",
        "])\n",
        "test_transform = transforms.Compose([\n",
        "    transforms.ToTensor(),\n",
        "    transforms.Normalize(mean=[0.485, 0.456, 0.406],std=[0.229, 0.224, 0.225])\n",
        "])"
      ],
      "execution_count": 15,
      "outputs": []
    },
    {
      "cell_type": "code",
      "metadata": {
        "id": "JJwU11oIDRFj",
        "colab_type": "code",
        "colab": {
          "base_uri": "https://localhost:8080/",
          "height": 34
        },
        "outputId": "454318cc-43a1-4296-900b-5cd896249deb"
      },
      "source": [
        "arch = EfficientNet.from_pretrained('efficientnet-b3')  # Going to use efficientnet-b1 NN architecture\n",
        "# skf = StratifiedKFold(n_splits=5, random_state=999, shuffle=True)\n",
        "skf = GroupKFold(n_splits=5)"
      ],
      "execution_count": 16,
      "outputs": [
        {
          "output_type": "stream",
          "text": [
            "Loaded pretrained weights for efficientnet-b3\n"
          ],
          "name": "stdout"
        }
      ]
    },
    {
      "cell_type": "code",
      "metadata": {
        "id": "Zk7ejESfDRFl",
        "colab_type": "code",
        "colab": {}
      },
      "source": [
        "if Kaggle:\n",
        "    train_df = pd.read_csv(PATH+'melanoma-external-malignant-256/train_concat.csv')\n",
        "    test_df = pd.read_csv(PATH+'siim-isic-melanoma-classification/test.csv')\n",
        "else:\n",
        "    train_df = pd.read_csv(PATH+'melanoma-external-malignant-256/train_concat.csv')\n",
        "    test_df = pd.read_csv(PATH+'melanoma-external-malignant-256/test.csv')\n",
        "\n"
      ],
      "execution_count": 17,
      "outputs": []
    },
    {
      "cell_type": "code",
      "metadata": {
        "id": "6Ys1s1VeWkGI",
        "colab_type": "code",
        "colab": {
          "base_uri": "https://localhost:8080/",
          "height": 204
        },
        "outputId": "838ade21-be88-4454-96f4-0de9224b4955"
      },
      "source": [
        "display(train_df.head())"
      ],
      "execution_count": 18,
      "outputs": [
        {
          "output_type": "display_data",
          "data": {
            "text/html": [
              "<div>\n",
              "<style scoped>\n",
              "    .dataframe tbody tr th:only-of-type {\n",
              "        vertical-align: middle;\n",
              "    }\n",
              "\n",
              "    .dataframe tbody tr th {\n",
              "        vertical-align: top;\n",
              "    }\n",
              "\n",
              "    .dataframe thead th {\n",
              "        text-align: right;\n",
              "    }\n",
              "</style>\n",
              "<table border=\"1\" class=\"dataframe\">\n",
              "  <thead>\n",
              "    <tr style=\"text-align: right;\">\n",
              "      <th></th>\n",
              "      <th>image_name</th>\n",
              "      <th>patient_id</th>\n",
              "      <th>sex</th>\n",
              "      <th>age_approx</th>\n",
              "      <th>anatom_site_general_challenge</th>\n",
              "      <th>target</th>\n",
              "    </tr>\n",
              "  </thead>\n",
              "  <tbody>\n",
              "    <tr>\n",
              "      <th>0</th>\n",
              "      <td>ISIC_2637011</td>\n",
              "      <td>IP_7279968</td>\n",
              "      <td>male</td>\n",
              "      <td>45.0</td>\n",
              "      <td>head/neck</td>\n",
              "      <td>0</td>\n",
              "    </tr>\n",
              "    <tr>\n",
              "      <th>1</th>\n",
              "      <td>ISIC_0015719</td>\n",
              "      <td>IP_3075186</td>\n",
              "      <td>female</td>\n",
              "      <td>45.0</td>\n",
              "      <td>upper extremity</td>\n",
              "      <td>0</td>\n",
              "    </tr>\n",
              "    <tr>\n",
              "      <th>2</th>\n",
              "      <td>ISIC_0052212</td>\n",
              "      <td>IP_2842074</td>\n",
              "      <td>female</td>\n",
              "      <td>50.0</td>\n",
              "      <td>lower extremity</td>\n",
              "      <td>0</td>\n",
              "    </tr>\n",
              "    <tr>\n",
              "      <th>3</th>\n",
              "      <td>ISIC_0068279</td>\n",
              "      <td>IP_6890425</td>\n",
              "      <td>female</td>\n",
              "      <td>45.0</td>\n",
              "      <td>head/neck</td>\n",
              "      <td>0</td>\n",
              "    </tr>\n",
              "    <tr>\n",
              "      <th>4</th>\n",
              "      <td>ISIC_0074268</td>\n",
              "      <td>IP_8723313</td>\n",
              "      <td>female</td>\n",
              "      <td>55.0</td>\n",
              "      <td>upper extremity</td>\n",
              "      <td>0</td>\n",
              "    </tr>\n",
              "  </tbody>\n",
              "</table>\n",
              "</div>"
            ],
            "text/plain": [
              "     image_name  patient_id  ... anatom_site_general_challenge  target\n",
              "0  ISIC_2637011  IP_7279968  ...                     head/neck       0\n",
              "1  ISIC_0015719  IP_3075186  ...               upper extremity       0\n",
              "2  ISIC_0052212  IP_2842074  ...               lower extremity       0\n",
              "3  ISIC_0068279  IP_6890425  ...                     head/neck       0\n",
              "4  ISIC_0074268  IP_8723313  ...               upper extremity       0\n",
              "\n",
              "[5 rows x 6 columns]"
            ]
          },
          "metadata": {
            "tags": []
          }
        }
      ]
    },
    {
      "cell_type": "code",
      "metadata": {
        "id": "IVP4enma16P9",
        "colab_type": "code",
        "colab": {
          "base_uri": "https://localhost:8080/",
          "height": 204
        },
        "outputId": "9b659e09-acfb-44e4-afa4-7437530e74b4"
      },
      "source": [
        "display(test_df.head())"
      ],
      "execution_count": 19,
      "outputs": [
        {
          "output_type": "display_data",
          "data": {
            "text/html": [
              "<div>\n",
              "<style scoped>\n",
              "    .dataframe tbody tr th:only-of-type {\n",
              "        vertical-align: middle;\n",
              "    }\n",
              "\n",
              "    .dataframe tbody tr th {\n",
              "        vertical-align: top;\n",
              "    }\n",
              "\n",
              "    .dataframe thead th {\n",
              "        text-align: right;\n",
              "    }\n",
              "</style>\n",
              "<table border=\"1\" class=\"dataframe\">\n",
              "  <thead>\n",
              "    <tr style=\"text-align: right;\">\n",
              "      <th></th>\n",
              "      <th>image_name</th>\n",
              "      <th>patient_id</th>\n",
              "      <th>sex</th>\n",
              "      <th>age_approx</th>\n",
              "      <th>anatom_site_general_challenge</th>\n",
              "    </tr>\n",
              "  </thead>\n",
              "  <tbody>\n",
              "    <tr>\n",
              "      <th>0</th>\n",
              "      <td>ISIC_0052060</td>\n",
              "      <td>IP_3579794</td>\n",
              "      <td>male</td>\n",
              "      <td>70.0</td>\n",
              "      <td>NaN</td>\n",
              "    </tr>\n",
              "    <tr>\n",
              "      <th>1</th>\n",
              "      <td>ISIC_0052349</td>\n",
              "      <td>IP_7782715</td>\n",
              "      <td>male</td>\n",
              "      <td>40.0</td>\n",
              "      <td>lower extremity</td>\n",
              "    </tr>\n",
              "    <tr>\n",
              "      <th>2</th>\n",
              "      <td>ISIC_0058510</td>\n",
              "      <td>IP_7960270</td>\n",
              "      <td>female</td>\n",
              "      <td>55.0</td>\n",
              "      <td>torso</td>\n",
              "    </tr>\n",
              "    <tr>\n",
              "      <th>3</th>\n",
              "      <td>ISIC_0073313</td>\n",
              "      <td>IP_6375035</td>\n",
              "      <td>female</td>\n",
              "      <td>50.0</td>\n",
              "      <td>torso</td>\n",
              "    </tr>\n",
              "    <tr>\n",
              "      <th>4</th>\n",
              "      <td>ISIC_0073502</td>\n",
              "      <td>IP_0589375</td>\n",
              "      <td>female</td>\n",
              "      <td>45.0</td>\n",
              "      <td>lower extremity</td>\n",
              "    </tr>\n",
              "  </tbody>\n",
              "</table>\n",
              "</div>"
            ],
            "text/plain": [
              "     image_name  patient_id     sex  age_approx anatom_site_general_challenge\n",
              "0  ISIC_0052060  IP_3579794    male        70.0                           NaN\n",
              "1  ISIC_0052349  IP_7782715    male        40.0               lower extremity\n",
              "2  ISIC_0058510  IP_7960270  female        55.0                         torso\n",
              "3  ISIC_0073313  IP_6375035  female        50.0                         torso\n",
              "4  ISIC_0073502  IP_0589375  female        45.0               lower extremity"
            ]
          },
          "metadata": {
            "tags": []
          }
        }
      ]
    },
    {
      "cell_type": "code",
      "metadata": {
        "id": "7sU-L3BpWsa4",
        "colab_type": "code",
        "colab": {
          "base_uri": "https://localhost:8080/",
          "height": 119
        },
        "outputId": "d0fd06b4-809e-4386-f448-b450db6e87ba"
      },
      "source": [
        "if os.path.exists('siim'):\n",
        "    # Open a file\n",
        "    path = \"siim\"\n",
        "    dirs = os.listdir( path )\n",
        "\n",
        "    # This would print all the files and directories\n",
        "    for file in dirs:\n",
        "        print(file)"
      ],
      "execution_count": 20,
      "outputs": [
        {
          "output_type": "stream",
          "text": [
            "melanoma-hairs\n",
            "res\n",
            "melanoma-external-malignant-256\n",
            "siim-tfrec-cc-512-test\n",
            "siim-tfrec-cc-512-train\n",
            "siim-isic-melanoma-classification\n"
          ],
          "name": "stdout"
        }
      ]
    },
    {
      "cell_type": "code",
      "metadata": {
        "id": "456StsmdDRFn",
        "colab_type": "code",
        "colab": {}
      },
      "source": [
        "# One-hot encoding of anatom_site_general_challenge feature\n",
        "concat = pd.concat([train_df['anatom_site_general_challenge'], test_df['anatom_site_general_challenge']], ignore_index=True)\n",
        "dummies = pd.get_dummies(concat, dummy_na=True, dtype=np.uint8, prefix='site')\n",
        "train_df = pd.concat([train_df, dummies.iloc[:train_df.shape[0]]], axis=1)\n",
        "test_df = pd.concat([test_df, dummies.iloc[train_df.shape[0]:].reset_index(drop=True)], axis=1)\n",
        "\n",
        "# Sex features\n",
        "train_df['sex'] = train_df['sex'].map({'male': 1, 'female': 0})\n",
        "test_df['sex'] = test_df['sex'].map({'male': 1, 'female': 0})\n",
        "train_df['sex'] = train_df['sex'].fillna(-1)\n",
        "test_df['sex'] = test_df['sex'].fillna(-1)\n",
        "\n",
        "# Age features\n",
        "train_age_max = train_df['age_approx'].max()\n",
        "train_df['age_approx'] /= train_age_max\n",
        "test_df['age_approx'] /= train_age_max\n",
        "train_df['age_approx'] = train_df['age_approx'].fillna(0)\n",
        "test_df['age_approx'] = test_df['age_approx'].fillna(0)\n",
        "\n",
        "train_df['patient_id'] = train_df['patient_id'].fillna(0)"
      ],
      "execution_count": 21,
      "outputs": []
    },
    {
      "cell_type": "code",
      "metadata": {
        "id": "YXdI8yZgDRFp",
        "colab_type": "code",
        "colab": {}
      },
      "source": [
        "meta_features = ['sex', 'age_approx'] + [col for col in train_df.columns if 'site_' in col]\n",
        "meta_features.remove('anatom_site_general_challenge')"
      ],
      "execution_count": 22,
      "outputs": []
    },
    {
      "cell_type": "code",
      "metadata": {
        "id": "x_JobjEoDRFs",
        "colab_type": "code",
        "colab": {}
      },
      "source": [
        "test = MelanomaDataset(df=test_df,\n",
        "                       imfolder= PATH+'melanoma-external-malignant-256/test/test/', \n",
        "                       train=False,\n",
        "                       transforms=train_transform,\n",
        "                       meta_features=meta_features)"
      ],
      "execution_count": 23,
      "outputs": []
    },
    {
      "cell_type": "code",
      "metadata": {
        "id": "h3cQaludu11I",
        "colab_type": "code",
        "colab": {
          "base_uri": "https://localhost:8080/",
          "height": 34
        },
        "outputId": "6d20f44c-d0f4-48a8-a398-48a056346667"
      },
      "source": [
        "os.listdir(\"siim/melanoma-external-malignant-256/test/\")"
      ],
      "execution_count": 24,
      "outputs": [
        {
          "output_type": "execute_result",
          "data": {
            "text/plain": [
              "['test']"
            ]
          },
          "metadata": {
            "tags": []
          },
          "execution_count": 24
        }
      ]
    },
    {
      "cell_type": "code",
      "metadata": {
        "id": "_BFDYNTsu2Vn",
        "colab_type": "code",
        "colab": {
          "base_uri": "https://localhost:8080/",
          "height": 1000
        },
        "outputId": "3bc733fb-bff3-4ea2-e202-4d5065075f42"
      },
      "source": [
        "os.listdir(\"siim/melanoma-external-malignant-256/train/train/\")"
      ],
      "execution_count": 25,
      "outputs": [
        {
          "output_type": "execute_result",
          "data": {
            "text/plain": [
              "['ISIC_9652183.jpg',\n",
              " 'ISIC_9816307.jpg',\n",
              " 'ISIC_9749663.jpg',\n",
              " 'ISIC_9602122.jpg',\n",
              " 'ISIC_9918528.jpg',\n",
              " 'ISIC_9603637.jpg',\n",
              " 'ISIC_9732800.jpg',\n",
              " 'ISIC_9852341.jpg',\n",
              " 'ISIC_9680071.jpg',\n",
              " 'ISIC_9618922.jpg',\n",
              " 'ISIC_9835931.jpg',\n",
              " 'ISIC_9882407.jpg',\n",
              " 'ISIC_9893698.jpg',\n",
              " 'ISIC_9661108.jpg',\n",
              " 'ISIC_9867539.jpg',\n",
              " 'ISIC_9709594.jpg',\n",
              " 'ISIC_9800787.jpg',\n",
              " 'ISIC_9596955.jpg',\n",
              " 'ISIC_9617137.jpg',\n",
              " 'ISIC_9596146.jpg',\n",
              " 'ISIC_9628370.jpg',\n",
              " 'ISIC_9721853.jpg',\n",
              " 'ISIC_9909173.jpg',\n",
              " 'ISIC_9712479.jpg',\n",
              " 'ISIC_9789769.jpg',\n",
              " 'ISIC_9903033.jpg',\n",
              " 'ISIC_9596059.jpg',\n",
              " 'ISIC_9790808.jpg',\n",
              " 'ISIC_9887269.jpg',\n",
              " 'ISIC_9772383.jpg',\n",
              " 'ISIC_9799460.jpg',\n",
              " 'ISIC_9780129.jpg',\n",
              " 'ISIC_9775153.jpg',\n",
              " 'ISIC_9728805.jpg',\n",
              " 'ISIC_9764504.jpg',\n",
              " 'ISIC_9677250.jpg',\n",
              " 'ISIC_9649398.jpg',\n",
              " 'ISIC_9891119.jpg',\n",
              " 'ISIC_9782539.jpg',\n",
              " 'ISIC_9586629.jpg',\n",
              " 'ISIC_9712522.jpg',\n",
              " 'ISIC_9732811.jpg',\n",
              " 'ISIC_9823318.jpg',\n",
              " 'ISIC_9883380.jpg',\n",
              " 'ISIC_9708346.jpg',\n",
              " 'ISIC_9879347.jpg',\n",
              " 'ISIC_9657852.jpg',\n",
              " 'ISIC_9874505.jpg',\n",
              " 'ISIC_9847972.jpg',\n",
              " 'ISIC_9906799.jpg',\n",
              " 'ISIC_9716860.jpg',\n",
              " 'ISIC_9851993.jpg',\n",
              " 'ISIC_9703315.jpg',\n",
              " 'ISIC_9690371.jpg',\n",
              " 'ISIC_9649587.jpg',\n",
              " 'ISIC_9626777.jpg',\n",
              " 'ISIC_9670029.jpg',\n",
              " 'ISIC_9711814.jpg',\n",
              " 'ISIC_9859495.jpg',\n",
              " 'ISIC_9638837.jpg',\n",
              " 'ISIC_9733592.jpg',\n",
              " 'ISIC_9870619.jpg',\n",
              " 'ISIC_9718736.jpg',\n",
              " 'ISIC_9884312.jpg',\n",
              " 'ISIC_9610311.jpg',\n",
              " 'ISIC_9895220.jpg',\n",
              " 'ISIC_9753415.jpg',\n",
              " 'ISIC_9854912.jpg',\n",
              " 'ISIC_9643132.jpg',\n",
              " 'ISIC_9692222.jpg',\n",
              " 'ISIC_9774132.jpg',\n",
              " 'ISIC_9863059.jpg',\n",
              " 'ISIC_9597139.jpg',\n",
              " 'ISIC_9919255.jpg',\n",
              " 'ISIC_9870508.jpg',\n",
              " 'ISIC_9743573.jpg',\n",
              " 'ISIC_9711881.jpg',\n",
              " 'ISIC_9775399.jpg',\n",
              " 'ISIC_9732721.jpg',\n",
              " 'ISIC_9886540.jpg',\n",
              " 'ISIC_9697899.jpg',\n",
              " 'ISIC_9751342.jpg',\n",
              " 'ISIC_9861674.jpg',\n",
              " 'ISIC_9828138.jpg',\n",
              " 'ISIC_9927221.jpg',\n",
              " 'ISIC_9665763.jpg',\n",
              " 'ISIC_9779803.jpg',\n",
              " 'ISIC_9837063.jpg',\n",
              " 'ISIC_9789911.jpg',\n",
              " 'ISIC_9740701.jpg',\n",
              " 'ISIC_9828053.jpg',\n",
              " 'ISIC_9724506.jpg',\n",
              " 'ISIC_9598453.jpg',\n",
              " 'ISIC_9603357.jpg',\n",
              " 'ISIC_9699901.jpg',\n",
              " 'ISIC_9696846.jpg',\n",
              " 'ISIC_9887341.jpg',\n",
              " 'ISIC_9923018.jpg',\n",
              " 'ISIC_9795458.jpg',\n",
              " 'ISIC_9743548.jpg',\n",
              " 'ISIC_9888931.jpg',\n",
              " 'ISIC_9818299.jpg',\n",
              " 'ISIC_9886866.jpg',\n",
              " 'ISIC_9724550.jpg',\n",
              " 'ISIC_9880854.jpg',\n",
              " 'ISIC_9809544.jpg',\n",
              " 'ISIC_9648812.jpg',\n",
              " 'ISIC_9590900.jpg',\n",
              " 'ISIC_9663140.jpg',\n",
              " 'ISIC_9882411.jpg',\n",
              " 'ISIC_9828463.jpg',\n",
              " 'ISIC_9894782.jpg',\n",
              " 'ISIC_9734174.jpg',\n",
              " 'ISIC_9700920.jpg',\n",
              " 'ISIC_9784104.jpg',\n",
              " 'ISIC_9797578.jpg',\n",
              " 'ISIC_9756409.jpg',\n",
              " 'ISIC_9731969.jpg',\n",
              " 'ISIC_9863995.jpg',\n",
              " 'ISIC_9739610.jpg',\n",
              " 'ISIC_9812330.jpg',\n",
              " 'ISIC_9710168.jpg',\n",
              " 'ISIC_9815670.jpg',\n",
              " 'ISIC_9783959.jpg',\n",
              " 'ISIC_9640145.jpg',\n",
              " 'ISIC_9670716.jpg',\n",
              " 'ISIC_9839730.jpg',\n",
              " 'ISIC_9638386.jpg',\n",
              " 'ISIC_9849018.jpg',\n",
              " 'ISIC_9798990.jpg',\n",
              " 'ISIC_9683418.jpg',\n",
              " 'ISIC_9888186.jpg',\n",
              " 'ISIC_9864402.jpg',\n",
              " 'ISIC_9776245.jpg',\n",
              " 'ISIC_9712403.jpg',\n",
              " 'ISIC_9865913.jpg',\n",
              " 'ISIC_9879693.jpg',\n",
              " 'ISIC_9881235.jpg',\n",
              " 'ISIC_9626997.jpg',\n",
              " 'ISIC_9758671.jpg',\n",
              " 'ISIC_9764868.jpg',\n",
              " 'ISIC_9625160.jpg',\n",
              " 'ISIC_9627148.jpg',\n",
              " 'ISIC_9819223.jpg',\n",
              " 'ISIC_9726155.jpg',\n",
              " 'ISIC_9655883.jpg',\n",
              " 'ISIC_9749852.jpg',\n",
              " 'ISIC_9767385.jpg',\n",
              " 'ISIC_9606139.jpg',\n",
              " 'ISIC_9782083.jpg',\n",
              " 'ISIC_9756791.jpg',\n",
              " 'ISIC_9587173.jpg',\n",
              " 'ISIC_9839060.jpg',\n",
              " 'ISIC_9605236.jpg',\n",
              " 'ISIC_9665486.jpg',\n",
              " 'ISIC_9930981.jpg',\n",
              " 'ISIC_9669808.jpg',\n",
              " 'ISIC_9640847.jpg',\n",
              " 'ISIC_9765760.jpg',\n",
              " 'ISIC_9855552.jpg',\n",
              " 'ISIC_9637941.jpg',\n",
              " 'ISIC_9615579.jpg',\n",
              " 'ISIC_9923630.jpg',\n",
              " 'ISIC_9662367.jpg',\n",
              " 'ISIC_9707207.jpg',\n",
              " 'ISIC_9914767.jpg',\n",
              " 'ISIC_9817574.jpg',\n",
              " 'ISIC_9918523.jpg',\n",
              " 'ISIC_9847428.jpg',\n",
              " 'ISIC_9684318.jpg',\n",
              " 'ISIC_9604922.jpg',\n",
              " 'ISIC_9711851.jpg',\n",
              " 'ISIC_9783764.jpg',\n",
              " 'ISIC_9866767.jpg',\n",
              " 'ISIC_9856271.jpg',\n",
              " 'ISIC_9759505.jpg',\n",
              " 'ISIC_9726957.jpg',\n",
              " 'ISIC_9834664.jpg',\n",
              " 'ISIC_9878809.jpg',\n",
              " 'ISIC_9630931.jpg',\n",
              " 'ISIC_9659306.jpg',\n",
              " 'ISIC_9885953.jpg',\n",
              " 'ISIC_9641092.jpg',\n",
              " 'ISIC_9907084.jpg',\n",
              " 'ISIC_9787633.jpg',\n",
              " 'ISIC_9921831.jpg',\n",
              " 'ISIC_9917899.jpg',\n",
              " 'ISIC_9806131.jpg',\n",
              " 'ISIC_9696188.jpg',\n",
              " 'ISIC_9716498.jpg',\n",
              " 'ISIC_9888213.jpg',\n",
              " 'ISIC_9896192.jpg',\n",
              " 'ISIC_9821826.jpg',\n",
              " 'ISIC_9684649.jpg',\n",
              " 'ISIC_9755786.jpg',\n",
              " 'ISIC_9721734.jpg',\n",
              " 'ISIC_9885210.jpg',\n",
              " 'ISIC_9652226.jpg',\n",
              " 'ISIC_9632184.jpg',\n",
              " 'ISIC_9638088.jpg',\n",
              " 'ISIC_9685766.jpg',\n",
              " 'ISIC_9844010.jpg',\n",
              " 'ISIC_9651769.jpg',\n",
              " 'ISIC_9768834.jpg',\n",
              " 'ISIC_9771199.jpg',\n",
              " 'ISIC_9683111.jpg',\n",
              " 'ISIC_9632715.jpg',\n",
              " 'ISIC_9746806.jpg',\n",
              " 'ISIC_9632665.jpg',\n",
              " 'ISIC_9887282.jpg',\n",
              " 'ISIC_9648013.jpg',\n",
              " 'ISIC_9636293.jpg',\n",
              " 'ISIC_9725342.jpg',\n",
              " 'ISIC_9865814.jpg',\n",
              " 'ISIC_9589883.jpg',\n",
              " 'ISIC_9606109.jpg',\n",
              " 'ISIC_9866375.jpg',\n",
              " 'ISIC_9634945.jpg',\n",
              " 'ISIC_9680231.jpg',\n",
              " 'ISIC_9891650.jpg',\n",
              " 'ISIC_9752880.jpg',\n",
              " 'ISIC_9778389.jpg',\n",
              " 'ISIC_9649253.jpg',\n",
              " 'ISIC_9884999.jpg',\n",
              " 'ISIC_9744755.jpg',\n",
              " 'ISIC_9793067.jpg',\n",
              " 'ISIC_9861364.jpg',\n",
              " 'ISIC_9608774.jpg',\n",
              " 'ISIC_9886689.jpg',\n",
              " 'ISIC_9611250.jpg',\n",
              " 'ISIC_9902648.jpg',\n",
              " 'ISIC_9874307.jpg',\n",
              " 'ISIC_9679700.jpg',\n",
              " 'ISIC_9828451.jpg',\n",
              " 'ISIC_9627552.jpg',\n",
              " 'ISIC_9686581.jpg',\n",
              " 'ISIC_9586758.jpg',\n",
              " 'ISIC_9745283.jpg',\n",
              " 'ISIC_9660528.jpg',\n",
              " 'ISIC_9681655.jpg',\n",
              " 'ISIC_9615264.jpg',\n",
              " 'ISIC_9669876.jpg',\n",
              " 'ISIC_9646599.jpg',\n",
              " 'ISIC_9738202.jpg',\n",
              " 'ISIC_9775077.jpg',\n",
              " 'ISIC_9635270.jpg',\n",
              " 'ISIC_9594276.jpg',\n",
              " 'ISIC_9642671.jpg',\n",
              " 'ISIC_9826482.jpg',\n",
              " 'ISIC_9824673.jpg',\n",
              " 'ISIC_9724720.jpg',\n",
              " 'ISIC_9691303.jpg',\n",
              " 'ISIC_9643578.jpg',\n",
              " 'ISIC_9713363.jpg',\n",
              " 'ISIC_9725848.jpg',\n",
              " 'ISIC_9845412.jpg',\n",
              " 'ISIC_9625875.jpg',\n",
              " 'ISIC_9797914.jpg',\n",
              " 'ISIC_9886225.jpg',\n",
              " 'ISIC_9719576.jpg',\n",
              " 'ISIC_9843005.jpg',\n",
              " 'ISIC_9699728.jpg',\n",
              " 'ISIC_9775904.jpg',\n",
              " 'ISIC_9733758.jpg',\n",
              " 'ISIC_9795868.jpg',\n",
              " 'ISIC_9644360.jpg',\n",
              " 'ISIC_9648696.jpg',\n",
              " 'ISIC_9622250.jpg',\n",
              " 'ISIC_9829153.jpg',\n",
              " 'ISIC_9909314.jpg',\n",
              " 'ISIC_9829605.jpg',\n",
              " 'ISIC_9888521.jpg',\n",
              " 'ISIC_9920161.jpg',\n",
              " 'ISIC_9637285.jpg',\n",
              " 'ISIC_9829781.jpg',\n",
              " 'ISIC_9808863.jpg',\n",
              " 'ISIC_9716031.jpg',\n",
              " 'ISIC_9752420.jpg',\n",
              " 'ISIC_9840734.jpg',\n",
              " 'ISIC_9855719.jpg',\n",
              " 'ISIC_9677503.jpg',\n",
              " 'ISIC_9824373.jpg',\n",
              " 'ISIC_9743002.jpg',\n",
              " 'ISIC_9830461.jpg',\n",
              " 'ISIC_9588279.jpg',\n",
              " 'ISIC_9693103.jpg',\n",
              " 'ISIC_9709689.jpg',\n",
              " 'ISIC_9918829.jpg',\n",
              " 'ISIC_9632819.jpg',\n",
              " 'ISIC_9863854.jpg',\n",
              " 'ISIC_9744054.jpg',\n",
              " 'ISIC_9744206.jpg',\n",
              " 'ISIC_9743014.jpg',\n",
              " 'ISIC_9848675.jpg',\n",
              " 'ISIC_9821001.jpg',\n",
              " 'ISIC_9889687.jpg',\n",
              " 'ISIC_9615629.jpg',\n",
              " 'ISIC_9766574.jpg',\n",
              " 'ISIC_9760338.jpg',\n",
              " 'ISIC_9915649.jpg',\n",
              " 'ISIC_9584866.jpg',\n",
              " 'ISIC_9808842.jpg',\n",
              " 'ISIC_9885997.jpg',\n",
              " 'ISIC_9832775.jpg',\n",
              " 'ISIC_9794606.jpg',\n",
              " 'ISIC_9805247.jpg',\n",
              " 'ISIC_9626110.jpg',\n",
              " 'ISIC_9648904.jpg',\n",
              " 'ISIC_9608773.jpg',\n",
              " 'ISIC_9787058.jpg',\n",
              " 'ISIC_9918584.jpg',\n",
              " 'ISIC_9796680.jpg',\n",
              " 'ISIC_9913091.jpg',\n",
              " 'ISIC_9689618.jpg',\n",
              " 'ISIC_9609907.jpg',\n",
              " 'ISIC_9702940.jpg',\n",
              " 'ISIC_9883092.jpg',\n",
              " 'ISIC_9917477.jpg',\n",
              " 'ISIC_9892601.jpg',\n",
              " 'ISIC_9651608.jpg',\n",
              " 'ISIC_9821220.jpg',\n",
              " 'ISIC_9673791.jpg',\n",
              " 'ISIC_9882759.jpg',\n",
              " 'ISIC_9687098.jpg',\n",
              " 'ISIC_9687369.jpg',\n",
              " 'ISIC_9745038.jpg',\n",
              " 'ISIC_9858865.jpg',\n",
              " 'ISIC_9643672.jpg',\n",
              " 'ISIC_9621586.jpg',\n",
              " 'ISIC_9617969.jpg',\n",
              " 'ISIC_9834264.jpg',\n",
              " 'ISIC_9736710.jpg',\n",
              " 'ISIC_9729028.jpg',\n",
              " 'ISIC_9662236.jpg',\n",
              " 'ISIC_9900262.jpg',\n",
              " 'ISIC_9770439.jpg',\n",
              " 'ISIC_9816121.jpg',\n",
              " 'ISIC_9590586.jpg',\n",
              " 'ISIC_9721312.jpg',\n",
              " 'ISIC_9833353.jpg',\n",
              " 'ISIC_9846729.jpg',\n",
              " 'ISIC_9899644.jpg',\n",
              " 'ISIC_9824967.jpg',\n",
              " 'ISIC_9731331.jpg',\n",
              " 'ISIC_9907938.jpg',\n",
              " 'ISIC_9776533.jpg',\n",
              " 'ISIC_9644859.jpg',\n",
              " 'ISIC_9699603.jpg',\n",
              " 'ISIC_9752016.jpg',\n",
              " 'ISIC_9853411.jpg',\n",
              " 'ISIC_9709782.jpg',\n",
              " 'ISIC_9907793.jpg',\n",
              " 'ISIC_9848743.jpg',\n",
              " 'ISIC_9746861.jpg',\n",
              " 'ISIC_9587745.jpg',\n",
              " 'ISIC_9791133.jpg',\n",
              " 'ISIC_9603598.jpg',\n",
              " 'ISIC_9688119.jpg',\n",
              " 'ISIC_9682376.jpg',\n",
              " 'ISIC_9587551.jpg',\n",
              " 'ISIC_9785687.jpg',\n",
              " 'ISIC_9827870.jpg',\n",
              " 'ISIC_9599187.jpg',\n",
              " 'ISIC_9659443.jpg',\n",
              " 'ISIC_9851899.jpg',\n",
              " 'ISIC_9756999.jpg',\n",
              " 'ISIC_9794738.jpg',\n",
              " 'ISIC_9603756.jpg',\n",
              " 'ISIC_9711911.jpg',\n",
              " 'ISIC_9748543.jpg',\n",
              " 'ISIC_9747234.jpg',\n",
              " 'ISIC_9789901.jpg',\n",
              " 'ISIC_9684010.jpg',\n",
              " 'ISIC_9817000.jpg',\n",
              " 'ISIC_9834463.jpg',\n",
              " 'ISIC_9590644.jpg',\n",
              " 'ISIC_9627932.jpg',\n",
              " 'ISIC_9647502.jpg',\n",
              " 'ISIC_9783456.jpg',\n",
              " 'ISIC_9667836.jpg',\n",
              " 'ISIC_9838878.jpg',\n",
              " 'ISIC_9847262.jpg',\n",
              " 'ISIC_9843856.jpg',\n",
              " 'ISIC_9806553.jpg',\n",
              " 'ISIC_9933119.jpg',\n",
              " 'ISIC_9786069.jpg',\n",
              " 'ISIC_9663017.jpg',\n",
              " 'ISIC_9679289.jpg',\n",
              " 'ISIC_9764833.jpg',\n",
              " 'ISIC_9892318.jpg',\n",
              " 'ISIC_9884145.jpg',\n",
              " 'ISIC_9749056.jpg',\n",
              " 'ISIC_9930252.jpg',\n",
              " 'ISIC_9814534.jpg',\n",
              " 'ISIC_9787802.jpg',\n",
              " 'ISIC_9760552.jpg',\n",
              " 'ISIC_9932367.jpg',\n",
              " 'ISIC_9861423.jpg',\n",
              " 'ISIC_9680911.jpg',\n",
              " 'ISIC_9775680.jpg',\n",
              " 'ISIC_9636382.jpg',\n",
              " 'ISIC_9685480.jpg',\n",
              " 'ISIC_9655236.jpg',\n",
              " 'ISIC_9871381.jpg',\n",
              " 'ISIC_9747704.jpg',\n",
              " 'ISIC_9661771.jpg',\n",
              " 'ISIC_9706034.jpg',\n",
              " 'ISIC_9742104.jpg',\n",
              " 'ISIC_9658175.jpg',\n",
              " 'ISIC_9859708.jpg',\n",
              " 'ISIC_9746246.jpg',\n",
              " 'ISIC_9599678.jpg',\n",
              " 'ISIC_9712995.jpg',\n",
              " 'ISIC_9772465.jpg',\n",
              " 'ISIC_9926111.jpg',\n",
              " 'ISIC_9844317.jpg',\n",
              " 'ISIC_9698575.jpg',\n",
              " 'ISIC_9595201.jpg',\n",
              " 'ISIC_9685344.jpg',\n",
              " 'ISIC_9583969.jpg',\n",
              " 'ISIC_9590964.jpg',\n",
              " 'ISIC_9694867.jpg',\n",
              " 'ISIC_9909655.jpg',\n",
              " 'ISIC_9837207.jpg',\n",
              " 'ISIC_9893264.jpg',\n",
              " 'ISIC_9611100.jpg',\n",
              " 'ISIC_9699087.jpg',\n",
              " 'ISIC_9781738.jpg',\n",
              " 'ISIC_9582708.jpg',\n",
              " 'ISIC_9687464.jpg',\n",
              " 'ISIC_9855839.jpg',\n",
              " 'ISIC_9720044.jpg',\n",
              " 'ISIC_9764024.jpg',\n",
              " 'ISIC_9626241.jpg',\n",
              " 'ISIC_9820907.jpg',\n",
              " 'ISIC_9783169.jpg',\n",
              " 'ISIC_9631972.jpg',\n",
              " 'ISIC_9895881.jpg',\n",
              " 'ISIC_9663190.jpg',\n",
              " 'ISIC_9829655.jpg',\n",
              " 'ISIC_9685928.jpg',\n",
              " 'ISIC_9654537.jpg',\n",
              " 'ISIC_9626070.jpg',\n",
              " 'ISIC_9916654.jpg',\n",
              " 'ISIC_9616024.jpg',\n",
              " 'ISIC_9637932.jpg',\n",
              " 'ISIC_9753368.jpg',\n",
              " 'ISIC_9743100.jpg',\n",
              " 'ISIC_9820256.jpg',\n",
              " 'ISIC_9866242.jpg',\n",
              " 'ISIC_9886402.jpg',\n",
              " 'ISIC_9820910.jpg',\n",
              " 'ISIC_9654389.jpg',\n",
              " 'ISIC_9877523.jpg',\n",
              " 'ISIC_9810094.jpg',\n",
              " 'ISIC_9728431.jpg',\n",
              " 'ISIC_9654366.jpg',\n",
              " 'ISIC_9893641.jpg',\n",
              " 'ISIC_9855343.jpg',\n",
              " 'ISIC_9796128.jpg',\n",
              " 'ISIC_9788955.jpg',\n",
              " 'ISIC_9788987.jpg',\n",
              " 'ISIC_9625543.jpg',\n",
              " 'ISIC_9829429.jpg',\n",
              " 'ISIC_9924951.jpg',\n",
              " 'ISIC_9880108.jpg',\n",
              " 'ISIC_9654161.jpg',\n",
              " 'ISIC_9636514.jpg',\n",
              " 'ISIC_9910101.jpg',\n",
              " 'ISIC_9741917.jpg',\n",
              " 'ISIC_9688534.jpg',\n",
              " 'ISIC_9830846.jpg',\n",
              " 'ISIC_9820817.jpg',\n",
              " 'ISIC_9603966.jpg',\n",
              " 'ISIC_9659654.jpg',\n",
              " 'ISIC_9634177.jpg',\n",
              " 'ISIC_9922133.jpg',\n",
              " 'ISIC_9852037.jpg',\n",
              " 'ISIC_9777269.jpg',\n",
              " 'ISIC_9837030.jpg',\n",
              " 'ISIC_9929097.jpg',\n",
              " 'ISIC_9730889.jpg',\n",
              " 'ISIC_9868319.jpg',\n",
              " 'ISIC_9666088.jpg',\n",
              " 'ISIC_9825222.jpg',\n",
              " 'ISIC_9594967.jpg',\n",
              " 'ISIC_9870885.jpg',\n",
              " 'ISIC_9839324.jpg',\n",
              " 'ISIC_9672574.jpg',\n",
              " 'ISIC_9757595.jpg',\n",
              " 'ISIC_9629024.jpg',\n",
              " 'ISIC_9810417.jpg',\n",
              " 'ISIC_9765455.jpg',\n",
              " 'ISIC_9804479.jpg',\n",
              " 'ISIC_9760652.jpg',\n",
              " 'ISIC_9928421.jpg',\n",
              " 'ISIC_9880047.jpg',\n",
              " 'ISIC_9709101.jpg',\n",
              " 'ISIC_9924303.jpg',\n",
              " 'ISIC_9791586.jpg',\n",
              " 'ISIC_9595362.jpg',\n",
              " 'ISIC_9811367.jpg',\n",
              " 'ISIC_9675804.jpg',\n",
              " 'ISIC_9913406.jpg',\n",
              " 'ISIC_9665206.jpg',\n",
              " 'ISIC_9842054.jpg',\n",
              " 'ISIC_9815163.jpg',\n",
              " 'ISIC_9876779.jpg',\n",
              " 'ISIC_9650774.jpg',\n",
              " 'ISIC_9634018.jpg',\n",
              " 'ISIC_9721056.jpg',\n",
              " 'ISIC_9693759.jpg',\n",
              " 'ISIC_9925849.jpg',\n",
              " 'ISIC_9599476.jpg',\n",
              " 'ISIC_9629583.jpg',\n",
              " 'ISIC_9838270.jpg',\n",
              " 'ISIC_9926931.jpg',\n",
              " 'ISIC_9760093.jpg',\n",
              " 'ISIC_9752830.jpg',\n",
              " 'ISIC_9728003.jpg',\n",
              " 'ISIC_9915699.jpg',\n",
              " 'ISIC_9745942.jpg',\n",
              " 'ISIC_9596617.jpg',\n",
              " 'ISIC_9900876.jpg',\n",
              " 'ISIC_9723519.jpg',\n",
              " 'ISIC_9666919.jpg',\n",
              " 'ISIC_9770765.jpg',\n",
              " 'ISIC_9649863.jpg',\n",
              " 'ISIC_9725655.jpg',\n",
              " 'ISIC_9593796.jpg',\n",
              " 'ISIC_9822251.jpg',\n",
              " 'ISIC_9766238.jpg',\n",
              " 'ISIC_9745634.jpg',\n",
              " 'ISIC_9729529.jpg',\n",
              " 'ISIC_9869659.jpg',\n",
              " 'ISIC_9756079.jpg',\n",
              " 'ISIC_9657811.jpg',\n",
              " 'ISIC_9899140.jpg',\n",
              " 'ISIC_9613570.jpg',\n",
              " 'ISIC_9742073.jpg',\n",
              " 'ISIC_9694020.jpg',\n",
              " 'ISIC_9695809.jpg',\n",
              " 'ISIC_9595560.jpg',\n",
              " 'ISIC_9649028.jpg',\n",
              " 'ISIC_9664610.jpg',\n",
              " 'ISIC_9876515.jpg',\n",
              " 'ISIC_9755946.jpg',\n",
              " 'ISIC_9877843.jpg',\n",
              " 'ISIC_9612228.jpg',\n",
              " 'ISIC_9863642.jpg',\n",
              " 'ISIC_9854454.jpg',\n",
              " 'ISIC_9905633.jpg',\n",
              " 'ISIC_9704624.jpg',\n",
              " 'ISIC_9914240.jpg',\n",
              " 'ISIC_9636881.jpg',\n",
              " 'ISIC_9840491.jpg',\n",
              " 'ISIC_9857857.jpg',\n",
              " 'ISIC_9788537.jpg',\n",
              " 'ISIC_9590673.jpg',\n",
              " 'ISIC_9789240.jpg',\n",
              " 'ISIC_9800980.jpg',\n",
              " 'ISIC_9778786.jpg',\n",
              " 'ISIC_9731788.jpg',\n",
              " 'ISIC_9810847.jpg',\n",
              " 'ISIC_9803367.jpg',\n",
              " 'ISIC_9786943.jpg',\n",
              " 'ISIC_9614763.jpg',\n",
              " 'ISIC_9725043.jpg',\n",
              " 'ISIC_9612481.jpg',\n",
              " 'ISIC_9806768.jpg',\n",
              " 'ISIC_9667297.jpg',\n",
              " 'ISIC_9716370.jpg',\n",
              " 'ISIC_9828800.jpg',\n",
              " 'ISIC_9773404.jpg',\n",
              " 'ISIC_9638270.jpg',\n",
              " 'ISIC_9627139.jpg',\n",
              " 'ISIC_9853064.jpg',\n",
              " 'ISIC_9631590.jpg',\n",
              " 'ISIC_9621327.jpg',\n",
              " 'ISIC_9749030.jpg',\n",
              " 'ISIC_9625269.jpg',\n",
              " 'ISIC_9744723.jpg',\n",
              " 'ISIC_9722899.jpg',\n",
              " 'ISIC_9616986.jpg',\n",
              " 'ISIC_9874997.jpg',\n",
              " 'ISIC_9685500.jpg',\n",
              " 'ISIC_9695501.jpg',\n",
              " 'ISIC_9777543.jpg',\n",
              " 'ISIC_9794429.jpg',\n",
              " 'ISIC_9808736.jpg',\n",
              " 'ISIC_9918806.jpg',\n",
              " 'ISIC_9764947.jpg',\n",
              " 'ISIC_9901014.jpg',\n",
              " 'ISIC_9880258.jpg',\n",
              " 'ISIC_9921695.jpg',\n",
              " 'ISIC_9858643.jpg',\n",
              " 'ISIC_9691287.jpg',\n",
              " 'ISIC_9851634.jpg',\n",
              " 'ISIC_9845258.jpg',\n",
              " 'ISIC_9698934.jpg',\n",
              " 'ISIC_9658370.jpg',\n",
              " 'ISIC_9821756.jpg',\n",
              " 'ISIC_9699699.jpg',\n",
              " 'ISIC_9739954.jpg',\n",
              " 'ISIC_9593811.jpg',\n",
              " 'ISIC_9668514.jpg',\n",
              " 'ISIC_9889373.jpg',\n",
              " 'ISIC_9739881.jpg',\n",
              " 'ISIC_9906657.jpg',\n",
              " 'ISIC_9714477.jpg',\n",
              " 'ISIC_9898859.jpg',\n",
              " 'ISIC_9601132.jpg',\n",
              " 'ISIC_9753760.jpg',\n",
              " 'ISIC_9750403.jpg',\n",
              " 'ISIC_9750885.jpg',\n",
              " 'ISIC_9788591.jpg',\n",
              " 'ISIC_9595171.jpg',\n",
              " 'ISIC_9792253.jpg',\n",
              " 'ISIC_9824610.jpg',\n",
              " 'ISIC_9822801.jpg',\n",
              " 'ISIC_9815765.jpg',\n",
              " 'ISIC_9821398.jpg',\n",
              " 'ISIC_9921747.jpg',\n",
              " 'ISIC_9740764.jpg',\n",
              " 'ISIC_9667908.jpg',\n",
              " 'ISIC_9608191.jpg',\n",
              " 'ISIC_9671143.jpg',\n",
              " 'ISIC_9919143.jpg',\n",
              " 'ISIC_9607081.jpg',\n",
              " 'ISIC_9822350.jpg',\n",
              " 'ISIC_9854376.jpg',\n",
              " 'ISIC_9889201.jpg',\n",
              " 'ISIC_9833462.jpg',\n",
              " 'ISIC_9795608.jpg',\n",
              " 'ISIC_9670242.jpg',\n",
              " 'ISIC_9807077.jpg',\n",
              " 'ISIC_9860895.jpg',\n",
              " 'ISIC_9751079.jpg',\n",
              " 'ISIC_9768421.jpg',\n",
              " 'ISIC_9805957.jpg',\n",
              " 'ISIC_9669830.jpg',\n",
              " 'ISIC_9825836.jpg',\n",
              " 'ISIC_9750576.jpg',\n",
              " 'ISIC_9608159.jpg',\n",
              " 'ISIC_9590141.jpg',\n",
              " 'ISIC_9617956.jpg',\n",
              " 'ISIC_9813537.jpg',\n",
              " 'ISIC_9657963.jpg',\n",
              " 'ISIC_9619162.jpg',\n",
              " 'ISIC_9808161.jpg',\n",
              " 'ISIC_9813601.jpg',\n",
              " 'ISIC_9846081.jpg',\n",
              " 'ISIC_9693028.jpg',\n",
              " 'ISIC_9800424.jpg',\n",
              " 'ISIC_9767883.jpg',\n",
              " 'ISIC_9899912.jpg',\n",
              " 'ISIC_9720236.jpg',\n",
              " 'ISIC_9639348.jpg',\n",
              " 'ISIC_9597903.jpg',\n",
              " 'ISIC_9819192.jpg',\n",
              " 'ISIC_9607252.jpg',\n",
              " 'ISIC_9699830.jpg',\n",
              " 'ISIC_9699615.jpg',\n",
              " 'ISIC_9931592.jpg',\n",
              " 'ISIC_9657441.jpg',\n",
              " 'ISIC_9720340.jpg',\n",
              " 'ISIC_9705832.jpg',\n",
              " 'ISIC_9618840.jpg',\n",
              " 'ISIC_9668332.jpg',\n",
              " 'ISIC_9749497.jpg',\n",
              " 'ISIC_9891484.jpg',\n",
              " 'ISIC_9788681.jpg',\n",
              " 'ISIC_9668211.jpg',\n",
              " 'ISIC_9910854.jpg',\n",
              " 'ISIC_9706318.jpg',\n",
              " 'ISIC_9688617.jpg',\n",
              " 'ISIC_9642076.jpg',\n",
              " 'ISIC_9898447.jpg',\n",
              " 'ISIC_9827962.jpg',\n",
              " 'ISIC_9701171.jpg',\n",
              " 'ISIC_9836778.jpg',\n",
              " 'ISIC_9853051.jpg',\n",
              " 'ISIC_9596837.jpg',\n",
              " 'ISIC_9882019.jpg',\n",
              " 'ISIC_9764872.jpg',\n",
              " 'ISIC_9652400.jpg',\n",
              " 'ISIC_9928124.jpg',\n",
              " 'ISIC_9896454.jpg',\n",
              " 'ISIC_9785970.jpg',\n",
              " 'ISIC_9780031.jpg',\n",
              " 'ISIC_9719936.jpg',\n",
              " 'ISIC_9889475.jpg',\n",
              " 'ISIC_9847284.jpg',\n",
              " 'ISIC_9889052.jpg',\n",
              " 'ISIC_9829667.jpg',\n",
              " 'ISIC_9595835.jpg',\n",
              " 'ISIC_9862537.jpg',\n",
              " 'ISIC_9764522.jpg',\n",
              " 'ISIC_9669954.jpg',\n",
              " 'ISIC_9719213.jpg',\n",
              " 'ISIC_9736021.jpg',\n",
              " 'ISIC_9802896.jpg',\n",
              " 'ISIC_9800565.jpg',\n",
              " 'ISIC_9710367.jpg',\n",
              " 'ISIC_9770536.jpg',\n",
              " 'ISIC_9743638.jpg',\n",
              " 'ISIC_9823873.jpg',\n",
              " 'ISIC_9745492.jpg',\n",
              " 'ISIC_9597728.jpg',\n",
              " 'ISIC_9927490.jpg',\n",
              " 'ISIC_9889470.jpg',\n",
              " 'ISIC_9791811.jpg',\n",
              " 'ISIC_9901871.jpg',\n",
              " 'ISIC_9828846.jpg',\n",
              " 'ISIC_9794659.jpg',\n",
              " 'ISIC_9722387.jpg',\n",
              " 'ISIC_9590727.jpg',\n",
              " 'ISIC_9891314.jpg',\n",
              " 'ISIC_9907211.jpg',\n",
              " 'ISIC_9607725.jpg',\n",
              " 'ISIC_9603237.jpg',\n",
              " 'ISIC_9861225.jpg',\n",
              " 'ISIC_9747249.jpg',\n",
              " 'ISIC_9877164.jpg',\n",
              " 'ISIC_9924993.jpg',\n",
              " 'ISIC_9637036.jpg',\n",
              " 'ISIC_9870313.jpg',\n",
              " 'ISIC_9851670.jpg',\n",
              " 'ISIC_9900623.jpg',\n",
              " 'ISIC_9648278.jpg',\n",
              " 'ISIC_9711325.jpg',\n",
              " 'ISIC_9892997.jpg',\n",
              " 'ISIC_9873154.jpg',\n",
              " 'ISIC_9690256.jpg',\n",
              " 'ISIC_9829805.jpg',\n",
              " 'ISIC_9836907.jpg',\n",
              " 'ISIC_9714160.jpg',\n",
              " 'ISIC_9672376.jpg',\n",
              " 'ISIC_9898107.jpg',\n",
              " 'ISIC_9723532.jpg',\n",
              " 'ISIC_9826778.jpg',\n",
              " 'ISIC_9783128.jpg',\n",
              " 'ISIC_9884160.jpg',\n",
              " 'ISIC_9842660.jpg',\n",
              " 'ISIC_9660409.jpg',\n",
              " 'ISIC_9643438.jpg',\n",
              " 'ISIC_9830963.jpg',\n",
              " 'ISIC_9871571.jpg',\n",
              " 'ISIC_9842026.jpg',\n",
              " 'ISIC_9631793.jpg',\n",
              " 'ISIC_9778899.jpg',\n",
              " 'ISIC_9622948.jpg',\n",
              " 'ISIC_9892275.jpg',\n",
              " 'ISIC_9646356.jpg',\n",
              " 'ISIC_9828060.jpg',\n",
              " 'ISIC_9683476.jpg',\n",
              " 'ISIC_9593344.jpg',\n",
              " 'ISIC_9643294.jpg',\n",
              " 'ISIC_9740471.jpg',\n",
              " 'ISIC_9761523.jpg',\n",
              " 'ISIC_9917640.jpg',\n",
              " 'ISIC_9691372.jpg',\n",
              " 'ISIC_9868388.jpg',\n",
              " 'ISIC_9718957.jpg',\n",
              " 'ISIC_9598426.jpg',\n",
              " 'ISIC_9927067.jpg',\n",
              " 'ISIC_9761658.jpg',\n",
              " 'ISIC_9844413.jpg',\n",
              " 'ISIC_9869789.jpg',\n",
              " 'ISIC_9771739.jpg',\n",
              " 'ISIC_9910791.jpg',\n",
              " 'ISIC_9749009.jpg',\n",
              " 'ISIC_9748173.jpg',\n",
              " 'ISIC_9925786.jpg',\n",
              " 'ISIC_9797137.jpg',\n",
              " 'ISIC_9643846.jpg',\n",
              " 'ISIC_9758444.jpg',\n",
              " 'ISIC_9639931.jpg',\n",
              " 'ISIC_9713281.jpg',\n",
              " 'ISIC_9676233.jpg',\n",
              " 'ISIC_9638952.jpg',\n",
              " 'ISIC_9642655.jpg',\n",
              " 'ISIC_9878449.jpg',\n",
              " 'ISIC_9973526.jpg',\n",
              " 'ISIC_9968669.jpg',\n",
              " 'ISIC_9959011.jpg',\n",
              " 'ISIC_9977346.jpg',\n",
              " 'ISIC_9954582.jpg',\n",
              " 'ISIC_9982953.jpg',\n",
              " 'ISIC_9977784.jpg',\n",
              " 'ISIC_9955935.jpg',\n",
              " 'ISIC_9947197.jpg',\n",
              " 'ISIC_9994122.jpg',\n",
              " 'ISIC_9978498.jpg',\n",
              " 'ISIC_9955179.jpg',\n",
              " 'ISIC_9997614.jpg',\n",
              " 'ISIC_9971896.jpg',\n",
              " 'ISIC_9965754.jpg',\n",
              " 'ISIC_9966185.jpg',\n",
              " 'ISIC_9985141.jpg',\n",
              " 'ISIC_9936188.jpg',\n",
              " 'ISIC_9978282.jpg',\n",
              " 'ISIC_9933406.jpg',\n",
              " 'ISIC_9994768.jpg',\n",
              " 'ISIC_9981558.jpg',\n",
              " 'ISIC_9964362.jpg',\n",
              " 'ISIC_9965556.jpg',\n",
              " 'ISIC_9994125.jpg',\n",
              " 'ISIC_9995140.jpg',\n",
              " 'ISIC_9969993.jpg',\n",
              " 'ISIC_9980068.jpg',\n",
              " 'ISIC_9939963.jpg',\n",
              " 'ISIC_9944931.jpg',\n",
              " 'ISIC_9995837.jpg',\n",
              " 'ISIC_9982623.jpg',\n",
              " 'ISIC_9959813.jpg',\n",
              " 'ISIC_9966425.jpg',\n",
              " 'ISIC_9986333.jpg',\n",
              " 'ISIC_9973015.jpg',\n",
              " 'ISIC_9994390.jpg',\n",
              " 'ISIC_9987617.jpg',\n",
              " 'ISIC_9976418.jpg',\n",
              " 'ISIC_9962720.jpg',\n",
              " 'ISIC_9948820.jpg',\n",
              " 'ISIC_9999320.jpg',\n",
              " 'ISIC_9975974.jpg',\n",
              " 'ISIC_9955255.jpg',\n",
              " 'ISIC_9939653.jpg',\n",
              " 'ISIC_9944425.jpg',\n",
              " 'ISIC_9934037.jpg',\n",
              " 'ISIC_9982091.jpg',\n",
              " 'ISIC_9946702.jpg',\n",
              " 'ISIC_9957107.jpg',\n",
              " 'ISIC_9960584.jpg',\n",
              " 'ISIC_9957298.jpg',\n",
              " 'ISIC_9936773.jpg',\n",
              " 'ISIC_9981194.jpg',\n",
              " 'ISIC_9935437.jpg',\n",
              " 'ISIC_9956374.jpg',\n",
              " 'ISIC_9964568.jpg',\n",
              " 'ISIC_9978107.jpg',\n",
              " 'ISIC_9963177.jpg',\n",
              " 'ISIC_9968564.jpg',\n",
              " 'ISIC_9991492.jpg',\n",
              " 'ISIC_9962534.jpg',\n",
              " 'ISIC_9935970.jpg',\n",
              " 'ISIC_9999666.jpg',\n",
              " 'ISIC_9958346.jpg',\n",
              " 'ISIC_9959593.jpg',\n",
              " 'ISIC_9976478.jpg',\n",
              " 'ISIC_9947624.jpg',\n",
              " 'ISIC_9979486.jpg',\n",
              " 'ISIC_9954349.jpg',\n",
              " 'ISIC_9987757.jpg',\n",
              " 'ISIC_9969263.jpg',\n",
              " 'ISIC_9975260.jpg',\n",
              " 'ISIC_9982060.jpg',\n",
              " 'ISIC_9979425.jpg',\n",
              " 'ISIC_9974613.jpg',\n",
              " 'ISIC_9945993.jpg',\n",
              " 'ISIC_9944714.jpg',\n",
              " 'ISIC_9990676.jpg',\n",
              " 'ISIC_9985776.jpg',\n",
              " 'ISIC_9954915.jpg',\n",
              " 'ISIC_9989485.jpg',\n",
              " 'ISIC_9956125.jpg',\n",
              " 'ISIC_9960804.jpg',\n",
              " 'ISIC_9935606.jpg',\n",
              " 'ISIC_9973089.jpg',\n",
              " 'ISIC_9972557.jpg',\n",
              " 'ISIC_9973894.jpg',\n",
              " 'ISIC_9989156.jpg',\n",
              " 'ISIC_9935444.jpg',\n",
              " 'ISIC_9949745.jpg',\n",
              " 'ISIC_9998965.jpg',\n",
              " 'ISIC_9992950.jpg',\n",
              " 'ISIC_9999515.jpg',\n",
              " 'ISIC_9940802.jpg',\n",
              " 'ISIC_9961652.jpg',\n",
              " 'ISIC_9996128.jpg',\n",
              " 'ISIC_9954010.jpg',\n",
              " 'ISIC_9998240.jpg',\n",
              " 'ISIC_9983616.jpg',\n",
              " 'ISIC_9945620.jpg',\n",
              " 'ISIC_9999806.jpg',\n",
              " 'ISIC_9952408.jpg',\n",
              " 'ISIC_9972518.jpg',\n",
              " 'ISIC_9957389.jpg',\n",
              " 'ISIC_9991967.jpg',\n",
              " 'ISIC_9956957.jpg',\n",
              " 'ISIC_9989617.jpg',\n",
              " 'ISIC_9980055.jpg',\n",
              " 'ISIC_9999134.jpg',\n",
              " 'ISIC_9959917.jpg',\n",
              " 'ISIC_9952872.jpg',\n",
              " 'ISIC_9950866.jpg',\n",
              " 'ISIC_9989680.jpg',\n",
              " 'ISIC_9970004.jpg',\n",
              " 'ISIC_9987485.jpg',\n",
              " 'ISIC_9941889.jpg',\n",
              " 'ISIC_9942427.jpg',\n",
              " 'ISIC_9977219.jpg',\n",
              " 'ISIC_9951949.jpg',\n",
              " 'ISIC_9985905.jpg',\n",
              " 'ISIC_9944671.jpg',\n",
              " 'ISIC_9969907.jpg',\n",
              " 'ISIC_9940867.jpg',\n",
              " 'ISIC_9971473.jpg',\n",
              " 'ISIC_9950853.jpg',\n",
              " 'ISIC_9956400.jpg',\n",
              " 'ISIC_9952575.jpg',\n",
              " 'ISIC_9995691.jpg',\n",
              " 'ISIC_9962329.jpg',\n",
              " 'ISIC_9945083.jpg',\n",
              " 'ISIC_9989936.jpg',\n",
              " 'ISIC_9958613.jpg',\n",
              " 'ISIC_9956395.jpg',\n",
              " 'ISIC_9961808.jpg',\n",
              " 'ISIC_9947369.jpg',\n",
              " 'ISIC_9998682.jpg',\n",
              " 'ISIC_9986760.jpg',\n",
              " 'ISIC_9938316.jpg',\n",
              " 'ISIC_9974860.jpg',\n",
              " 'ISIC_9967383.jpg',\n",
              " 'ISIC_9939197.jpg',\n",
              " 'ISIC_9962388.jpg',\n",
              " 'ISIC_9994033.jpg',\n",
              " 'ISIC_9974166.jpg',\n",
              " 'ISIC_9995166.jpg',\n",
              " 'ISIC_9937653.jpg',\n",
              " 'ISIC_9989082.jpg',\n",
              " 'ISIC_9942347.jpg',\n",
              " 'ISIC_9981394.jpg',\n",
              " 'ISIC_9973322.jpg',\n",
              " 'ISIC_9960855.jpg',\n",
              " 'ISIC_9989641.jpg',\n",
              " 'ISIC_9998582.jpg',\n",
              " 'ISIC_9964816.jpg',\n",
              " 'ISIC_9933282.jpg',\n",
              " 'ISIC_9963692.jpg',\n",
              " 'ISIC_9975949.jpg',\n",
              " 'ISIC_9979765.jpg',\n",
              " 'ISIC_9965174.jpg',\n",
              " 'ISIC_9936937.jpg',\n",
              " 'ISIC_9938191.jpg',\n",
              " 'ISIC_9978602.jpg',\n",
              " 'ISIC_9948600.jpg',\n",
              " 'ISIC_9980854.jpg',\n",
              " 'ISIC_9966978.jpg',\n",
              " 'ISIC_9946557.jpg',\n",
              " 'ISIC_9978328.jpg',\n",
              " 'ISIC_9955163.jpg',\n",
              " 'ISIC_9983657.jpg',\n",
              " 'ISIC_9991394.jpg',\n",
              " 'ISIC_9964609.jpg',\n",
              " 'ISIC_9979438.jpg',\n",
              " 'ISIC_9938103.jpg',\n",
              " 'ISIC_9999127.jpg',\n",
              " 'ISIC_9938274.jpg',\n",
              " 'ISIC_9934553.jpg',\n",
              " 'ISIC_9967715.jpg',\n",
              " 'ISIC_9956744.jpg',\n",
              " 'ISIC_9948815.jpg',\n",
              " 'ISIC_9997221.jpg',\n",
              " 'ISIC_9971202.jpg',\n",
              " 'ISIC_9933790.jpg',\n",
              " 'ISIC_9957720.jpg',\n",
              " 'ISIC_9941161.jpg',\n",
              " 'ISIC_9967671.jpg',\n",
              " 'ISIC_9963967.jpg',\n",
              " 'ISIC_9973459.jpg',\n",
              " 'ISIC_9998937.jpg',\n",
              " 'ISIC_9981925.jpg',\n",
              " 'ISIC_9975037.jpg',\n",
              " 'ISIC_9977672.jpg',\n",
              " 'ISIC_9955092.jpg',\n",
              " 'ISIC_9986563.jpg',\n",
              " 'ISIC_9943579.jpg',\n",
              " 'ISIC_9983696.jpg',\n",
              " 'ISIC_9988236.jpg',\n",
              " 'ISIC_9945852.jpg',\n",
              " 'ISIC_9958062.jpg',\n",
              " 'ISIC_9971280.jpg',\n",
              " 'ISIC_9986040.jpg',\n",
              " 'ISIC_9996662.jpg',\n",
              " 'ISIC_9985224.jpg',\n",
              " 'ISIC_9960578.jpg',\n",
              " 'ISIC_9944803.jpg',\n",
              " 'ISIC_9988559.jpg',\n",
              " 'ISIC_9987808.jpg',\n",
              " 'ISIC_9933722.jpg',\n",
              " 'ISIC_9965843.jpg',\n",
              " 'ISIC_9940466.jpg',\n",
              " 'ISIC_9991451.jpg',\n",
              " 'ISIC_9998152.jpg',\n",
              " 'ISIC_9946910.jpg',\n",
              " 'ISIC_9974299.jpg',\n",
              " 'ISIC_9977580.jpg',\n",
              " 'ISIC_9988492.jpg',\n",
              " 'ISIC_9934401.jpg',\n",
              " ...]"
            ]
          },
          "metadata": {
            "tags": []
          },
          "execution_count": 25
        }
      ]
    },
    {
      "cell_type": "code",
      "metadata": {
        "id": "4y74i_s_985p",
        "colab_type": "code",
        "colab": {}
      },
      "source": [
        "from tqdm import tqdm\n"
      ],
      "execution_count": 26,
      "outputs": []
    },
    {
      "cell_type": "code",
      "metadata": {
        "id": "_9IdCRfkkDqx",
        "colab_type": "code",
        "colab": {}
      },
      "source": [
        "TRAIN = True"
      ],
      "execution_count": 27,
      "outputs": []
    },
    {
      "cell_type": "code",
      "metadata": {
        "id": "K1MQjMi3DRFu",
        "colab_type": "code",
        "colab": {
          "base_uri": "https://localhost:8080/",
          "height": 1000
        },
        "outputId": "2864a068-6580-45cb-c38f-a4ebc5750a3e"
      },
      "source": [
        "epochs = 20  # Number of epochs to run\n",
        "# model_path = 'model.pth'  # Path and filename to save model to\n",
        "es_patience = 3  # Early Stopping patience - for how many epochs with no improvements to wait\n",
        "TTA = 3 # Test Time Augmentation rounds\n",
        "\n",
        "oof = np.zeros((len(train_df), 1))  # Out Of Fold predictions\n",
        "preds = torch.zeros((len(test), 1), dtype=torch.float32, device=device)  # Predictions for test test\n",
        "\n",
        "# We stratify by target value, thus, according to sklearn StratifiedKFold documentation\n",
        "# We can fill `X` with zeroes of corresponding length to use it as a placeholder\n",
        "# since we only need `y` to stratify the data\n",
        "# for fold, (train_idx, val_idx) in enumerate(skf.split(X=np.zeros(len(train_df)), y=train_df['target']), 1):\n",
        "for fold, (train_idx, val_idx) in enumerate(skf.split(X=np.zeros(len(train_df)), y=train_df['target'], groups=train_df['patient_id'].tolist()), 1):\n",
        "    print('=' * 20, 'Fold', fold, '=' * 20)\n",
        "    sub_dir = os.path.join(outdir,\"{}_fold\".format(fold))\n",
        "    if not os.path.exists(sub_dir):\n",
        "        os.mkdir(sub_dir)\n",
        "    model_path = os.path.join(sub_dir, 'model_{}.pth'.format(fold))\n",
        "    best_val = None  # Best validation score within this fold\n",
        "    patience = es_patience  # Current patience counter\n",
        "    arch = EfficientNet.from_pretrained('efficientnet-b3')\n",
        "    model = Net(arch=arch, n_meta_features=len(meta_features))  # New model for each fold\n",
        "    model = model.to(device)\n",
        "    \n",
        "    \n",
        "    optim = torch.optim.Adam(model.parameters(), lr=0.001)\n",
        "    scheduler = ReduceLROnPlateau(optimizer=optim, mode='max', patience=1, verbose=True, factor=0.2)\n",
        "    criterion = nn.BCEWithLogitsLoss()\n",
        "    \n",
        "    train = MelanomaDataset(df=train_df.iloc[train_idx].reset_index(drop=True), \n",
        "                            imfolder=PATH+'melanoma-external-malignant-256/train/train/', \n",
        "                            train=True, \n",
        "                            transforms=train_transform,\n",
        "                            meta_features=meta_features)\n",
        "    val = MelanomaDataset(df=train_df.iloc[val_idx].reset_index(drop=True), \n",
        "                            imfolder=PATH+'melanoma-external-malignant-256/train/train/', \n",
        "                            train=True, \n",
        "                            transforms=test_transform,\n",
        "                            meta_features=meta_features)\n",
        "    \n",
        "    train_loader = DataLoader(dataset=train, batch_size=64, shuffle=True, num_workers=4)\n",
        "    val_loader = DataLoader(dataset=val, batch_size=16, shuffle=False, num_workers=4)\n",
        "    test_loader = DataLoader(dataset=test, batch_size=16, shuffle=False, num_workers=4)\n",
        "    \n",
        "    for epoch in range(epochs):\n",
        "        # print(\"Enter epoch: \", epoch)\n",
        "        start_time = time.time()\n",
        "        correct = 0\n",
        "        epoch_loss = 0\n",
        "        if TRAIN:\n",
        "            model.train()\n",
        "            for x, y in tqdm(train_loader):\n",
        "                x[0] = torch.tensor(x[0], device=device, dtype=torch.float32)\n",
        "                x[1] = torch.tensor(x[1], device=device, dtype=torch.float32)\n",
        "                # print(x[0].shape)\n",
        "                # print(x[1].shape)\n",
        "                y = torch.tensor(y, device=device, dtype=torch.float32)\n",
        "                # print(y.shape)\n",
        "                optim.zero_grad()\n",
        "                z = model(x)\n",
        "                loss = criterion(z, y.unsqueeze(1))\n",
        "                loss.backward()\n",
        "                optim.step()\n",
        "                pred = torch.round(torch.sigmoid(z))  # round off sigmoid to obtain predictions\n",
        "                correct += (pred.cpu() == y.cpu().unsqueeze(1)).sum().item()  # tracking number of correctly predicted samples\n",
        "                epoch_loss += loss.item()\n",
        "                # print(\"epoch_loss:\", epoch_loss)\n",
        "            train_acc = correct / len(train_idx)\n",
        "\n",
        "            model.eval()  # switch model to the evaluation mode\n",
        "            val_preds = torch.zeros((len(val_idx), 1), dtype=torch.float32, device=device)\n",
        "            with torch.no_grad():  # Do not calculate gradient since we are only predicting\n",
        "                # Predicting on validation set\n",
        "                for j, (x_val, y_val) in enumerate(val_loader):\n",
        "                    x_val[0] = torch.tensor(x_val[0], device=device, dtype=torch.float32)\n",
        "                    x_val[1] = torch.tensor(x_val[1], device=device, dtype=torch.float32)\n",
        "                    y_val = torch.tensor(y_val, device=device, dtype=torch.float32)\n",
        "                    z_val = model(x_val)\n",
        "                    val_pred = torch.sigmoid(z_val)\n",
        "                    val_preds[j*x_val[0].shape[0]:j*x_val[0].shape[0] + x_val[0].shape[0]] = val_pred\n",
        "                val_acc = accuracy_score(train_df.iloc[val_idx]['target'].values, torch.round(val_preds.cpu()))\n",
        "                val_roc = roc_auc_score(train_df.iloc[val_idx]['target'].values, val_preds.cpu())\n",
        "                \n",
        "                print('Epoch {:03}: | Loss: {:.3f} | Train acc: {:.3f} | Val acc: {:.3f} | Val roc_auc: {:.3f} | Training time: {}'.format(\n",
        "                epoch + 1, \n",
        "                epoch_loss, \n",
        "                train_acc, \n",
        "                val_acc, \n",
        "                val_roc, \n",
        "                str(timedelta(seconds=time.time() - start_time))[:7]))\n",
        "                \n",
        "                scheduler.step(val_roc)\n",
        "                # During the first iteration (first epoch) best validation is set to None\n",
        "                if not best_val:\n",
        "                    best_val = val_roc  # So any validation roc_auc we have is the best one for now\n",
        "                    torch.save(model, model_path)  # Saving the model\n",
        "                    continue\n",
        "                    \n",
        "                if val_roc >= best_val:\n",
        "                    best_val = val_roc\n",
        "                    patience = es_patience  # Resetting patience since we have new best validation accuracy\n",
        "                    torch.save(model, model_path)  # Saving current best model\n",
        "                else:\n",
        "                    patience -= 1\n",
        "                    if patience == 0:\n",
        "                        print('Early stopping. Best Val roc_auc: {:.3f}'.format(best_val))\n",
        "                        break\n",
        "    print(\"Load models\")        \n",
        "    model = torch.load(model_path)  # Loading best model of this fold\n",
        "    model.eval()  # switch model to the evaluation mode\n",
        "    val_preds = torch.zeros((len(val_idx), 1), dtype=torch.float32, device=device)\n",
        "    with torch.no_grad():\n",
        "        # Predicting on validation set once again to obtain data for OOF\n",
        "        for j, (x_val, y_val) in enumerate(tqdm(val_loader)):\n",
        "            x_val[0] = torch.tensor(x_val[0], device=device, dtype=torch.float32)\n",
        "            x_val[1] = torch.tensor(x_val[1], device=device, dtype=torch.float32)\n",
        "            y_val = torch.tensor(y_val, device=device, dtype=torch.float32)\n",
        "            z_val = model(x_val)\n",
        "            val_pred = torch.sigmoid(z_val)\n",
        "            val_preds[j*x_val[0].shape[0]:j*x_val[0].shape[0] + x_val[0].shape[0]] = val_pred\n",
        "        oof[val_idx] = val_preds.cpu().numpy()\n",
        "        \n",
        "        # Predicting on test set\n",
        "        for _ in range(TTA):\n",
        "            for i, x_test in enumerate(tqdm(test_loader)):\n",
        "                x_test[0] = torch.tensor(x_test[0], device=device, dtype=torch.float32)\n",
        "                x_test[1] = torch.tensor(x_test[1], device=device, dtype=torch.float32)\n",
        "                z_test = model(x_test)\n",
        "                z_test = torch.sigmoid(z_test)\n",
        "                preds[i*x_test[0].shape[0]:i*x_test[0].shape[0] + x_test[0].shape[0]] += z_test\n",
        "        preds /= TTA\n",
        "    if TRAIN:\n",
        "        del x, y\n",
        "    del train, val, train_loader, val_loader, x_val, y_val\n",
        "    gc.collect()\n",
        "    \n",
        "preds /= skf.n_splits"
      ],
      "execution_count": 28,
      "outputs": [
        {
          "output_type": "stream",
          "text": [
            "==================== Fold 1 ====================\n"
          ],
          "name": "stdout"
        },
        {
          "output_type": "stream",
          "text": [
            "\r  0%|          | 0/471 [00:00<?, ?it/s]"
          ],
          "name": "stderr"
        },
        {
          "output_type": "stream",
          "text": [
            "Loaded pretrained weights for efficientnet-b3\n"
          ],
          "name": "stdout"
        },
        {
          "output_type": "stream",
          "text": [
            "100%|██████████| 471/471 [24:35<00:00,  3.13s/it]\n"
          ],
          "name": "stderr"
        },
        {
          "output_type": "stream",
          "text": [
            "Epoch 001: | Loss: 55.953 | Train acc: 0.963 | Val acc: 0.940 | Val roc_auc: 0.972 | Training time: 0:30:01\n"
          ],
          "name": "stdout"
        },
        {
          "output_type": "stream",
          "text": [
            "100%|██████████| 471/471 [09:04<00:00,  1.16s/it]\n",
            "  0%|          | 0/471 [00:00<?, ?it/s]"
          ],
          "name": "stderr"
        },
        {
          "output_type": "stream",
          "text": [
            "Epoch 002: | Loss: 46.214 | Train acc: 0.971 | Val acc: 0.950 | Val roc_auc: 0.971 | Training time: 0:10:34\n"
          ],
          "name": "stdout"
        },
        {
          "output_type": "stream",
          "text": [
            "100%|██████████| 471/471 [09:05<00:00,  1.16s/it]\n",
            "  0%|          | 0/471 [00:00<?, ?it/s]"
          ],
          "name": "stderr"
        },
        {
          "output_type": "stream",
          "text": [
            "Epoch 003: | Loss: 41.495 | Train acc: 0.975 | Val acc: 0.944 | Val roc_auc: 0.958 | Training time: 0:10:35\n",
            "Epoch     3: reducing learning rate of group 0 to 2.0000e-04.\n"
          ],
          "name": "stdout"
        },
        {
          "output_type": "stream",
          "text": [
            "100%|██████████| 471/471 [09:01<00:00,  1.15s/it]\n"
          ],
          "name": "stderr"
        },
        {
          "output_type": "stream",
          "text": [
            "Epoch 004: | Loss: 34.841 | Train acc: 0.979 | Val acc: 0.945 | Val roc_auc: 0.973 | Training time: 0:10:31\n"
          ],
          "name": "stdout"
        },
        {
          "output_type": "stream",
          "text": [
            "100%|██████████| 471/471 [09:01<00:00,  1.15s/it]\n"
          ],
          "name": "stderr"
        },
        {
          "output_type": "stream",
          "text": [
            "Epoch 005: | Loss: 31.998 | Train acc: 0.980 | Val acc: 0.953 | Val roc_auc: 0.975 | Training time: 0:10:31\n"
          ],
          "name": "stdout"
        },
        {
          "output_type": "stream",
          "text": [
            "100%|██████████| 471/471 [09:03<00:00,  1.15s/it]\n",
            "  0%|          | 0/471 [00:00<?, ?it/s]"
          ],
          "name": "stderr"
        },
        {
          "output_type": "stream",
          "text": [
            "Epoch 006: | Loss: 30.137 | Train acc: 0.981 | Val acc: 0.949 | Val roc_auc: 0.974 | Training time: 0:10:32\n"
          ],
          "name": "stdout"
        },
        {
          "output_type": "stream",
          "text": [
            "100%|██████████| 471/471 [09:03<00:00,  1.15s/it]\n",
            "  0%|          | 0/471 [00:00<?, ?it/s]"
          ],
          "name": "stderr"
        },
        {
          "output_type": "stream",
          "text": [
            "Epoch 007: | Loss: 29.338 | Train acc: 0.982 | Val acc: 0.949 | Val roc_auc: 0.973 | Training time: 0:10:31\n",
            "Epoch     7: reducing learning rate of group 0 to 4.0000e-05.\n"
          ],
          "name": "stdout"
        },
        {
          "output_type": "stream",
          "text": [
            "100%|██████████| 471/471 [09:04<00:00,  1.16s/it]\n"
          ],
          "name": "stderr"
        },
        {
          "output_type": "stream",
          "text": [
            "Epoch 008: | Loss: 26.725 | Train acc: 0.982 | Val acc: 0.951 | Val roc_auc: 0.978 | Training time: 0:10:33\n"
          ],
          "name": "stdout"
        },
        {
          "output_type": "stream",
          "text": [
            "100%|██████████| 471/471 [09:03<00:00,  1.15s/it]\n",
            "  0%|          | 0/471 [00:00<?, ?it/s]"
          ],
          "name": "stderr"
        },
        {
          "output_type": "stream",
          "text": [
            "Epoch 009: | Loss: 25.017 | Train acc: 0.983 | Val acc: 0.950 | Val roc_auc: 0.976 | Training time: 0:10:33\n"
          ],
          "name": "stdout"
        },
        {
          "output_type": "stream",
          "text": [
            "100%|██████████| 471/471 [09:05<00:00,  1.16s/it]\n",
            "  0%|          | 0/471 [00:00<?, ?it/s]"
          ],
          "name": "stderr"
        },
        {
          "output_type": "stream",
          "text": [
            "Epoch 010: | Loss: 24.036 | Train acc: 0.983 | Val acc: 0.951 | Val roc_auc: 0.976 | Training time: 0:10:34\n",
            "Epoch    10: reducing learning rate of group 0 to 8.0000e-06.\n"
          ],
          "name": "stdout"
        },
        {
          "output_type": "stream",
          "text": [
            "100%|██████████| 471/471 [09:05<00:00,  1.16s/it]\n",
            "  0%|          | 0/471 [00:00<?, ?it/s]"
          ],
          "name": "stderr"
        },
        {
          "output_type": "stream",
          "text": [
            "Epoch 011: | Loss: 22.971 | Train acc: 0.985 | Val acc: 0.954 | Val roc_auc: 0.976 | Training time: 0:10:34\n",
            "Early stopping. Best Val roc_auc: 0.978\n",
            "Load models\n"
          ],
          "name": "stdout"
        },
        {
          "output_type": "stream",
          "text": [
            "100%|██████████| 471/471 [01:30<00:00,  5.22it/s]\n",
            "100%|██████████| 687/687 [08:22<00:00,  1.37it/s]\n",
            "100%|██████████| 687/687 [02:08<00:00,  5.36it/s]\n",
            "100%|██████████| 687/687 [02:09<00:00,  5.31it/s]\n"
          ],
          "name": "stderr"
        },
        {
          "output_type": "stream",
          "text": [
            "==================== Fold 2 ====================\n"
          ],
          "name": "stdout"
        },
        {
          "output_type": "stream",
          "text": [
            "\r  0%|          | 0/471 [00:00<?, ?it/s]"
          ],
          "name": "stderr"
        },
        {
          "output_type": "stream",
          "text": [
            "Loaded pretrained weights for efficientnet-b3\n"
          ],
          "name": "stdout"
        },
        {
          "output_type": "stream",
          "text": [
            "100%|██████████| 471/471 [09:02<00:00,  1.15s/it]\n"
          ],
          "name": "stderr"
        },
        {
          "output_type": "stream",
          "text": [
            "Epoch 001: | Loss: 61.108 | Train acc: 0.958 | Val acc: 0.962 | Val roc_auc: 0.956 | Training time: 0:10:32\n"
          ],
          "name": "stdout"
        },
        {
          "output_type": "stream",
          "text": [
            "100%|██████████| 471/471 [09:00<00:00,  1.15s/it]\n"
          ],
          "name": "stderr"
        },
        {
          "output_type": "stream",
          "text": [
            "Epoch 002: | Loss: 49.742 | Train acc: 0.968 | Val acc: 0.976 | Val roc_auc: 0.968 | Training time: 0:10:29\n"
          ],
          "name": "stdout"
        },
        {
          "output_type": "stream",
          "text": [
            "100%|██████████| 471/471 [09:00<00:00,  1.15s/it]\n",
            "  0%|          | 0/471 [00:00<?, ?it/s]"
          ],
          "name": "stderr"
        },
        {
          "output_type": "stream",
          "text": [
            "Epoch 003: | Loss: 45.790 | Train acc: 0.971 | Val acc: 0.903 | Val roc_auc: 0.914 | Training time: 0:10:30\n"
          ],
          "name": "stdout"
        },
        {
          "output_type": "stream",
          "text": [
            "100%|██████████| 471/471 [09:00<00:00,  1.15s/it]\n"
          ],
          "name": "stderr"
        },
        {
          "output_type": "stream",
          "text": [
            "Epoch 004: | Loss: 41.947 | Train acc: 0.973 | Val acc: 0.973 | Val roc_auc: 0.971 | Training time: 0:10:30\n"
          ],
          "name": "stdout"
        },
        {
          "output_type": "stream",
          "text": [
            "100%|██████████| 471/471 [09:05<00:00,  1.16s/it]\n",
            "  0%|          | 0/471 [00:00<?, ?it/s]"
          ],
          "name": "stderr"
        },
        {
          "output_type": "stream",
          "text": [
            "Epoch 005: | Loss: 41.683 | Train acc: 0.973 | Val acc: 0.948 | Val roc_auc: 0.950 | Training time: 0:10:35\n"
          ],
          "name": "stdout"
        },
        {
          "output_type": "stream",
          "text": [
            "100%|██████████| 471/471 [09:04<00:00,  1.16s/it]\n"
          ],
          "name": "stderr"
        },
        {
          "output_type": "stream",
          "text": [
            "Epoch 006: | Loss: 40.603 | Train acc: 0.974 | Val acc: 0.969 | Val roc_auc: 0.972 | Training time: 0:10:33\n"
          ],
          "name": "stdout"
        },
        {
          "output_type": "stream",
          "text": [
            "100%|██████████| 471/471 [09:05<00:00,  1.16s/it]\n",
            "  0%|          | 0/471 [00:00<?, ?it/s]"
          ],
          "name": "stderr"
        },
        {
          "output_type": "stream",
          "text": [
            "Epoch 007: | Loss: 38.628 | Train acc: 0.975 | Val acc: 0.966 | Val roc_auc: 0.971 | Training time: 0:10:35\n"
          ],
          "name": "stdout"
        },
        {
          "output_type": "stream",
          "text": [
            "100%|██████████| 471/471 [09:06<00:00,  1.16s/it]\n",
            "  0%|          | 0/471 [00:00<?, ?it/s]"
          ],
          "name": "stderr"
        },
        {
          "output_type": "stream",
          "text": [
            "Epoch 008: | Loss: 38.447 | Train acc: 0.976 | Val acc: 0.975 | Val roc_auc: 0.971 | Training time: 0:10:36\n",
            "Epoch     8: reducing learning rate of group 0 to 2.0000e-04.\n"
          ],
          "name": "stdout"
        },
        {
          "output_type": "stream",
          "text": [
            "100%|██████████| 471/471 [09:09<00:00,  1.17s/it]\n"
          ],
          "name": "stderr"
        },
        {
          "output_type": "stream",
          "text": [
            "Epoch 009: | Loss: 30.723 | Train acc: 0.980 | Val acc: 0.974 | Val roc_auc: 0.976 | Training time: 0:10:38\n"
          ],
          "name": "stdout"
        },
        {
          "output_type": "stream",
          "text": [
            "100%|██████████| 471/471 [09:07<00:00,  1.16s/it]\n"
          ],
          "name": "stderr"
        },
        {
          "output_type": "stream",
          "text": [
            "Epoch 010: | Loss: 29.120 | Train acc: 0.981 | Val acc: 0.977 | Val roc_auc: 0.978 | Training time: 0:10:37\n"
          ],
          "name": "stdout"
        },
        {
          "output_type": "stream",
          "text": [
            "100%|██████████| 471/471 [09:07<00:00,  1.16s/it]\n",
            "  0%|          | 0/471 [00:00<?, ?it/s]"
          ],
          "name": "stderr"
        },
        {
          "output_type": "stream",
          "text": [
            "Epoch 011: | Loss: 28.107 | Train acc: 0.981 | Val acc: 0.976 | Val roc_auc: 0.977 | Training time: 0:10:36\n"
          ],
          "name": "stdout"
        },
        {
          "output_type": "stream",
          "text": [
            "100%|██████████| 471/471 [09:07<00:00,  1.16s/it]\n",
            "  0%|          | 0/471 [00:00<?, ?it/s]"
          ],
          "name": "stderr"
        },
        {
          "output_type": "stream",
          "text": [
            "Epoch 012: | Loss: 26.734 | Train acc: 0.982 | Val acc: 0.979 | Val roc_auc: 0.977 | Training time: 0:10:36\n",
            "Epoch    12: reducing learning rate of group 0 to 4.0000e-05.\n"
          ],
          "name": "stdout"
        },
        {
          "output_type": "stream",
          "text": [
            "100%|██████████| 471/471 [09:06<00:00,  1.16s/it]\n",
            "  0%|          | 0/471 [00:00<?, ?it/s]"
          ],
          "name": "stderr"
        },
        {
          "output_type": "stream",
          "text": [
            "Epoch 013: | Loss: 23.351 | Train acc: 0.984 | Val acc: 0.976 | Val roc_auc: 0.976 | Training time: 0:10:36\n",
            "Early stopping. Best Val roc_auc: 0.978\n",
            "Load models\n"
          ],
          "name": "stdout"
        },
        {
          "output_type": "stream",
          "text": [
            "100%|██████████| 471/471 [01:31<00:00,  5.16it/s]\n",
            "100%|██████████| 687/687 [02:08<00:00,  5.34it/s]\n",
            "100%|██████████| 687/687 [02:08<00:00,  5.33it/s]\n",
            "100%|██████████| 687/687 [02:09<00:00,  5.31it/s]\n"
          ],
          "name": "stderr"
        },
        {
          "output_type": "stream",
          "text": [
            "==================== Fold 3 ====================\n"
          ],
          "name": "stdout"
        },
        {
          "output_type": "stream",
          "text": [
            "\r  0%|          | 0/471 [00:00<?, ?it/s]"
          ],
          "name": "stderr"
        },
        {
          "output_type": "stream",
          "text": [
            "Loaded pretrained weights for efficientnet-b3\n"
          ],
          "name": "stdout"
        },
        {
          "output_type": "stream",
          "text": [
            "100%|██████████| 471/471 [09:07<00:00,  1.16s/it]\n"
          ],
          "name": "stderr"
        },
        {
          "output_type": "stream",
          "text": [
            "Epoch 001: | Loss: 59.597 | Train acc: 0.959 | Val acc: 0.966 | Val roc_auc: 0.906 | Training time: 0:10:37\n"
          ],
          "name": "stdout"
        },
        {
          "output_type": "stream",
          "text": [
            "100%|██████████| 471/471 [09:08<00:00,  1.16s/it]\n"
          ],
          "name": "stderr"
        },
        {
          "output_type": "stream",
          "text": [
            "Epoch 002: | Loss: 47.005 | Train acc: 0.969 | Val acc: 0.973 | Val roc_auc: 0.964 | Training time: 0:10:38\n"
          ],
          "name": "stdout"
        },
        {
          "output_type": "stream",
          "text": [
            "100%|██████████| 471/471 [09:08<00:00,  1.16s/it]\n",
            "  0%|          | 0/471 [00:00<?, ?it/s]"
          ],
          "name": "stderr"
        },
        {
          "output_type": "stream",
          "text": [
            "Epoch 003: | Loss: 44.274 | Train acc: 0.972 | Val acc: 0.967 | Val roc_auc: 0.961 | Training time: 0:10:37\n"
          ],
          "name": "stdout"
        },
        {
          "output_type": "stream",
          "text": [
            "100%|██████████| 471/471 [09:05<00:00,  1.16s/it]\n"
          ],
          "name": "stderr"
        },
        {
          "output_type": "stream",
          "text": [
            "Epoch 004: | Loss: 41.617 | Train acc: 0.973 | Val acc: 0.972 | Val roc_auc: 0.964 | Training time: 0:10:35\n"
          ],
          "name": "stdout"
        },
        {
          "output_type": "stream",
          "text": [
            "100%|██████████| 471/471 [09:01<00:00,  1.15s/it]\n",
            "  0%|          | 0/471 [00:00<?, ?it/s]"
          ],
          "name": "stderr"
        },
        {
          "output_type": "stream",
          "text": [
            "Epoch 005: | Loss: 40.450 | Train acc: 0.973 | Val acc: 0.960 | Val roc_auc: 0.957 | Training time: 0:10:30\n"
          ],
          "name": "stdout"
        },
        {
          "output_type": "stream",
          "text": [
            "100%|██████████| 471/471 [09:04<00:00,  1.16s/it]\n"
          ],
          "name": "stderr"
        },
        {
          "output_type": "stream",
          "text": [
            "Epoch 006: | Loss: 37.696 | Train acc: 0.976 | Val acc: 0.968 | Val roc_auc: 0.967 | Training time: 0:10:33\n"
          ],
          "name": "stdout"
        },
        {
          "output_type": "stream",
          "text": [
            "100%|██████████| 471/471 [09:02<00:00,  1.15s/it]\n",
            "  0%|          | 0/471 [00:00<?, ?it/s]"
          ],
          "name": "stderr"
        },
        {
          "output_type": "stream",
          "text": [
            "Epoch 007: | Loss: 36.759 | Train acc: 0.977 | Val acc: 0.964 | Val roc_auc: 0.957 | Training time: 0:10:31\n"
          ],
          "name": "stdout"
        },
        {
          "output_type": "stream",
          "text": [
            "100%|██████████| 471/471 [09:01<00:00,  1.15s/it]\n"
          ],
          "name": "stderr"
        },
        {
          "output_type": "stream",
          "text": [
            "Epoch 008: | Loss: 36.222 | Train acc: 0.977 | Val acc: 0.976 | Val roc_auc: 0.969 | Training time: 0:10:30\n"
          ],
          "name": "stdout"
        },
        {
          "output_type": "stream",
          "text": [
            "100%|██████████| 471/471 [09:05<00:00,  1.16s/it]\n",
            "  0%|          | 0/471 [00:00<?, ?it/s]"
          ],
          "name": "stderr"
        },
        {
          "output_type": "stream",
          "text": [
            "Epoch 009: | Loss: 34.899 | Train acc: 0.977 | Val acc: 0.967 | Val roc_auc: 0.965 | Training time: 0:10:34\n"
          ],
          "name": "stdout"
        },
        {
          "output_type": "stream",
          "text": [
            "100%|██████████| 471/471 [09:03<00:00,  1.15s/it]\n",
            "  0%|          | 0/471 [00:00<?, ?it/s]"
          ],
          "name": "stderr"
        },
        {
          "output_type": "stream",
          "text": [
            "Epoch 010: | Loss: 34.483 | Train acc: 0.977 | Val acc: 0.966 | Val roc_auc: 0.963 | Training time: 0:10:32\n",
            "Epoch    10: reducing learning rate of group 0 to 2.0000e-04.\n"
          ],
          "name": "stdout"
        },
        {
          "output_type": "stream",
          "text": [
            "100%|██████████| 471/471 [09:03<00:00,  1.15s/it]\n"
          ],
          "name": "stderr"
        },
        {
          "output_type": "stream",
          "text": [
            "Epoch 011: | Loss: 28.030 | Train acc: 0.981 | Val acc: 0.973 | Val roc_auc: 0.971 | Training time: 0:10:32\n"
          ],
          "name": "stdout"
        },
        {
          "output_type": "stream",
          "text": [
            "100%|██████████| 471/471 [09:04<00:00,  1.16s/it]\n"
          ],
          "name": "stderr"
        },
        {
          "output_type": "stream",
          "text": [
            "Epoch 012: | Loss: 25.162 | Train acc: 0.982 | Val acc: 0.973 | Val roc_auc: 0.972 | Training time: 0:10:34\n"
          ],
          "name": "stdout"
        },
        {
          "output_type": "stream",
          "text": [
            "100%|██████████| 471/471 [09:03<00:00,  1.15s/it]\n"
          ],
          "name": "stderr"
        },
        {
          "output_type": "stream",
          "text": [
            "Epoch 013: | Loss: 24.156 | Train acc: 0.984 | Val acc: 0.977 | Val roc_auc: 0.973 | Training time: 0:10:34\n"
          ],
          "name": "stdout"
        },
        {
          "output_type": "stream",
          "text": [
            "100%|██████████| 471/471 [09:11<00:00,  1.17s/it]\n",
            "  0%|          | 0/471 [00:00<?, ?it/s]"
          ],
          "name": "stderr"
        },
        {
          "output_type": "stream",
          "text": [
            "Epoch 014: | Loss: 22.486 | Train acc: 0.984 | Val acc: 0.974 | Val roc_auc: 0.972 | Training time: 0:10:42\n"
          ],
          "name": "stdout"
        },
        {
          "output_type": "stream",
          "text": [
            "100%|██████████| 471/471 [09:10<00:00,  1.17s/it]\n",
            "  0%|          | 0/471 [00:00<?, ?it/s]"
          ],
          "name": "stderr"
        },
        {
          "output_type": "stream",
          "text": [
            "Epoch 015: | Loss: 22.206 | Train acc: 0.985 | Val acc: 0.965 | Val roc_auc: 0.969 | Training time: 0:10:41\n",
            "Epoch    15: reducing learning rate of group 0 to 4.0000e-05.\n"
          ],
          "name": "stdout"
        },
        {
          "output_type": "stream",
          "text": [
            "100%|██████████| 471/471 [09:11<00:00,  1.17s/it]\n",
            "  0%|          | 0/471 [00:00<?, ?it/s]"
          ],
          "name": "stderr"
        },
        {
          "output_type": "stream",
          "text": [
            "Epoch 016: | Loss: 19.375 | Train acc: 0.986 | Val acc: 0.975 | Val roc_auc: 0.972 | Training time: 0:10:42\n",
            "Early stopping. Best Val roc_auc: 0.973\n",
            "Load models\n"
          ],
          "name": "stdout"
        },
        {
          "output_type": "stream",
          "text": [
            "100%|██████████| 471/471 [01:31<00:00,  5.12it/s]\n",
            "100%|██████████| 687/687 [02:07<00:00,  5.38it/s]\n",
            "100%|██████████| 687/687 [02:06<00:00,  5.43it/s]\n",
            "100%|██████████| 687/687 [02:07<00:00,  5.38it/s]\n"
          ],
          "name": "stderr"
        },
        {
          "output_type": "stream",
          "text": [
            "==================== Fold 4 ====================\n"
          ],
          "name": "stdout"
        },
        {
          "output_type": "stream",
          "text": [
            "\r  0%|          | 0/471 [00:00<?, ?it/s]"
          ],
          "name": "stderr"
        },
        {
          "output_type": "stream",
          "text": [
            "Loaded pretrained weights for efficientnet-b3\n"
          ],
          "name": "stdout"
        },
        {
          "output_type": "stream",
          "text": [
            "100%|██████████| 471/471 [09:03<00:00,  1.15s/it]\n"
          ],
          "name": "stderr"
        },
        {
          "output_type": "stream",
          "text": [
            "Epoch 001: | Loss: 58.747 | Train acc: 0.961 | Val acc: 0.966 | Val roc_auc: 0.962 | Training time: 0:10:31\n"
          ],
          "name": "stdout"
        },
        {
          "output_type": "stream",
          "text": [
            "100%|██████████| 471/471 [09:01<00:00,  1.15s/it]\n",
            "  0%|          | 0/471 [00:00<?, ?it/s]"
          ],
          "name": "stderr"
        },
        {
          "output_type": "stream",
          "text": [
            "Epoch 002: | Loss: 47.961 | Train acc: 0.968 | Val acc: 0.972 | Val roc_auc: 0.955 | Training time: 0:10:30\n"
          ],
          "name": "stdout"
        },
        {
          "output_type": "stream",
          "text": [
            "100%|██████████| 471/471 [09:04<00:00,  1.16s/it]\n"
          ],
          "name": "stderr"
        },
        {
          "output_type": "stream",
          "text": [
            "Epoch 003: | Loss: 43.378 | Train acc: 0.972 | Val acc: 0.964 | Val roc_auc: 0.964 | Training time: 0:10:31\n"
          ],
          "name": "stdout"
        },
        {
          "output_type": "stream",
          "text": [
            "100%|██████████| 471/471 [08:53<00:00,  1.13s/it]\n",
            "  0%|          | 0/471 [00:00<?, ?it/s]"
          ],
          "name": "stderr"
        },
        {
          "output_type": "stream",
          "text": [
            "Epoch 004: | Loss: 40.689 | Train acc: 0.973 | Val acc: 0.966 | Val roc_auc: 0.959 | Training time: 0:10:20\n"
          ],
          "name": "stdout"
        },
        {
          "output_type": "stream",
          "text": [
            "100%|██████████| 471/471 [08:58<00:00,  1.14s/it]\n"
          ],
          "name": "stderr"
        },
        {
          "output_type": "stream",
          "text": [
            "Epoch 005: | Loss: 38.951 | Train acc: 0.974 | Val acc: 0.963 | Val roc_auc: 0.966 | Training time: 0:10:28\n"
          ],
          "name": "stdout"
        },
        {
          "output_type": "stream",
          "text": [
            "100%|██████████| 471/471 [09:01<00:00,  1.15s/it]\n",
            "  0%|          | 0/471 [00:00<?, ?it/s]"
          ],
          "name": "stderr"
        },
        {
          "output_type": "stream",
          "text": [
            "Epoch 006: | Loss: 38.111 | Train acc: 0.975 | Val acc: 0.964 | Val roc_auc: 0.962 | Training time: 0:10:29\n"
          ],
          "name": "stdout"
        },
        {
          "output_type": "stream",
          "text": [
            "100%|██████████| 471/471 [08:59<00:00,  1.14s/it]\n"
          ],
          "name": "stderr"
        },
        {
          "output_type": "stream",
          "text": [
            "Epoch 007: | Loss: 35.976 | Train acc: 0.976 | Val acc: 0.969 | Val roc_auc: 0.967 | Training time: 0:10:26\n"
          ],
          "name": "stdout"
        },
        {
          "output_type": "stream",
          "text": [
            "100%|██████████| 471/471 [08:56<00:00,  1.14s/it]\n",
            "  0%|          | 0/471 [00:00<?, ?it/s]"
          ],
          "name": "stderr"
        },
        {
          "output_type": "stream",
          "text": [
            "Epoch 008: | Loss: 35.954 | Train acc: 0.976 | Val acc: 0.944 | Val roc_auc: 0.938 | Training time: 0:10:23\n"
          ],
          "name": "stdout"
        },
        {
          "output_type": "stream",
          "text": [
            "100%|██████████| 471/471 [09:02<00:00,  1.15s/it]\n",
            "  0%|          | 0/471 [00:00<?, ?it/s]"
          ],
          "name": "stderr"
        },
        {
          "output_type": "stream",
          "text": [
            "Epoch 009: | Loss: 35.476 | Train acc: 0.976 | Val acc: 0.968 | Val roc_auc: 0.965 | Training time: 0:10:31\n",
            "Epoch     9: reducing learning rate of group 0 to 2.0000e-04.\n"
          ],
          "name": "stdout"
        },
        {
          "output_type": "stream",
          "text": [
            "100%|██████████| 471/471 [09:03<00:00,  1.15s/it]\n",
            "  0%|          | 0/471 [00:00<?, ?it/s]"
          ],
          "name": "stderr"
        },
        {
          "output_type": "stream",
          "text": [
            "Epoch 010: | Loss: 28.022 | Train acc: 0.981 | Val acc: 0.972 | Val roc_auc: 0.966 | Training time: 0:10:32\n",
            "Early stopping. Best Val roc_auc: 0.967\n",
            "Load models\n"
          ],
          "name": "stdout"
        },
        {
          "output_type": "stream",
          "text": [
            "100%|██████████| 471/471 [01:30<00:00,  5.18it/s]\n",
            "100%|██████████| 687/687 [02:07<00:00,  5.41it/s]\n",
            "100%|██████████| 687/687 [02:07<00:00,  5.39it/s]\n",
            "100%|██████████| 687/687 [02:14<00:00,  5.12it/s]\n"
          ],
          "name": "stderr"
        },
        {
          "output_type": "stream",
          "text": [
            "==================== Fold 5 ====================\n"
          ],
          "name": "stdout"
        },
        {
          "output_type": "stream",
          "text": [
            "\r  0%|          | 0/471 [00:00<?, ?it/s]"
          ],
          "name": "stderr"
        },
        {
          "output_type": "stream",
          "text": [
            "Loaded pretrained weights for efficientnet-b3\n"
          ],
          "name": "stdout"
        },
        {
          "output_type": "stream",
          "text": [
            "100%|██████████| 471/471 [09:23<00:00,  1.20s/it]\n"
          ],
          "name": "stderr"
        },
        {
          "output_type": "stream",
          "text": [
            "Epoch 001: | Loss: 58.419 | Train acc: 0.959 | Val acc: 0.967 | Val roc_auc: 0.949 | Training time: 0:10:56\n"
          ],
          "name": "stdout"
        },
        {
          "output_type": "stream",
          "text": [
            "100%|██████████| 471/471 [09:24<00:00,  1.20s/it]\n"
          ],
          "name": "stderr"
        },
        {
          "output_type": "stream",
          "text": [
            "Epoch 002: | Loss: 46.716 | Train acc: 0.970 | Val acc: 0.966 | Val roc_auc: 0.968 | Training time: 0:10:54\n"
          ],
          "name": "stdout"
        },
        {
          "output_type": "stream",
          "text": [
            "100%|██████████| 471/471 [09:09<00:00,  1.17s/it]\n",
            "  0%|          | 0/471 [00:00<?, ?it/s]"
          ],
          "name": "stderr"
        },
        {
          "output_type": "stream",
          "text": [
            "Epoch 003: | Loss: 44.133 | Train acc: 0.972 | Val acc: 0.964 | Val roc_auc: 0.960 | Training time: 0:10:39\n"
          ],
          "name": "stdout"
        },
        {
          "output_type": "stream",
          "text": [
            "100%|██████████| 471/471 [09:09<00:00,  1.17s/it]\n",
            "  0%|          | 0/471 [00:00<?, ?it/s]"
          ],
          "name": "stderr"
        },
        {
          "output_type": "stream",
          "text": [
            "Epoch 004: | Loss: 43.417 | Train acc: 0.974 | Val acc: 0.874 | Val roc_auc: 0.898 | Training time: 0:10:39\n",
            "Epoch     4: reducing learning rate of group 0 to 2.0000e-04.\n"
          ],
          "name": "stdout"
        },
        {
          "output_type": "stream",
          "text": [
            "100%|██████████| 471/471 [09:10<00:00,  1.17s/it]\n"
          ],
          "name": "stderr"
        },
        {
          "output_type": "stream",
          "text": [
            "Epoch 005: | Loss: 34.382 | Train acc: 0.977 | Val acc: 0.970 | Val roc_auc: 0.976 | Training time: 0:10:40\n"
          ],
          "name": "stdout"
        },
        {
          "output_type": "stream",
          "text": [
            "100%|██████████| 471/471 [09:11<00:00,  1.17s/it]\n",
            "  0%|          | 0/471 [00:00<?, ?it/s]"
          ],
          "name": "stderr"
        },
        {
          "output_type": "stream",
          "text": [
            "Epoch 006: | Loss: 31.900 | Train acc: 0.979 | Val acc: 0.974 | Val roc_auc: 0.975 | Training time: 0:10:42\n"
          ],
          "name": "stdout"
        },
        {
          "output_type": "stream",
          "text": [
            "100%|██████████| 471/471 [09:11<00:00,  1.17s/it]\n",
            "  0%|          | 0/471 [00:00<?, ?it/s]"
          ],
          "name": "stderr"
        },
        {
          "output_type": "stream",
          "text": [
            "Epoch 007: | Loss: 30.002 | Train acc: 0.981 | Val acc: 0.971 | Val roc_auc: 0.974 | Training time: 0:10:42\n",
            "Epoch     7: reducing learning rate of group 0 to 4.0000e-05.\n"
          ],
          "name": "stdout"
        },
        {
          "output_type": "stream",
          "text": [
            "100%|██████████| 471/471 [09:11<00:00,  1.17s/it]\n"
          ],
          "name": "stderr"
        },
        {
          "output_type": "stream",
          "text": [
            "Epoch 008: | Loss: 27.636 | Train acc: 0.982 | Val acc: 0.974 | Val roc_auc: 0.977 | Training time: 0:10:41\n"
          ],
          "name": "stdout"
        },
        {
          "output_type": "stream",
          "text": [
            "100%|██████████| 471/471 [09:10<00:00,  1.17s/it]\n",
            "  0%|          | 0/471 [00:00<?, ?it/s]"
          ],
          "name": "stderr"
        },
        {
          "output_type": "stream",
          "text": [
            "Epoch 009: | Loss: 26.746 | Train acc: 0.982 | Val acc: 0.973 | Val roc_auc: 0.977 | Training time: 0:10:41\n"
          ],
          "name": "stdout"
        },
        {
          "output_type": "stream",
          "text": [
            "100%|██████████| 471/471 [09:11<00:00,  1.17s/it]\n",
            "  0%|          | 0/471 [00:00<?, ?it/s]"
          ],
          "name": "stderr"
        },
        {
          "output_type": "stream",
          "text": [
            "Epoch 010: | Loss: 26.528 | Train acc: 0.982 | Val acc: 0.973 | Val roc_auc: 0.977 | Training time: 0:10:42\n",
            "Epoch    10: reducing learning rate of group 0 to 8.0000e-06.\n"
          ],
          "name": "stdout"
        },
        {
          "output_type": "stream",
          "text": [
            "100%|██████████| 471/471 [09:10<00:00,  1.17s/it]\n",
            "  0%|          | 0/471 [00:00<?, ?it/s]"
          ],
          "name": "stderr"
        },
        {
          "output_type": "stream",
          "text": [
            "Epoch 011: | Loss: 24.504 | Train acc: 0.983 | Val acc: 0.973 | Val roc_auc: 0.977 | Training time: 0:10:41\n",
            "Early stopping. Best Val roc_auc: 0.977\n",
            "Load models\n"
          ],
          "name": "stdout"
        },
        {
          "output_type": "stream",
          "text": [
            "100%|██████████| 471/471 [01:31<00:00,  5.13it/s]\n",
            "100%|██████████| 687/687 [02:10<00:00,  5.27it/s]\n",
            "100%|██████████| 687/687 [02:10<00:00,  5.27it/s]\n",
            "100%|██████████| 687/687 [02:10<00:00,  5.28it/s]\n"
          ],
          "name": "stderr"
        }
      ]
    },
    {
      "cell_type": "code",
      "metadata": {
        "id": "7pqGomaEkoXJ",
        "colab_type": "code",
        "colab": {}
      },
      "source": [
        ""
      ],
      "execution_count": 28,
      "outputs": []
    },
    {
      "cell_type": "code",
      "metadata": {
        "id": "dR0JtnDXDRFw",
        "colab_type": "code",
        "colab": {
          "base_uri": "https://localhost:8080/",
          "height": 34
        },
        "outputId": "8de56361-d859-4023-ed3a-e51586c50b46"
      },
      "source": [
        "print('OOF: {:.3f}'.format(roc_auc_score(train_df['target'], oof)))"
      ],
      "execution_count": 29,
      "outputs": [
        {
          "output_type": "stream",
          "text": [
            "OOF: 0.974\n"
          ],
          "name": "stdout"
        }
      ]
    },
    {
      "cell_type": "code",
      "metadata": {
        "id": "_hM_Ji9LDRFy",
        "colab_type": "code",
        "colab": {
          "base_uri": "https://localhost:8080/",
          "height": 265
        },
        "outputId": "dd639ffd-40d6-427f-e447-29d1e0d15fd3"
      },
      "source": [
        "sns.kdeplot(pd.Series(preds.cpu().numpy().reshape(-1,)));"
      ],
      "execution_count": 30,
      "outputs": [
        {
          "output_type": "display_data",
          "data": {
            "image/png": "[encoded data removed]",
            "text/plain": [
              "<Figure size 432x288 with 1 Axes>"
            ]
          },
          "metadata": {
            "tags": [],
            "needs_background": "light"
          }
        }
      ]
    },
    {
      "cell_type": "code",
      "metadata": {
        "id": "iHwj46HPDRF0",
        "colab_type": "code",
        "colab": {}
      },
      "source": [
        "# Saving OOF predictions so stacking would be easier\n",
        "pd.Series(oof.reshape(-1,)).to_csv(os.path.join(outdir,'oof.csv'), index=False)"
      ],
      "execution_count": 31,
      "outputs": []
    },
    {
      "cell_type": "code",
      "metadata": {
        "id": "h6FBQ1cJDRF2",
        "colab_type": "code",
        "colab": {}
      },
      "source": [
        "if Kaggle:\n",
        "    sub = pd.read_csv(PATH+'siim-isic-melanoma-classification/sample_submission.csv')\n",
        "else:\n",
        "    sub = pd.read_csv(PATH+ 'melanoma-external-malignant-256/sample_submission.csv')\n",
        "sub['target'] = preds.cpu().numpy().reshape(-1,)\n",
        "sub.to_csv(os.path.join(outdir,'submission.csv'), index=False)"
      ],
      "execution_count": 32,
      "outputs": []
    },
    {
      "cell_type": "code",
      "metadata": {
        "id": "dYpH3t5bvrkF",
        "colab_type": "code",
        "colab": {
          "base_uri": "https://localhost:8080/",
          "height": 34
        },
        "outputId": "d554e9b5-4a70-4896-e769-537ef4a86f7c"
      },
      "source": [
        "print(outdir)"
      ],
      "execution_count": 33,
      "outputs": [
        {
          "output_type": "stream",
          "text": [
            "siim/res/efficientnet-res/EF3/all-v2\n"
          ],
          "name": "stdout"
        }
      ]
    }
  ]
}